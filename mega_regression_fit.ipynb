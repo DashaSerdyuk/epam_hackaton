{
 "cells": [
  {
   "cell_type": "code",
   "execution_count": 1,
   "metadata": {
    "collapsed": true
   },
   "outputs": [],
   "source": [
    "import pandas as pd\n",
    "import numpy as np\n",
    "from bs4 import BeautifulSoup\n",
    "import requests\n",
    "import pickle\n",
    "import matplotlib.pyplot as plt\n",
    "%matplotlib inline"
   ]
  },
  {
   "cell_type": "code",
   "execution_count": 2,
   "metadata": {
    "collapsed": true
   },
   "outputs": [],
   "source": [
    "price_by_zip_code = pd.read_csv('price_by_zip_code.csv', sep=';', header=-1)"
   ]
  },
  {
   "cell_type": "code",
   "execution_count": 3,
   "metadata": {
    "collapsed": true
   },
   "outputs": [],
   "source": [
    "price_by_zip_code.columns = ['zip_code', 'average_price', 'median_price', 'per_metr', 'popularity']"
   ]
  },
  {
   "cell_type": "code",
   "execution_count": 4,
   "metadata": {
    "collapsed": true
   },
   "outputs": [],
   "source": [
    "zip_code_dict = price_by_zip_code.set_index('zip_code').to_dict()"
   ]
  },
  {
   "cell_type": "code",
   "execution_count": 5,
   "metadata": {
    "collapsed": true
   },
   "outputs": [],
   "source": [
    "with open('zip_code_dict.pickle', 'wb') as f:\n",
    "    pickle.dump(zip_code_dict, f)"
   ]
  },
  {
   "cell_type": "code",
   "execution_count": 6,
   "metadata": {
    "collapsed": true
   },
   "outputs": [],
   "source": [
    "price_by_zip_code['per_metr'] = price_by_zip_code['per_metr'].apply(lambda x : x[1:].replace(',', '')).astype(int)\n",
    "price_by_zip_code['average_price'] = price_by_zip_code['average_price'].apply(lambda x : x[1:].replace(',', '')).astype(int)\n",
    "price_by_zip_code['median_price'] = price_by_zip_code['median_price'].apply(lambda x : x[1:].replace(',', '')).astype(int)"
   ]
  },
  {
   "cell_type": "code",
   "execution_count": null,
   "metadata": {
    "collapsed": true
   },
   "outputs": [],
   "source": [
    "for i in range(1, 100):\n",
    "    page_info_list = ''"
   ]
  },
  {
   "cell_type": "code",
   "execution_count": 152,
   "metadata": {
    "collapsed": true
   },
   "outputs": [],
   "source": [
    "page_string = 'https://www.domofond.ru/prodazha-kvartiry-sankt_peterburg-c3414?Page=2' \n",
    "r = requests.get(page_string)"
   ]
  },
  {
   "cell_type": "code",
   "execution_count": 160,
   "metadata": {
    "collapsed": true
   },
   "outputs": [],
   "source": [
    "from time import sleep"
   ]
  },
  {
   "cell_type": "code",
   "execution_count": 161,
   "metadata": {
    "collapsed": true
   },
   "outputs": [],
   "source": [
    "sleep(0.5)"
   ]
  },
  {
   "cell_type": "code",
   "execution_count": 188,
   "metadata": {
    "collapsed": true
   },
   "outputs": [],
   "source": [
    "page_htmls = []"
   ]
  },
  {
   "cell_type": "code",
   "execution_count": 203,
   "metadata": {},
   "outputs": [],
   "source": [
    "for i in range(501, 1000):\n",
    "    page_string = 'https://www.domofond.ru/prodazha-kvartiry-sankt_peterburg-c3414?Page='+str(i) \n",
    "    r = requests.get(page_string)\n",
    "    page_htmls.append(r.text)\n",
    "    sleep(0.5)"
   ]
  },
  {
   "cell_type": "code",
   "execution_count": 204,
   "metadata": {
    "collapsed": true
   },
   "outputs": [],
   "source": [
    "flats_df = pd.DataFrame(index=[i for i in range(100000)], columns=['address', 'price'])"
   ]
  },
  {
   "cell_type": "code",
   "execution_count": 205,
   "metadata": {},
   "outputs": [
    {
     "name": "stderr",
     "output_type": "stream",
     "text": [
      "C:\\Users\\isafiulin\\AppData\\Local\\Continuum\\Anaconda3\\lib\\site-packages\\bs4\\__init__.py:181: UserWarning: No parser was explicitly specified, so I'm using the best available HTML parser for this system (\"lxml\"). This usually isn't a problem, but if you run this code on another system, or in a different virtual environment, it may use a different parser and behave differently.\n",
      "\n",
      "The code that caused this warning is on line 193 of the file C:\\Users\\isafiulin\\AppData\\Local\\Continuum\\Anaconda3\\lib\\runpy.py. To get rid of this warning, change code that looks like this:\n",
      "\n",
      " BeautifulSoup(YOUR_MARKUP})\n",
      "\n",
      "to this:\n",
      "\n",
      " BeautifulSoup(YOUR_MARKUP, \"lxml\")\n",
      "\n",
      "  markup_type=markup_type))\n"
     ]
    }
   ],
   "source": [
    "for page in page_htmls:\n",
    "    bs = BeautifulSoup(page)\n",
    "    for flat in bs.find_all('a', {'itemprop': 'sameAs'}):\n",
    "        if flat.find('span', {'itemprop': 'address'}):\n",
    "            flats_df.iloc[i, 0] = flat.find('span', {'itemprop': 'address'}).get_text()\n",
    "        if flat.find('div', {'class': 'e-price-breakdown'}):\n",
    "            flats_df.iloc[i, 1] = flat.find('div', {'class': 'e-price-breakdown'}).get_text()\n",
    "        i += 1"
   ]
  },
  {
   "cell_type": "code",
   "execution_count": 207,
   "metadata": {},
   "outputs": [],
   "source": [
    "flats_df = flats_df.dropna()"
   ]
  },
  {
   "cell_type": "code",
   "execution_count": 237,
   "metadata": {
    "collapsed": true
   },
   "outputs": [],
   "source": [
    "flats_df.to_csv('price_final.csv', index=False)"
   ]
  },
  {
   "cell_type": "code",
   "execution_count": 231,
   "metadata": {},
   "outputs": [
    {
     "data": {
      "text/plain": [
       "'\\xa0'"
      ]
     },
     "execution_count": 231,
     "metadata": {},
     "output_type": "execute_result"
    }
   ],
   "source": [
    "flats_df['price'].values[0][3]"
   ]
  },
  {
   "cell_type": "code",
   "execution_count": 236,
   "metadata": {},
   "outputs": [],
   "source": [
    "flats_df['price'] = flats_df['price'].apply(lambda x: int(''.join(x[:7].split('\\xa0'))))"
   ]
  },
  {
   "cell_type": "code",
   "execution_count": 242,
   "metadata": {},
   "outputs": [],
   "source": [
    "flats_df['len'] = flats_df['address'].apply(lambda x: len(x.split(', ')))"
   ]
  },
  {
   "cell_type": "code",
   "execution_count": 251,
   "metadata": {},
   "outputs": [
    {
     "data": {
      "text/plain": [
       "address    Салова ул., Волковское, Санкт-Петербург\n",
       "price                                        94860\n",
       "len                                              3\n",
       "Name: 1026, dtype: object"
      ]
     },
     "execution_count": 251,
     "metadata": {},
     "output_type": "execute_result"
    }
   ],
   "source": [
    "flats_df.iloc[24, :]"
   ]
  },
  {
   "cell_type": "code",
   "execution_count": 252,
   "metadata": {},
   "outputs": [],
   "source": [
    "flats_df['address'] = flats_df['address'].apply(lambda x: x.split(', '))"
   ]
  },
  {
   "cell_type": "code",
   "execution_count": 277,
   "metadata": {},
   "outputs": [],
   "source": [
    "def help_1(x):\n",
    "    for el in x:\n",
    "        if ('ул ' in el) or ('ул.' in el) or ('пр. ' in el) or ('аллея' in el) or ('дорога' in el) or ('шоссе' in el) or ('проспект' in el) or ('улица' in el):\n",
    "            return el\n",
    "    return None"
   ]
  },
  {
   "cell_type": "code",
   "execution_count": 278,
   "metadata": {},
   "outputs": [
    {
     "data": {
      "text/plain": [
       "999                 Савушкина ул.\n",
       "1000             Муринская дорога\n",
       "1001             Муринская дорога\n",
       "1002          Московский проспект\n",
       "1003             Московское шоссе\n",
       "1004                  ул Чекистов\n",
       "1005             Московское шоссе\n",
       "1006        Нижне-Каменская улица\n",
       "1007           Михайловская улица\n",
       "1009       Комендантский проспект\n",
       "1010          Новолитовская улица\n",
       "1011    Ланское шоссе д.14 корп.1\n",
       "1012        Вознесенский пр. д.41\n",
       "1013    Ланское шоссе д.14 корп.1\n",
       "1015                         None\n",
       "1016                         None\n",
       "1017                         None\n",
       "1018                         None\n",
       "1019              аллея Охтинская\n",
       "1020           Лиговский проспект\n",
       "1022    пр. Александровской Фермы\n",
       "1023                ул. Уральская\n",
       "1024                         None\n",
       "1025             Муринская дорога\n",
       "1026                   Салова ул.\n",
       "1027               Красуцкого ул.\n",
       "1028                         None\n",
       "1029            ул. Кременчугская\n",
       "1030            ул. Кременчугская\n",
       "1031            ул. Кременчугская\n",
       "Name: address, dtype: object"
      ]
     },
     "execution_count": 278,
     "metadata": {},
     "output_type": "execute_result"
    }
   ],
   "source": [
    "flats_df['address'][:30].apply(lambda x: help_1(x))"
   ]
  },
  {
   "cell_type": "code",
   "execution_count": 267,
   "metadata": {},
   "outputs": [
    {
     "data": {
      "text/plain": [
       "True"
      ]
     },
     "execution_count": 267,
     "metadata": {},
     "output_type": "execute_result"
    }
   ],
   "source": [
    "'ул.' in flats_df.iloc[0,:][0][0]"
   ]
  },
  {
   "cell_type": "code",
   "execution_count": 479,
   "metadata": {},
   "outputs": [
    {
     "data": {
      "text/html": [
       "<div>\n",
       "<style>\n",
       "    .dataframe thead tr:only-child th {\n",
       "        text-align: right;\n",
       "    }\n",
       "\n",
       "    .dataframe thead th {\n",
       "        text-align: left;\n",
       "    }\n",
       "\n",
       "    .dataframe tbody tr th {\n",
       "        vertical-align: top;\n",
       "    }\n",
       "</style>\n",
       "<table border=\"1\" class=\"dataframe\">\n",
       "  <thead>\n",
       "    <tr style=\"text-align: right;\">\n",
       "      <th></th>\n",
       "      <th>street</th>\n",
       "      <th>Home</th>\n",
       "      <th>raion</th>\n",
       "      <th>Количество проживающих</th>\n",
       "      <th>Год постройки</th>\n",
       "      <th>Серия, тип проекта</th>\n",
       "      <th>Общая площадь здания</th>\n",
       "      <th>Число этажей</th>\n",
       "      <th>Число лестниц</th>\n",
       "      <th>lng</th>\n",
       "      <th>lat</th>\n",
       "      <th>price</th>\n",
       "      <th>street_name</th>\n",
       "      <th>extrapolate_price</th>\n",
       "      <th>final_price</th>\n",
       "    </tr>\n",
       "  </thead>\n",
       "  <tbody>\n",
       "    <tr>\n",
       "      <th>0</th>\n",
       "      <td>Лени Голикова ул.</td>\n",
       "      <td>23</td>\n",
       "      <td>Кировский</td>\n",
       "      <td>213.0</td>\n",
       "      <td>1967</td>\n",
       "      <td>Г-3И</td>\n",
       "      <td>3601.449951</td>\n",
       "      <td>5.0</td>\n",
       "      <td>7.0</td>\n",
       "      <td>30.229946</td>\n",
       "      <td>59.844715</td>\n",
       "      <td>-0.071891</td>\n",
       "      <td>Лени Голикова</td>\n",
       "      <td>([109848, 110350, 116209, 115625, 116278, 1148...</td>\n",
       "      <td>115842.000000</td>\n",
       "    </tr>\n",
       "    <tr>\n",
       "      <th>1</th>\n",
       "      <td>Среднегаванский пр.</td>\n",
       "      <td>14</td>\n",
       "      <td>Василеостровский</td>\n",
       "      <td>69.0</td>\n",
       "      <td>1901</td>\n",
       "      <td>Индивидуальный</td>\n",
       "      <td>1581.380005</td>\n",
       "      <td>6.0</td>\n",
       "      <td>2.0</td>\n",
       "      <td>30.243179</td>\n",
       "      <td>59.930236</td>\n",
       "      <td>0.404150</td>\n",
       "      <td>Среднегаванский</td>\n",
       "      <td>([], [107018])</td>\n",
       "      <td>107018.000000</td>\n",
       "    </tr>\n",
       "    <tr>\n",
       "      <th>2</th>\n",
       "      <td>Рашетова ул.</td>\n",
       "      <td>9</td>\n",
       "      <td>Выборгский</td>\n",
       "      <td>82.0</td>\n",
       "      <td>1965</td>\n",
       "      <td>Индивидуальный</td>\n",
       "      <td>2334.000000</td>\n",
       "      <td>9.0</td>\n",
       "      <td>1.0</td>\n",
       "      <td>30.324209</td>\n",
       "      <td>60.020927</td>\n",
       "      <td>-0.309632</td>\n",
       "      <td>Рашетова</td>\n",
       "      <td>([], [106018, 105161])</td>\n",
       "      <td>105589.500000</td>\n",
       "    </tr>\n",
       "    <tr>\n",
       "      <th>3</th>\n",
       "      <td>Сердобольская ул.</td>\n",
       "      <td>37</td>\n",
       "      <td>Приморский</td>\n",
       "      <td>60.0</td>\n",
       "      <td>1916</td>\n",
       "      <td>Индивидуальный</td>\n",
       "      <td>1978.150024</td>\n",
       "      <td>5.0</td>\n",
       "      <td>1.0</td>\n",
       "      <td>30.316559</td>\n",
       "      <td>59.989446</td>\n",
       "      <td>0.721086</td>\n",
       "      <td>Сердобольская</td>\n",
       "      <td>([], [123684, 121795, 93023, 107500, 100000, 1...</td>\n",
       "      <td>112010.454545</td>\n",
       "    </tr>\n",
       "    <tr>\n",
       "      <th>4</th>\n",
       "      <td>Флотская ул.</td>\n",
       "      <td>2</td>\n",
       "      <td>Кронштадский</td>\n",
       "      <td>344.0</td>\n",
       "      <td>1900</td>\n",
       "      <td>Индивидуальный</td>\n",
       "      <td>8968.500000</td>\n",
       "      <td>3.0</td>\n",
       "      <td>4.0</td>\n",
       "      <td>30.473965</td>\n",
       "      <td>60.059112</td>\n",
       "      <td>-0.343588</td>\n",
       "      <td>Флотская</td>\n",
       "      <td>([57410, 74564], [71333, 77083, 77857])</td>\n",
       "      <td>65987.000000</td>\n",
       "    </tr>\n",
       "    <tr>\n",
       "      <th>5</th>\n",
       "      <td>Флотская ул.</td>\n",
       "      <td>5</td>\n",
       "      <td>Кронштадский</td>\n",
       "      <td>121.0</td>\n",
       "      <td>1973</td>\n",
       "      <td>Индивидуальный</td>\n",
       "      <td>3885.600098</td>\n",
       "      <td>5.0</td>\n",
       "      <td>3.0</td>\n",
       "      <td>30.473965</td>\n",
       "      <td>60.059112</td>\n",
       "      <td>-0.343588</td>\n",
       "      <td>Флотская</td>\n",
       "      <td>([77083], [57410, 71333, 74564, 77857])</td>\n",
       "      <td>77083.000000</td>\n",
       "    </tr>\n",
       "    <tr>\n",
       "      <th>6</th>\n",
       "      <td>Лени Голикова ул.</td>\n",
       "      <td>49</td>\n",
       "      <td>Кировский</td>\n",
       "      <td>194.0</td>\n",
       "      <td>1967</td>\n",
       "      <td>Г-3</td>\n",
       "      <td>3701.899902</td>\n",
       "      <td>5.0</td>\n",
       "      <td>7.0</td>\n",
       "      <td>30.234920</td>\n",
       "      <td>59.840552</td>\n",
       "      <td>-0.071891</td>\n",
       "      <td>Лени Голикова</td>\n",
       "      <td>([], [88000, 104943, 86667, 82474, 80488, 9759...</td>\n",
       "      <td>106364.840000</td>\n",
       "    </tr>\n",
       "    <tr>\n",
       "      <th>7</th>\n",
       "      <td>Димитрова ул.</td>\n",
       "      <td>31</td>\n",
       "      <td>Фрунзенский</td>\n",
       "      <td>1321.0</td>\n",
       "      <td>1981</td>\n",
       "      <td>137</td>\n",
       "      <td>40146.800781</td>\n",
       "      <td>12.0</td>\n",
       "      <td>9.0</td>\n",
       "      <td>30.409150</td>\n",
       "      <td>59.851188</td>\n",
       "      <td>0.387372</td>\n",
       "      <td>Димитрова</td>\n",
       "      <td>([87719], [113636, 90065, 120482, 93750, 10608...</td>\n",
       "      <td>87719.000000</td>\n",
       "    </tr>\n",
       "    <tr>\n",
       "      <th>8</th>\n",
       "      <td>Шателена ул.</td>\n",
       "      <td>2</td>\n",
       "      <td>Выборгский</td>\n",
       "      <td>103.0</td>\n",
       "      <td>1961</td>\n",
       "      <td>1-528-КП-99</td>\n",
       "      <td>2783.000000</td>\n",
       "      <td>5.0</td>\n",
       "      <td>3.0</td>\n",
       "      <td>30.364329</td>\n",
       "      <td>60.001551</td>\n",
       "      <td>-0.309632</td>\n",
       "      <td>Шателена</td>\n",
       "      <td>([], [115806])</td>\n",
       "      <td>115806.000000</td>\n",
       "    </tr>\n",
       "    <tr>\n",
       "      <th>9</th>\n",
       "      <td>Шателена ул.</td>\n",
       "      <td>16</td>\n",
       "      <td>Выборгский</td>\n",
       "      <td>113.0</td>\n",
       "      <td>1960</td>\n",
       "      <td>Индивидуальный</td>\n",
       "      <td>2731.000000</td>\n",
       "      <td>5.0</td>\n",
       "      <td>3.0</td>\n",
       "      <td>30.360563</td>\n",
       "      <td>60.004269</td>\n",
       "      <td>-0.309632</td>\n",
       "      <td>Шателена</td>\n",
       "      <td>([115806], [])</td>\n",
       "      <td>115806.000000</td>\n",
       "    </tr>\n",
       "    <tr>\n",
       "      <th>10</th>\n",
       "      <td>Шателена ул.</td>\n",
       "      <td>6</td>\n",
       "      <td>Выборгский</td>\n",
       "      <td>106.0</td>\n",
       "      <td>1961</td>\n",
       "      <td>Индивидуальный</td>\n",
       "      <td>2843.000000</td>\n",
       "      <td>5.0</td>\n",
       "      <td>3.0</td>\n",
       "      <td>30.363157</td>\n",
       "      <td>60.002547</td>\n",
       "      <td>-0.309632</td>\n",
       "      <td>Шателена</td>\n",
       "      <td>([115806], [])</td>\n",
       "      <td>115806.000000</td>\n",
       "    </tr>\n",
       "    <tr>\n",
       "      <th>11</th>\n",
       "      <td>пос.Металлострой, Железнодорожная ул.</td>\n",
       "      <td>13</td>\n",
       "      <td>Колпинский</td>\n",
       "      <td>44.0</td>\n",
       "      <td>1950</td>\n",
       "      <td>инд.</td>\n",
       "      <td>1247.729980</td>\n",
       "      <td>2.0</td>\n",
       "      <td>3.0</td>\n",
       "      <td>30.567958</td>\n",
       "      <td>59.807956</td>\n",
       "      <td>-1.304648</td>\n",
       "      <td>пос.Металлострой, Железнодорожная</td>\n",
       "      <td>([], [])</td>\n",
       "      <td>NaN</td>\n",
       "    </tr>\n",
       "    <tr>\n",
       "      <th>12</th>\n",
       "      <td>Наб. р. Пряжки</td>\n",
       "      <td>38</td>\n",
       "      <td>Адмиралтейский</td>\n",
       "      <td>133.0</td>\n",
       "      <td>1902</td>\n",
       "      <td>Инд.</td>\n",
       "      <td>2694.129883</td>\n",
       "      <td>6.0</td>\n",
       "      <td>2.0</td>\n",
       "      <td>30.280091</td>\n",
       "      <td>59.921884</td>\n",
       "      <td>0.350589</td>\n",
       "      <td>Наб. р.</td>\n",
       "      <td>([], [119048])</td>\n",
       "      <td>119048.000000</td>\n",
       "    </tr>\n",
       "    <tr>\n",
       "      <th>13</th>\n",
       "      <td>Лени Голикова ул.</td>\n",
       "      <td>94</td>\n",
       "      <td>Кировский</td>\n",
       "      <td>191.0</td>\n",
       "      <td>1966</td>\n",
       "      <td>Г-34</td>\n",
       "      <td>3693.830078</td>\n",
       "      <td>5.0</td>\n",
       "      <td>7.0</td>\n",
       "      <td>30.247958</td>\n",
       "      <td>59.835232</td>\n",
       "      <td>-0.071891</td>\n",
       "      <td>Лени Голикова</td>\n",
       "      <td>([], [88000, 104943, 86667, 82474, 80488, 9759...</td>\n",
       "      <td>106364.840000</td>\n",
       "    </tr>\n",
       "    <tr>\n",
       "      <th>14</th>\n",
       "      <td>Куйбышева ул.</td>\n",
       "      <td>14</td>\n",
       "      <td>Петроградский</td>\n",
       "      <td>133.0</td>\n",
       "      <td>1914</td>\n",
       "      <td>Индивидуальный</td>\n",
       "      <td>4994.970215</td>\n",
       "      <td>6.0</td>\n",
       "      <td>5.0</td>\n",
       "      <td>30.327411</td>\n",
       "      <td>59.955470</td>\n",
       "      <td>6.032428</td>\n",
       "      <td>Куйбышева</td>\n",
       "      <td>([], [212491, 217500, 212040, 212040, 132692, ...</td>\n",
       "      <td>152117.562500</td>\n",
       "    </tr>\n",
       "    <tr>\n",
       "      <th>15</th>\n",
       "      <td>Куйбышева ул.</td>\n",
       "      <td>33/8</td>\n",
       "      <td>Петроградский</td>\n",
       "      <td>203.0</td>\n",
       "      <td>1907</td>\n",
       "      <td>Индивидуальный</td>\n",
       "      <td>7854.600098</td>\n",
       "      <td>4.0</td>\n",
       "      <td>9.0</td>\n",
       "      <td>30.334142</td>\n",
       "      <td>59.957610</td>\n",
       "      <td>6.032428</td>\n",
       "      <td>Куйбышева</td>\n",
       "      <td>([122549], [212491, 217500, 212040, 212040, 13...</td>\n",
       "      <td>122549.000000</td>\n",
       "    </tr>\n",
       "    <tr>\n",
       "      <th>16</th>\n",
       "      <td>Талалихина пер.</td>\n",
       "      <td>5/15</td>\n",
       "      <td>Петроградский</td>\n",
       "      <td>77.0</td>\n",
       "      <td>1911</td>\n",
       "      <td>Индивидуальный</td>\n",
       "      <td>3861.100098</td>\n",
       "      <td>6.0</td>\n",
       "      <td>5.0</td>\n",
       "      <td>30.297372</td>\n",
       "      <td>59.951380</td>\n",
       "      <td>1.482602</td>\n",
       "      <td>Талалихина</td>\n",
       "      <td>([], [])</td>\n",
       "      <td>NaN</td>\n",
       "    </tr>\n",
       "    <tr>\n",
       "      <th>17</th>\n",
       "      <td>Маршала Говорова ул.</td>\n",
       "      <td>32</td>\n",
       "      <td>Кировский</td>\n",
       "      <td>127.0</td>\n",
       "      <td>1960</td>\n",
       "      <td>ИТП</td>\n",
       "      <td>3341.600098</td>\n",
       "      <td>5.0</td>\n",
       "      <td>4.0</td>\n",
       "      <td>30.277416</td>\n",
       "      <td>59.889698</td>\n",
       "      <td>-0.258521</td>\n",
       "      <td>Маршала Говорова</td>\n",
       "      <td>([97674], [120567, 104255, 107576, 92641, 1130...</td>\n",
       "      <td>97674.000000</td>\n",
       "    </tr>\n",
       "    <tr>\n",
       "      <th>18</th>\n",
       "      <td>Лесной пр.</td>\n",
       "      <td>32</td>\n",
       "      <td>Выборгский</td>\n",
       "      <td>307.0</td>\n",
       "      <td>1937</td>\n",
       "      <td>индивидуальный</td>\n",
       "      <td>9770.900391</td>\n",
       "      <td>7.0</td>\n",
       "      <td>12.0</td>\n",
       "      <td>30.347286</td>\n",
       "      <td>59.972111</td>\n",
       "      <td>-0.702289</td>\n",
       "      <td>Лесной</td>\n",
       "      <td>([], [120000, 105072, 72589, 119733, 84648, 75...</td>\n",
       "      <td>94276.684211</td>\n",
       "    </tr>\n",
       "    <tr>\n",
       "      <th>19</th>\n",
       "      <td>Пятилеток пр.</td>\n",
       "      <td>9</td>\n",
       "      <td>Невский</td>\n",
       "      <td>492.0</td>\n",
       "      <td>2000</td>\n",
       "      <td>Индивидуальный</td>\n",
       "      <td>29539.000000</td>\n",
       "      <td>17.0</td>\n",
       "      <td>5.0</td>\n",
       "      <td>30.457769</td>\n",
       "      <td>59.922809</td>\n",
       "      <td>-0.044862</td>\n",
       "      <td>Пятилеток</td>\n",
       "      <td>([90278, 95833, 113014, 105455, 115942, 115283...</td>\n",
       "      <td>105967.500000</td>\n",
       "    </tr>\n",
       "    <tr>\n",
       "      <th>21</th>\n",
       "      <td>Шоссе Революции</td>\n",
       "      <td>27</td>\n",
       "      <td>Красногвардейский</td>\n",
       "      <td>159.0</td>\n",
       "      <td>1971</td>\n",
       "      <td>1-528 КП</td>\n",
       "      <td>5455.419922</td>\n",
       "      <td>14.0</td>\n",
       "      <td>1.0</td>\n",
       "      <td>30.425998</td>\n",
       "      <td>59.959187</td>\n",
       "      <td>-0.462352</td>\n",
       "      <td>Шоссе</td>\n",
       "      <td>([], [95609, 65306, 94872, 83922, 78684, 67039...</td>\n",
       "      <td>69508.125874</td>\n",
       "    </tr>\n",
       "    <tr>\n",
       "      <th>22</th>\n",
       "      <td>Нахимова ул.</td>\n",
       "      <td>1</td>\n",
       "      <td>Василеостровский</td>\n",
       "      <td>2467.0</td>\n",
       "      <td>1973</td>\n",
       "      <td>Инд.</td>\n",
       "      <td>50596.839844</td>\n",
       "      <td>10.0</td>\n",
       "      <td>9.0</td>\n",
       "      <td>30.234407</td>\n",
       "      <td>59.944007</td>\n",
       "      <td>0.909352</td>\n",
       "      <td>Нахимова</td>\n",
       "      <td>([216573, 155134, 207547, 94957, 144954, 12792...</td>\n",
       "      <td>176009.800000</td>\n",
       "    </tr>\n",
       "    <tr>\n",
       "      <th>23</th>\n",
       "      <td>Белоусова ул.</td>\n",
       "      <td>6/42</td>\n",
       "      <td>Кировский</td>\n",
       "      <td>104.0</td>\n",
       "      <td>1952</td>\n",
       "      <td>Индивидуальный</td>\n",
       "      <td>3575.100098</td>\n",
       "      <td>4.0</td>\n",
       "      <td>3.0</td>\n",
       "      <td>30.267868</td>\n",
       "      <td>59.888943</td>\n",
       "      <td>-0.476576</td>\n",
       "      <td>Белоусова</td>\n",
       "      <td>([95545], [])</td>\n",
       "      <td>95545.000000</td>\n",
       "    </tr>\n",
       "    <tr>\n",
       "      <th>24</th>\n",
       "      <td>г.Пушкин, Средняя ул.</td>\n",
       "      <td>24</td>\n",
       "      <td>Пушкинский</td>\n",
       "      <td>31.0</td>\n",
       "      <td>1917</td>\n",
       "      <td>Индивидуальный</td>\n",
       "      <td>532.809998</td>\n",
       "      <td>3.0</td>\n",
       "      <td>2.0</td>\n",
       "      <td>30.404513</td>\n",
       "      <td>59.717140</td>\n",
       "      <td>-0.838618</td>\n",
       "      <td>г.Пушкин, Средняя</td>\n",
       "      <td>([], [])</td>\n",
       "      <td>NaN</td>\n",
       "    </tr>\n",
       "    <tr>\n",
       "      <th>25</th>\n",
       "      <td>Шоссе Революции</td>\n",
       "      <td>45</td>\n",
       "      <td>Красногвардейский</td>\n",
       "      <td>401.0</td>\n",
       "      <td>1969</td>\n",
       "      <td>1 ЛГ-606</td>\n",
       "      <td>10896.870117</td>\n",
       "      <td>9.0</td>\n",
       "      <td>4.0</td>\n",
       "      <td>30.442714</td>\n",
       "      <td>59.959562</td>\n",
       "      <td>-0.462352</td>\n",
       "      <td>Шоссе</td>\n",
       "      <td>([90476], [95609, 65306, 94872, 83922, 78684, ...</td>\n",
       "      <td>90476.000000</td>\n",
       "    </tr>\n",
       "    <tr>\n",
       "      <th>26</th>\n",
       "      <td>Лесной пр.</td>\n",
       "      <td>3</td>\n",
       "      <td>Калининский</td>\n",
       "      <td>129.0</td>\n",
       "      <td>1899</td>\n",
       "      <td>Индивидуальный</td>\n",
       "      <td>3918.379883</td>\n",
       "      <td>5.0</td>\n",
       "      <td>3.0</td>\n",
       "      <td>30.352673</td>\n",
       "      <td>59.962170</td>\n",
       "      <td>-0.702289</td>\n",
       "      <td>Лесной</td>\n",
       "      <td>([105072, 72589, 84648, 115217, 103947, 104348...</td>\n",
       "      <td>92844.625000</td>\n",
       "    </tr>\n",
       "    <tr>\n",
       "      <th>27</th>\n",
       "      <td>Шоссе Революции</td>\n",
       "      <td>48</td>\n",
       "      <td>Красногвардейский</td>\n",
       "      <td>156.0</td>\n",
       "      <td>1961</td>\n",
       "      <td>1-528</td>\n",
       "      <td>3908.949951</td>\n",
       "      <td>5.0</td>\n",
       "      <td>4.0</td>\n",
       "      <td>30.432766</td>\n",
       "      <td>59.960740</td>\n",
       "      <td>-0.462352</td>\n",
       "      <td>Шоссе</td>\n",
       "      <td>([], [95609, 65306, 94872, 83922, 78684, 67039...</td>\n",
       "      <td>69508.125874</td>\n",
       "    </tr>\n",
       "    <tr>\n",
       "      <th>28</th>\n",
       "      <td>Зосимова ул.</td>\n",
       "      <td>7</td>\n",
       "      <td>Кронштадский</td>\n",
       "      <td>146.0</td>\n",
       "      <td>1971</td>\n",
       "      <td>Индивидуальный</td>\n",
       "      <td>3807.699951</td>\n",
       "      <td>6.0</td>\n",
       "      <td>3.0</td>\n",
       "      <td>29.759010</td>\n",
       "      <td>59.998152</td>\n",
       "      <td>-0.343588</td>\n",
       "      <td>Зосимова</td>\n",
       "      <td>([], [77778, 65400, 65400, 65400, 65400, 65400...</td>\n",
       "      <td>69254.000000</td>\n",
       "    </tr>\n",
       "    <tr>\n",
       "      <th>29</th>\n",
       "      <td>Зосимова ул.</td>\n",
       "      <td>11</td>\n",
       "      <td>Кронштадский</td>\n",
       "      <td>69.0</td>\n",
       "      <td>1880</td>\n",
       "      <td>Индивидуальный</td>\n",
       "      <td>2164.500000</td>\n",
       "      <td>2.0</td>\n",
       "      <td>2.0</td>\n",
       "      <td>29.758000</td>\n",
       "      <td>59.996702</td>\n",
       "      <td>-0.343588</td>\n",
       "      <td>Зосимова</td>\n",
       "      <td>([], [77778, 65400, 65400, 65400, 65400, 65400...</td>\n",
       "      <td>69254.000000</td>\n",
       "    </tr>\n",
       "    <tr>\n",
       "      <th>30</th>\n",
       "      <td>Авиационная ул.</td>\n",
       "      <td>18</td>\n",
       "      <td>Московский</td>\n",
       "      <td>177.0</td>\n",
       "      <td>1962</td>\n",
       "      <td>Индивидуальный</td>\n",
       "      <td>6623.200195</td>\n",
       "      <td>8.0</td>\n",
       "      <td>2.0</td>\n",
       "      <td>30.324860</td>\n",
       "      <td>59.854498</td>\n",
       "      <td>0.754337</td>\n",
       "      <td>Авиационная</td>\n",
       "      <td>([], [129256, 144340, 135338])</td>\n",
       "      <td>136311.333333</td>\n",
       "    </tr>\n",
       "    <tr>\n",
       "      <th>...</th>\n",
       "      <td>...</td>\n",
       "      <td>...</td>\n",
       "      <td>...</td>\n",
       "      <td>...</td>\n",
       "      <td>...</td>\n",
       "      <td>...</td>\n",
       "      <td>...</td>\n",
       "      <td>...</td>\n",
       "      <td>...</td>\n",
       "      <td>...</td>\n",
       "      <td>...</td>\n",
       "      <td>...</td>\n",
       "      <td>...</td>\n",
       "      <td>...</td>\n",
       "      <td>...</td>\n",
       "    </tr>\n",
       "    <tr>\n",
       "      <th>22186</th>\n",
       "      <td>Воронежская ул.</td>\n",
       "      <td>40</td>\n",
       "      <td>Фрунзенский</td>\n",
       "      <td>22.0</td>\n",
       "      <td>1902</td>\n",
       "      <td>Индивид.</td>\n",
       "      <td>842.099976</td>\n",
       "      <td>5.0</td>\n",
       "      <td>1.0</td>\n",
       "      <td>30.347058</td>\n",
       "      <td>59.914485</td>\n",
       "      <td>-0.455424</td>\n",
       "      <td>Воронежская</td>\n",
       "      <td>([], [160714, 96087, 85345, 93640, 92063, 8850...</td>\n",
       "      <td>102363.666667</td>\n",
       "    </tr>\n",
       "    <tr>\n",
       "      <th>22187</th>\n",
       "      <td>пос.Петро-Славянка, Клубная ул.</td>\n",
       "      <td>3</td>\n",
       "      <td>Колпинский</td>\n",
       "      <td>30.0</td>\n",
       "      <td>1961</td>\n",
       "      <td>Тип. проект №8966</td>\n",
       "      <td>866.599976</td>\n",
       "      <td>2.0</td>\n",
       "      <td>2.0</td>\n",
       "      <td>30.510729</td>\n",
       "      <td>59.807166</td>\n",
       "      <td>-1.304648</td>\n",
       "      <td>пос.Петро-Славянка, Клубная</td>\n",
       "      <td>([], [])</td>\n",
       "      <td>NaN</td>\n",
       "    </tr>\n",
       "    <tr>\n",
       "      <th>22188</th>\n",
       "      <td>Всеволожская ул.</td>\n",
       "      <td>7</td>\n",
       "      <td>Красногвардейский</td>\n",
       "      <td>25.0</td>\n",
       "      <td>1950</td>\n",
       "      <td>Индивидуальный</td>\n",
       "      <td>512.599976</td>\n",
       "      <td>2.0</td>\n",
       "      <td>1.0</td>\n",
       "      <td>30.522305</td>\n",
       "      <td>59.978570</td>\n",
       "      <td>-0.462352</td>\n",
       "      <td>Всеволожская</td>\n",
       "      <td>([], [])</td>\n",
       "      <td>NaN</td>\n",
       "    </tr>\n",
       "    <tr>\n",
       "      <th>22189</th>\n",
       "      <td>Всеволожская ул.</td>\n",
       "      <td>9</td>\n",
       "      <td>Красногвардейский</td>\n",
       "      <td>32.0</td>\n",
       "      <td>1950</td>\n",
       "      <td>Индивидуальный</td>\n",
       "      <td>516.200012</td>\n",
       "      <td>2.0</td>\n",
       "      <td>1.0</td>\n",
       "      <td>30.522803</td>\n",
       "      <td>59.978882</td>\n",
       "      <td>-0.462352</td>\n",
       "      <td>Всеволожская</td>\n",
       "      <td>([], [])</td>\n",
       "      <td>NaN</td>\n",
       "    </tr>\n",
       "    <tr>\n",
       "      <th>22190</th>\n",
       "      <td>Октябрьская ул.</td>\n",
       "      <td>71</td>\n",
       "      <td>Колпинский</td>\n",
       "      <td>436.0</td>\n",
       "      <td>1985</td>\n",
       "      <td>1 ЛГ 504 Д</td>\n",
       "      <td>9048.990234</td>\n",
       "      <td>12.0</td>\n",
       "      <td>2.0</td>\n",
       "      <td>30.459725</td>\n",
       "      <td>59.874605</td>\n",
       "      <td>-0.984015</td>\n",
       "      <td>Октябрьская</td>\n",
       "      <td>([], [94005, 94005, 85103, 85103, 84027, 76090...</td>\n",
       "      <td>81882.248677</td>\n",
       "    </tr>\n",
       "    <tr>\n",
       "      <th>22191</th>\n",
       "      <td>Южное шоссе</td>\n",
       "      <td>64</td>\n",
       "      <td>Фрунзенский</td>\n",
       "      <td>138.0</td>\n",
       "      <td>1960</td>\n",
       "      <td>Индивидуальный</td>\n",
       "      <td>3149.300049</td>\n",
       "      <td>5.0</td>\n",
       "      <td>3.0</td>\n",
       "      <td>30.414288</td>\n",
       "      <td>59.864191</td>\n",
       "      <td>0.313282</td>\n",
       "      <td>Южное</td>\n",
       "      <td>([], [102857, 117949, 122911, 115789, 125184, ...</td>\n",
       "      <td>113086.794872</td>\n",
       "    </tr>\n",
       "    <tr>\n",
       "      <th>22192</th>\n",
       "      <td>Танкиста Хрустицкого ул.</td>\n",
       "      <td>58</td>\n",
       "      <td>Кировский</td>\n",
       "      <td>42.0</td>\n",
       "      <td>1960</td>\n",
       "      <td>Г3</td>\n",
       "      <td>866.200012</td>\n",
       "      <td>3.0</td>\n",
       "      <td>2.0</td>\n",
       "      <td>30.251522</td>\n",
       "      <td>59.838090</td>\n",
       "      <td>-0.476576</td>\n",
       "      <td>Танкиста Хрустицкого</td>\n",
       "      <td>([], [96154, 107143, 103093, 105333, 97674, 76...</td>\n",
       "      <td>97660.500000</td>\n",
       "    </tr>\n",
       "    <tr>\n",
       "      <th>22193</th>\n",
       "      <td>Костромской пр.</td>\n",
       "      <td>30</td>\n",
       "      <td>Выборгский</td>\n",
       "      <td>38.0</td>\n",
       "      <td>1953</td>\n",
       "      <td>Индивидуальный</td>\n",
       "      <td>1871.300049</td>\n",
       "      <td>3.0</td>\n",
       "      <td>3.0</td>\n",
       "      <td>30.316775</td>\n",
       "      <td>60.017421</td>\n",
       "      <td>1.930937</td>\n",
       "      <td>Костромской</td>\n",
       "      <td>([111842, 112103], [124722, 140306, 125000, 12...</td>\n",
       "      <td>111972.500000</td>\n",
       "    </tr>\n",
       "    <tr>\n",
       "      <th>22194</th>\n",
       "      <td>Стачек пр.</td>\n",
       "      <td>164</td>\n",
       "      <td>Кировский</td>\n",
       "      <td>210.0</td>\n",
       "      <td>1987</td>\n",
       "      <td>индивидуаьный</td>\n",
       "      <td>4764.399902</td>\n",
       "      <td>7.0</td>\n",
       "      <td>2.0</td>\n",
       "      <td>30.248062</td>\n",
       "      <td>59.853078</td>\n",
       "      <td>-0.199079</td>\n",
       "      <td>Стачек</td>\n",
       "      <td>([107895], [116471, 125676, 96859, 94248, 1340...</td>\n",
       "      <td>107895.000000</td>\n",
       "    </tr>\n",
       "    <tr>\n",
       "      <th>22195</th>\n",
       "      <td>27-я линия, В.О.</td>\n",
       "      <td>10</td>\n",
       "      <td>Василеостровский</td>\n",
       "      <td>55.0</td>\n",
       "      <td>1897</td>\n",
       "      <td>Индивидуальный</td>\n",
       "      <td>1331.510010</td>\n",
       "      <td>5.0</td>\n",
       "      <td>1.0</td>\n",
       "      <td>30.273508</td>\n",
       "      <td>59.942008</td>\n",
       "      <td>0.404150</td>\n",
       "      <td>27-я линия,</td>\n",
       "      <td>([], [])</td>\n",
       "      <td>NaN</td>\n",
       "    </tr>\n",
       "    <tr>\n",
       "      <th>22197</th>\n",
       "      <td>Демьяна Бедного ул.</td>\n",
       "      <td>30</td>\n",
       "      <td>Калининский</td>\n",
       "      <td>433.0</td>\n",
       "      <td>1972</td>\n",
       "      <td>1ЛГ-502-В-9</td>\n",
       "      <td>7020.799805</td>\n",
       "      <td>5.0</td>\n",
       "      <td>9.0</td>\n",
       "      <td>30.391371</td>\n",
       "      <td>60.048305</td>\n",
       "      <td>-0.601457</td>\n",
       "      <td>Демьяна Бедного</td>\n",
       "      <td>([64570, 62914, 97969, 70000, 75600, 72000], [...</td>\n",
       "      <td>73842.166667</td>\n",
       "    </tr>\n",
       "    <tr>\n",
       "      <th>22198</th>\n",
       "      <td>Демьяна Бедного ул.</td>\n",
       "      <td>30</td>\n",
       "      <td>Калининский</td>\n",
       "      <td>261.0</td>\n",
       "      <td>1972</td>\n",
       "      <td>1ЛГ-502-В-6</td>\n",
       "      <td>4754.220215</td>\n",
       "      <td>5.0</td>\n",
       "      <td>6.0</td>\n",
       "      <td>30.391371</td>\n",
       "      <td>60.048305</td>\n",
       "      <td>-0.601457</td>\n",
       "      <td>Демьяна Бедного</td>\n",
       "      <td>([64570, 62914, 97969, 70000, 75600, 72000], [...</td>\n",
       "      <td>73842.166667</td>\n",
       "    </tr>\n",
       "    <tr>\n",
       "      <th>22199</th>\n",
       "      <td>Солдата Корзуна ул.</td>\n",
       "      <td>56</td>\n",
       "      <td>Кировский</td>\n",
       "      <td>188.0</td>\n",
       "      <td>1968</td>\n",
       "      <td>1ЛГ-507-4</td>\n",
       "      <td>4004.500000</td>\n",
       "      <td>5.0</td>\n",
       "      <td>4.0</td>\n",
       "      <td>30.223528</td>\n",
       "      <td>59.828246</td>\n",
       "      <td>-0.240039</td>\n",
       "      <td>Солдата Корзуна</td>\n",
       "      <td>([], [82432, 82432, 92040, 96238, 119643, 9344...</td>\n",
       "      <td>93223.823529</td>\n",
       "    </tr>\n",
       "    <tr>\n",
       "      <th>22200</th>\n",
       "      <td>Победы ул.</td>\n",
       "      <td>17</td>\n",
       "      <td>Московский</td>\n",
       "      <td>316.0</td>\n",
       "      <td>1954</td>\n",
       "      <td>Индивидуальный</td>\n",
       "      <td>8720.000000</td>\n",
       "      <td>6.0</td>\n",
       "      <td>3.0</td>\n",
       "      <td>30.323199</td>\n",
       "      <td>59.862611</td>\n",
       "      <td>3.003020</td>\n",
       "      <td>Победы</td>\n",
       "      <td>([], [377863, 319200, 401515, 141791, 413417, ...</td>\n",
       "      <td>175681.666667</td>\n",
       "    </tr>\n",
       "    <tr>\n",
       "      <th>22202</th>\n",
       "      <td>Большая Подъяческая</td>\n",
       "      <td>1-3</td>\n",
       "      <td>Адмиралтейский</td>\n",
       "      <td>111.0</td>\n",
       "      <td>1870</td>\n",
       "      <td>Инд.</td>\n",
       "      <td>3552.870117</td>\n",
       "      <td>4.0</td>\n",
       "      <td>7.0</td>\n",
       "      <td>30.305363</td>\n",
       "      <td>59.926573</td>\n",
       "      <td>0.350589</td>\n",
       "      <td>Большая</td>\n",
       "      <td>([89035], [100976, 121560, 92900, 256198, 1364...</td>\n",
       "      <td>89035.000000</td>\n",
       "    </tr>\n",
       "    <tr>\n",
       "      <th>22203</th>\n",
       "      <td>Некрасова ул.</td>\n",
       "      <td>23</td>\n",
       "      <td>Центральный</td>\n",
       "      <td>30.0</td>\n",
       "      <td>1904</td>\n",
       "      <td>Индивидуальный</td>\n",
       "      <td>1506.300049</td>\n",
       "      <td>5.0</td>\n",
       "      <td>2.0</td>\n",
       "      <td>30.358626</td>\n",
       "      <td>59.938278</td>\n",
       "      <td>-0.855409</td>\n",
       "      <td>Некрасова</td>\n",
       "      <td>([], [138304, 138304, 102193, 58667, 123966, 7...</td>\n",
       "      <td>106219.454545</td>\n",
       "    </tr>\n",
       "    <tr>\n",
       "      <th>22209</th>\n",
       "      <td>Гагаринская ул.</td>\n",
       "      <td>11</td>\n",
       "      <td>Центральный</td>\n",
       "      <td>45.0</td>\n",
       "      <td>1798</td>\n",
       "      <td>Индивидуальный</td>\n",
       "      <td>1660.000000</td>\n",
       "      <td>4.0</td>\n",
       "      <td>3.0</td>\n",
       "      <td>30.342379</td>\n",
       "      <td>59.946111</td>\n",
       "      <td>0.261725</td>\n",
       "      <td>Гагаринская</td>\n",
       "      <td>([], [75676, 117057, 79070, 147817])</td>\n",
       "      <td>104905.000000</td>\n",
       "    </tr>\n",
       "    <tr>\n",
       "      <th>22210</th>\n",
       "      <td>Ижорского Батальона ул.</td>\n",
       "      <td>18</td>\n",
       "      <td>Колпинский</td>\n",
       "      <td>851.0</td>\n",
       "      <td>2005</td>\n",
       "      <td>600.1</td>\n",
       "      <td>18837.199219</td>\n",
       "      <td>10.0</td>\n",
       "      <td>8.0</td>\n",
       "      <td>30.622311</td>\n",
       "      <td>59.736999</td>\n",
       "      <td>-1.304648</td>\n",
       "      <td>Ижорского Батальона</td>\n",
       "      <td>([82742, 70313], [58750, 57387])</td>\n",
       "      <td>76527.500000</td>\n",
       "    </tr>\n",
       "    <tr>\n",
       "      <th>22215</th>\n",
       "      <td>Солидарности пр.</td>\n",
       "      <td>9</td>\n",
       "      <td>Невский</td>\n",
       "      <td>250.0</td>\n",
       "      <td>2007</td>\n",
       "      <td>индивидуальный</td>\n",
       "      <td>7542.100098</td>\n",
       "      <td>17.0</td>\n",
       "      <td>1.0</td>\n",
       "      <td>30.496434</td>\n",
       "      <td>59.917295</td>\n",
       "      <td>-0.659626</td>\n",
       "      <td>Солидарности</td>\n",
       "      <td>([101810, 101810, 71151, 66924], [96000, 90566...</td>\n",
       "      <td>85423.750000</td>\n",
       "    </tr>\n",
       "    <tr>\n",
       "      <th>22216</th>\n",
       "      <td>Взлётная ул.</td>\n",
       "      <td>9</td>\n",
       "      <td>Московский</td>\n",
       "      <td>278.0</td>\n",
       "      <td>1992</td>\n",
       "      <td>Индивидуальный</td>\n",
       "      <td>5610.600098</td>\n",
       "      <td>5.0</td>\n",
       "      <td>4.0</td>\n",
       "      <td>30.287792</td>\n",
       "      <td>59.812948</td>\n",
       "      <td>0.282819</td>\n",
       "      <td>Взлётная</td>\n",
       "      <td>([], [])</td>\n",
       "      <td>NaN</td>\n",
       "    </tr>\n",
       "    <tr>\n",
       "      <th>22217</th>\n",
       "      <td>Гаванская ул</td>\n",
       "      <td>29</td>\n",
       "      <td>Василеостровский</td>\n",
       "      <td>56.0</td>\n",
       "      <td>1930</td>\n",
       "      <td>Инд.</td>\n",
       "      <td>2366.699951</td>\n",
       "      <td>5.0</td>\n",
       "      <td>3.0</td>\n",
       "      <td>30.239991</td>\n",
       "      <td>59.932952</td>\n",
       "      <td>1.270581</td>\n",
       "      <td>Гаванская</td>\n",
       "      <td>([], [102500, 113963, 213675, 125000, 131579, ...</td>\n",
       "      <td>119275.208333</td>\n",
       "    </tr>\n",
       "    <tr>\n",
       "      <th>22225</th>\n",
       "      <td>Якорная ул.</td>\n",
       "      <td>3</td>\n",
       "      <td>Красногвардейский</td>\n",
       "      <td>1226.0</td>\n",
       "      <td>1984</td>\n",
       "      <td>Индивидуальный</td>\n",
       "      <td>23300.699219</td>\n",
       "      <td>8.0</td>\n",
       "      <td>2.0</td>\n",
       "      <td>30.417224</td>\n",
       "      <td>59.942177</td>\n",
       "      <td>-0.886885</td>\n",
       "      <td>Якорная</td>\n",
       "      <td>([], [92900, 80208])</td>\n",
       "      <td>86554.000000</td>\n",
       "    </tr>\n",
       "    <tr>\n",
       "      <th>22226</th>\n",
       "      <td>Дрезденская ул.</td>\n",
       "      <td>6</td>\n",
       "      <td>Выборгский</td>\n",
       "      <td>88.0</td>\n",
       "      <td>1961</td>\n",
       "      <td>индивид.</td>\n",
       "      <td>2788.550049</td>\n",
       "      <td>5.0</td>\n",
       "      <td>3.0</td>\n",
       "      <td>30.327155</td>\n",
       "      <td>60.013198</td>\n",
       "      <td>-0.309632</td>\n",
       "      <td>Дрезденская</td>\n",
       "      <td>([], [105745, 104197, 102273])</td>\n",
       "      <td>104071.666667</td>\n",
       "    </tr>\n",
       "    <tr>\n",
       "      <th>22227</th>\n",
       "      <td>Старо-Петергофский пр.</td>\n",
       "      <td>26</td>\n",
       "      <td>Адмиралтейский</td>\n",
       "      <td>152.0</td>\n",
       "      <td>1917</td>\n",
       "      <td>Индивидуальный</td>\n",
       "      <td>3019.500000</td>\n",
       "      <td>5.0</td>\n",
       "      <td>2.0</td>\n",
       "      <td>30.276396</td>\n",
       "      <td>59.906183</td>\n",
       "      <td>-0.881655</td>\n",
       "      <td>Старо-Петергофский</td>\n",
       "      <td>([], [127907, 114379, 120000, 123250, 82021, 1...</td>\n",
       "      <td>104715.875000</td>\n",
       "    </tr>\n",
       "    <tr>\n",
       "      <th>22231</th>\n",
       "      <td>Чайковского ул.</td>\n",
       "      <td>43</td>\n",
       "      <td>Центральный</td>\n",
       "      <td>62.0</td>\n",
       "      <td>1914</td>\n",
       "      <td>Индивидуальный</td>\n",
       "      <td>2792.760010</td>\n",
       "      <td>4.0</td>\n",
       "      <td>2.0</td>\n",
       "      <td>30.355056</td>\n",
       "      <td>59.946281</td>\n",
       "      <td>0.987624</td>\n",
       "      <td>Чайковского</td>\n",
       "      <td>([], [188564, 204197, 169118, 148933, 206897, ...</td>\n",
       "      <td>148181.166667</td>\n",
       "    </tr>\n",
       "    <tr>\n",
       "      <th>22237</th>\n",
       "      <td>пос.Петро-Славянка, Совхозный пр.</td>\n",
       "      <td>20</td>\n",
       "      <td>Колпинский</td>\n",
       "      <td>25.0</td>\n",
       "      <td>1962</td>\n",
       "      <td>Типовой</td>\n",
       "      <td>529.200012</td>\n",
       "      <td>2.0</td>\n",
       "      <td>2.0</td>\n",
       "      <td>30.499496</td>\n",
       "      <td>59.813234</td>\n",
       "      <td>-1.304648</td>\n",
       "      <td>пос.Петро-Славянка, Совхозный</td>\n",
       "      <td>([], [])</td>\n",
       "      <td>NaN</td>\n",
       "    </tr>\n",
       "    <tr>\n",
       "      <th>22240</th>\n",
       "      <td>Юкковское шоссе</td>\n",
       "      <td>21</td>\n",
       "      <td>Выборгский</td>\n",
       "      <td>8.0</td>\n",
       "      <td>1958</td>\n",
       "      <td>Индивидуальный</td>\n",
       "      <td>194.399994</td>\n",
       "      <td>1.0</td>\n",
       "      <td>1.0</td>\n",
       "      <td>30.265992</td>\n",
       "      <td>60.112603</td>\n",
       "      <td>-0.309632</td>\n",
       "      <td>Юкковское</td>\n",
       "      <td>([], [96845, 65025, 55250, 71190, 63830, 85345...</td>\n",
       "      <td>76436.434783</td>\n",
       "    </tr>\n",
       "    <tr>\n",
       "      <th>22241</th>\n",
       "      <td>Дачный пр.</td>\n",
       "      <td>2</td>\n",
       "      <td>Кировский</td>\n",
       "      <td>433.0</td>\n",
       "      <td>2004</td>\n",
       "      <td>9/26Б-02</td>\n",
       "      <td>19925.699219</td>\n",
       "      <td>9.0</td>\n",
       "      <td>5.0</td>\n",
       "      <td>30.240136</td>\n",
       "      <td>59.849990</td>\n",
       "      <td>-0.587142</td>\n",
       "      <td>Дачный</td>\n",
       "      <td>([115476, 89742, 118482, 111111, 115917, 72549...</td>\n",
       "      <td>106469.777778</td>\n",
       "    </tr>\n",
       "    <tr>\n",
       "      <th>22243</th>\n",
       "      <td>Гданьская ул.</td>\n",
       "      <td>3</td>\n",
       "      <td>Выборгский</td>\n",
       "      <td>256.0</td>\n",
       "      <td>1956</td>\n",
       "      <td>индивидуальный</td>\n",
       "      <td>8835.200195</td>\n",
       "      <td>5.0</td>\n",
       "      <td>9.0</td>\n",
       "      <td>30.325358</td>\n",
       "      <td>60.015253</td>\n",
       "      <td>-0.309632</td>\n",
       "      <td>Гданьская</td>\n",
       "      <td>([110951, 106027], [111290, 123529, 103125, 13...</td>\n",
       "      <td>108489.000000</td>\n",
       "    </tr>\n",
       "    <tr>\n",
       "      <th>22247</th>\n",
       "      <td>Шпалерная ул.</td>\n",
       "      <td>28</td>\n",
       "      <td>Центральный</td>\n",
       "      <td>118.0</td>\n",
       "      <td>1916</td>\n",
       "      <td>Индивидуальный</td>\n",
       "      <td>4859.029785</td>\n",
       "      <td>4.0</td>\n",
       "      <td>4.0</td>\n",
       "      <td>30.352713</td>\n",
       "      <td>59.949238</td>\n",
       "      <td>3.880369</td>\n",
       "      <td>Шпалерная</td>\n",
       "      <td>([], [236923, 236923, 123452, 280000, 178744, ...</td>\n",
       "      <td>163055.727273</td>\n",
       "    </tr>\n",
       "  </tbody>\n",
       "</table>\n",
       "<p>17197 rows × 15 columns</p>\n",
       "</div>"
      ],
      "text/plain": [
       "                                      street  Home              raion  \\\n",
       "0                          Лени Голикова ул.    23          Кировский   \n",
       "1                        Среднегаванский пр.    14   Василеостровский   \n",
       "2                               Рашетова ул.     9         Выборгский   \n",
       "3                          Сердобольская ул.    37         Приморский   \n",
       "4                               Флотская ул.     2       Кронштадский   \n",
       "5                               Флотская ул.     5       Кронштадский   \n",
       "6                          Лени Голикова ул.    49          Кировский   \n",
       "7                              Димитрова ул.    31        Фрунзенский   \n",
       "8                               Шателена ул.     2         Выборгский   \n",
       "9                               Шателена ул.    16         Выборгский   \n",
       "10                              Шателена ул.     6         Выборгский   \n",
       "11     пос.Металлострой, Железнодорожная ул.    13         Колпинский   \n",
       "12                            Наб. р. Пряжки    38     Адмиралтейский   \n",
       "13                         Лени Голикова ул.    94          Кировский   \n",
       "14                             Куйбышева ул.    14      Петроградский   \n",
       "15                             Куйбышева ул.  33/8      Петроградский   \n",
       "16                           Талалихина пер.  5/15      Петроградский   \n",
       "17                      Маршала Говорова ул.    32          Кировский   \n",
       "18                                Лесной пр.    32         Выборгский   \n",
       "19                             Пятилеток пр.     9            Невский   \n",
       "21                           Шоссе Революции    27  Красногвардейский   \n",
       "22                              Нахимова ул.     1   Василеостровский   \n",
       "23                             Белоусова ул.  6/42          Кировский   \n",
       "24                     г.Пушкин, Средняя ул.    24         Пушкинский   \n",
       "25                           Шоссе Революции    45  Красногвардейский   \n",
       "26                                Лесной пр.     3        Калининский   \n",
       "27                           Шоссе Революции    48  Красногвардейский   \n",
       "28                              Зосимова ул.     7       Кронштадский   \n",
       "29                              Зосимова ул.    11       Кронштадский   \n",
       "30                           Авиационная ул.    18         Московский   \n",
       "...                                      ...   ...                ...   \n",
       "22186                        Воронежская ул.    40        Фрунзенский   \n",
       "22187        пос.Петро-Славянка, Клубная ул.     3         Колпинский   \n",
       "22188                       Всеволожская ул.     7  Красногвардейский   \n",
       "22189                       Всеволожская ул.     9  Красногвардейский   \n",
       "22190                        Октябрьская ул.    71         Колпинский   \n",
       "22191                            Южное шоссе    64        Фрунзенский   \n",
       "22192               Танкиста Хрустицкого ул.    58          Кировский   \n",
       "22193                        Костромской пр.    30         Выборгский   \n",
       "22194                             Стачек пр.   164          Кировский   \n",
       "22195                       27-я линия, В.О.    10   Василеостровский   \n",
       "22197                    Демьяна Бедного ул.    30        Калининский   \n",
       "22198                    Демьяна Бедного ул.    30        Калининский   \n",
       "22199                    Солдата Корзуна ул.    56          Кировский   \n",
       "22200                             Победы ул.    17         Московский   \n",
       "22202                    Большая Подъяческая   1-3     Адмиралтейский   \n",
       "22203                          Некрасова ул.    23        Центральный   \n",
       "22209                        Гагаринская ул.    11        Центральный   \n",
       "22210                Ижорского Батальона ул.    18         Колпинский   \n",
       "22215                       Солидарности пр.     9            Невский   \n",
       "22216                           Взлётная ул.     9         Московский   \n",
       "22217                           Гаванская ул    29   Василеостровский   \n",
       "22225                            Якорная ул.     3  Красногвардейский   \n",
       "22226                        Дрезденская ул.     6         Выборгский   \n",
       "22227                 Старо-Петергофский пр.    26     Адмиралтейский   \n",
       "22231                        Чайковского ул.    43        Центральный   \n",
       "22237      пос.Петро-Славянка, Совхозный пр.    20         Колпинский   \n",
       "22240                        Юкковское шоссе    21         Выборгский   \n",
       "22241                             Дачный пр.     2          Кировский   \n",
       "22243                          Гданьская ул.     3         Выборгский   \n",
       "22247                          Шпалерная ул.    28        Центральный   \n",
       "\n",
       "       Количество проживающих Год постройки Серия, тип проекта  \\\n",
       "0                       213.0          1967               Г-3И   \n",
       "1                        69.0          1901     Индивидуальный   \n",
       "2                        82.0          1965     Индивидуальный   \n",
       "3                        60.0          1916     Индивидуальный   \n",
       "4                       344.0          1900     Индивидуальный   \n",
       "5                       121.0          1973     Индивидуальный   \n",
       "6                       194.0          1967                Г-3   \n",
       "7                      1321.0          1981                137   \n",
       "8                       103.0          1961        1-528-КП-99   \n",
       "9                       113.0          1960     Индивидуальный   \n",
       "10                      106.0          1961     Индивидуальный   \n",
       "11                       44.0          1950               инд.   \n",
       "12                      133.0          1902               Инд.   \n",
       "13                      191.0          1966               Г-34   \n",
       "14                      133.0          1914     Индивидуальный   \n",
       "15                      203.0          1907     Индивидуальный   \n",
       "16                       77.0          1911     Индивидуальный   \n",
       "17                      127.0          1960                ИТП   \n",
       "18                      307.0          1937     индивидуальный   \n",
       "19                      492.0          2000     Индивидуальный   \n",
       "21                      159.0          1971           1-528 КП   \n",
       "22                     2467.0          1973               Инд.   \n",
       "23                      104.0          1952     Индивидуальный   \n",
       "24                       31.0          1917     Индивидуальный   \n",
       "25                      401.0          1969           1 ЛГ-606   \n",
       "26                      129.0          1899     Индивидуальный   \n",
       "27                      156.0          1961              1-528   \n",
       "28                      146.0          1971     Индивидуальный   \n",
       "29                       69.0          1880     Индивидуальный   \n",
       "30                      177.0          1962     Индивидуальный   \n",
       "...                       ...           ...                ...   \n",
       "22186                    22.0          1902           Индивид.   \n",
       "22187                    30.0          1961  Тип. проект №8966   \n",
       "22188                    25.0          1950     Индивидуальный   \n",
       "22189                    32.0          1950     Индивидуальный   \n",
       "22190                   436.0          1985         1 ЛГ 504 Д   \n",
       "22191                   138.0          1960     Индивидуальный   \n",
       "22192                    42.0          1960                 Г3   \n",
       "22193                    38.0          1953     Индивидуальный   \n",
       "22194                   210.0          1987      индивидуаьный   \n",
       "22195                    55.0          1897     Индивидуальный   \n",
       "22197                   433.0          1972        1ЛГ-502-В-9   \n",
       "22198                   261.0          1972        1ЛГ-502-В-6   \n",
       "22199                   188.0          1968          1ЛГ-507-4   \n",
       "22200                   316.0          1954     Индивидуальный   \n",
       "22202                   111.0          1870               Инд.   \n",
       "22203                    30.0          1904     Индивидуальный   \n",
       "22209                    45.0          1798     Индивидуальный   \n",
       "22210                   851.0          2005              600.1   \n",
       "22215                   250.0          2007     индивидуальный   \n",
       "22216                   278.0          1992     Индивидуальный   \n",
       "22217                    56.0          1930               Инд.   \n",
       "22225                  1226.0          1984     Индивидуальный   \n",
       "22226                    88.0          1961           индивид.   \n",
       "22227                   152.0          1917     Индивидуальный   \n",
       "22231                    62.0          1914     Индивидуальный   \n",
       "22237                    25.0          1962            Типовой   \n",
       "22240                     8.0          1958     Индивидуальный   \n",
       "22241                   433.0          2004           9/26Б-02   \n",
       "22243                   256.0          1956     индивидуальный   \n",
       "22247                   118.0          1916     Индивидуальный   \n",
       "\n",
       "       Общая площадь здания  Число этажей  Число лестниц        lng  \\\n",
       "0               3601.449951           5.0            7.0  30.229946   \n",
       "1               1581.380005           6.0            2.0  30.243179   \n",
       "2               2334.000000           9.0            1.0  30.324209   \n",
       "3               1978.150024           5.0            1.0  30.316559   \n",
       "4               8968.500000           3.0            4.0  30.473965   \n",
       "5               3885.600098           5.0            3.0  30.473965   \n",
       "6               3701.899902           5.0            7.0  30.234920   \n",
       "7              40146.800781          12.0            9.0  30.409150   \n",
       "8               2783.000000           5.0            3.0  30.364329   \n",
       "9               2731.000000           5.0            3.0  30.360563   \n",
       "10              2843.000000           5.0            3.0  30.363157   \n",
       "11              1247.729980           2.0            3.0  30.567958   \n",
       "12              2694.129883           6.0            2.0  30.280091   \n",
       "13              3693.830078           5.0            7.0  30.247958   \n",
       "14              4994.970215           6.0            5.0  30.327411   \n",
       "15              7854.600098           4.0            9.0  30.334142   \n",
       "16              3861.100098           6.0            5.0  30.297372   \n",
       "17              3341.600098           5.0            4.0  30.277416   \n",
       "18              9770.900391           7.0           12.0  30.347286   \n",
       "19             29539.000000          17.0            5.0  30.457769   \n",
       "21              5455.419922          14.0            1.0  30.425998   \n",
       "22             50596.839844          10.0            9.0  30.234407   \n",
       "23              3575.100098           4.0            3.0  30.267868   \n",
       "24               532.809998           3.0            2.0  30.404513   \n",
       "25             10896.870117           9.0            4.0  30.442714   \n",
       "26              3918.379883           5.0            3.0  30.352673   \n",
       "27              3908.949951           5.0            4.0  30.432766   \n",
       "28              3807.699951           6.0            3.0  29.759010   \n",
       "29              2164.500000           2.0            2.0  29.758000   \n",
       "30              6623.200195           8.0            2.0  30.324860   \n",
       "...                     ...           ...            ...        ...   \n",
       "22186            842.099976           5.0            1.0  30.347058   \n",
       "22187            866.599976           2.0            2.0  30.510729   \n",
       "22188            512.599976           2.0            1.0  30.522305   \n",
       "22189            516.200012           2.0            1.0  30.522803   \n",
       "22190           9048.990234          12.0            2.0  30.459725   \n",
       "22191           3149.300049           5.0            3.0  30.414288   \n",
       "22192            866.200012           3.0            2.0  30.251522   \n",
       "22193           1871.300049           3.0            3.0  30.316775   \n",
       "22194           4764.399902           7.0            2.0  30.248062   \n",
       "22195           1331.510010           5.0            1.0  30.273508   \n",
       "22197           7020.799805           5.0            9.0  30.391371   \n",
       "22198           4754.220215           5.0            6.0  30.391371   \n",
       "22199           4004.500000           5.0            4.0  30.223528   \n",
       "22200           8720.000000           6.0            3.0  30.323199   \n",
       "22202           3552.870117           4.0            7.0  30.305363   \n",
       "22203           1506.300049           5.0            2.0  30.358626   \n",
       "22209           1660.000000           4.0            3.0  30.342379   \n",
       "22210          18837.199219          10.0            8.0  30.622311   \n",
       "22215           7542.100098          17.0            1.0  30.496434   \n",
       "22216           5610.600098           5.0            4.0  30.287792   \n",
       "22217           2366.699951           5.0            3.0  30.239991   \n",
       "22225          23300.699219           8.0            2.0  30.417224   \n",
       "22226           2788.550049           5.0            3.0  30.327155   \n",
       "22227           3019.500000           5.0            2.0  30.276396   \n",
       "22231           2792.760010           4.0            2.0  30.355056   \n",
       "22237            529.200012           2.0            2.0  30.499496   \n",
       "22240            194.399994           1.0            1.0  30.265992   \n",
       "22241          19925.699219           9.0            5.0  30.240136   \n",
       "22243           8835.200195           5.0            9.0  30.325358   \n",
       "22247           4859.029785           4.0            4.0  30.352713   \n",
       "\n",
       "             lat     price                        street_name  \\\n",
       "0      59.844715 -0.071891                      Лени Голикова   \n",
       "1      59.930236  0.404150                    Среднегаванский   \n",
       "2      60.020927 -0.309632                           Рашетова   \n",
       "3      59.989446  0.721086                      Сердобольская   \n",
       "4      60.059112 -0.343588                           Флотская   \n",
       "5      60.059112 -0.343588                           Флотская   \n",
       "6      59.840552 -0.071891                      Лени Голикова   \n",
       "7      59.851188  0.387372                          Димитрова   \n",
       "8      60.001551 -0.309632                           Шателена   \n",
       "9      60.004269 -0.309632                           Шателена   \n",
       "10     60.002547 -0.309632                           Шателена   \n",
       "11     59.807956 -1.304648  пос.Металлострой, Железнодорожная   \n",
       "12     59.921884  0.350589                            Наб. р.   \n",
       "13     59.835232 -0.071891                      Лени Голикова   \n",
       "14     59.955470  6.032428                          Куйбышева   \n",
       "15     59.957610  6.032428                          Куйбышева   \n",
       "16     59.951380  1.482602                         Талалихина   \n",
       "17     59.889698 -0.258521                   Маршала Говорова   \n",
       "18     59.972111 -0.702289                             Лесной   \n",
       "19     59.922809 -0.044862                          Пятилеток   \n",
       "21     59.959187 -0.462352                              Шоссе   \n",
       "22     59.944007  0.909352                           Нахимова   \n",
       "23     59.888943 -0.476576                          Белоусова   \n",
       "24     59.717140 -0.838618                  г.Пушкин, Средняя   \n",
       "25     59.959562 -0.462352                              Шоссе   \n",
       "26     59.962170 -0.702289                             Лесной   \n",
       "27     59.960740 -0.462352                              Шоссе   \n",
       "28     59.998152 -0.343588                           Зосимова   \n",
       "29     59.996702 -0.343588                           Зосимова   \n",
       "30     59.854498  0.754337                        Авиационная   \n",
       "...          ...       ...                                ...   \n",
       "22186  59.914485 -0.455424                        Воронежская   \n",
       "22187  59.807166 -1.304648        пос.Петро-Славянка, Клубная   \n",
       "22188  59.978570 -0.462352                       Всеволожская   \n",
       "22189  59.978882 -0.462352                       Всеволожская   \n",
       "22190  59.874605 -0.984015                        Октябрьская   \n",
       "22191  59.864191  0.313282                              Южное   \n",
       "22192  59.838090 -0.476576               Танкиста Хрустицкого   \n",
       "22193  60.017421  1.930937                        Костромской   \n",
       "22194  59.853078 -0.199079                             Стачек   \n",
       "22195  59.942008  0.404150                        27-я линия,   \n",
       "22197  60.048305 -0.601457                    Демьяна Бедного   \n",
       "22198  60.048305 -0.601457                    Демьяна Бедного   \n",
       "22199  59.828246 -0.240039                    Солдата Корзуна   \n",
       "22200  59.862611  3.003020                             Победы   \n",
       "22202  59.926573  0.350589                            Большая   \n",
       "22203  59.938278 -0.855409                          Некрасова   \n",
       "22209  59.946111  0.261725                        Гагаринская   \n",
       "22210  59.736999 -1.304648                Ижорского Батальона   \n",
       "22215  59.917295 -0.659626                       Солидарности   \n",
       "22216  59.812948  0.282819                           Взлётная   \n",
       "22217  59.932952  1.270581                          Гаванская   \n",
       "22225  59.942177 -0.886885                            Якорная   \n",
       "22226  60.013198 -0.309632                        Дрезденская   \n",
       "22227  59.906183 -0.881655                 Старо-Петергофский   \n",
       "22231  59.946281  0.987624                        Чайковского   \n",
       "22237  59.813234 -1.304648      пос.Петро-Славянка, Совхозный   \n",
       "22240  60.112603 -0.309632                          Юкковское   \n",
       "22241  59.849990 -0.587142                             Дачный   \n",
       "22243  60.015253 -0.309632                          Гданьская   \n",
       "22247  59.949238  3.880369                          Шпалерная   \n",
       "\n",
       "                                       extrapolate_price    final_price  \n",
       "0      ([109848, 110350, 116209, 115625, 116278, 1148...  115842.000000  \n",
       "1                                         ([], [107018])  107018.000000  \n",
       "2                                 ([], [106018, 105161])  105589.500000  \n",
       "3      ([], [123684, 121795, 93023, 107500, 100000, 1...  112010.454545  \n",
       "4                ([57410, 74564], [71333, 77083, 77857])   65987.000000  \n",
       "5                ([77083], [57410, 71333, 74564, 77857])   77083.000000  \n",
       "6      ([], [88000, 104943, 86667, 82474, 80488, 9759...  106364.840000  \n",
       "7      ([87719], [113636, 90065, 120482, 93750, 10608...   87719.000000  \n",
       "8                                         ([], [115806])  115806.000000  \n",
       "9                                         ([115806], [])  115806.000000  \n",
       "10                                        ([115806], [])  115806.000000  \n",
       "11                                              ([], [])            NaN  \n",
       "12                                        ([], [119048])  119048.000000  \n",
       "13     ([], [88000, 104943, 86667, 82474, 80488, 9759...  106364.840000  \n",
       "14     ([], [212491, 217500, 212040, 212040, 132692, ...  152117.562500  \n",
       "15     ([122549], [212491, 217500, 212040, 212040, 13...  122549.000000  \n",
       "16                                              ([], [])            NaN  \n",
       "17     ([97674], [120567, 104255, 107576, 92641, 1130...   97674.000000  \n",
       "18     ([], [120000, 105072, 72589, 119733, 84648, 75...   94276.684211  \n",
       "19     ([90278, 95833, 113014, 105455, 115942, 115283...  105967.500000  \n",
       "21     ([], [95609, 65306, 94872, 83922, 78684, 67039...   69508.125874  \n",
       "22     ([216573, 155134, 207547, 94957, 144954, 12792...  176009.800000  \n",
       "23                                         ([95545], [])   95545.000000  \n",
       "24                                              ([], [])            NaN  \n",
       "25     ([90476], [95609, 65306, 94872, 83922, 78684, ...   90476.000000  \n",
       "26     ([105072, 72589, 84648, 115217, 103947, 104348...   92844.625000  \n",
       "27     ([], [95609, 65306, 94872, 83922, 78684, 67039...   69508.125874  \n",
       "28     ([], [77778, 65400, 65400, 65400, 65400, 65400...   69254.000000  \n",
       "29     ([], [77778, 65400, 65400, 65400, 65400, 65400...   69254.000000  \n",
       "30                        ([], [129256, 144340, 135338])  136311.333333  \n",
       "...                                                  ...            ...  \n",
       "22186  ([], [160714, 96087, 85345, 93640, 92063, 8850...  102363.666667  \n",
       "22187                                           ([], [])            NaN  \n",
       "22188                                           ([], [])            NaN  \n",
       "22189                                           ([], [])            NaN  \n",
       "22190  ([], [94005, 94005, 85103, 85103, 84027, 76090...   81882.248677  \n",
       "22191  ([], [102857, 117949, 122911, 115789, 125184, ...  113086.794872  \n",
       "22192  ([], [96154, 107143, 103093, 105333, 97674, 76...   97660.500000  \n",
       "22193  ([111842, 112103], [124722, 140306, 125000, 12...  111972.500000  \n",
       "22194  ([107895], [116471, 125676, 96859, 94248, 1340...  107895.000000  \n",
       "22195                                           ([], [])            NaN  \n",
       "22197  ([64570, 62914, 97969, 70000, 75600, 72000], [...   73842.166667  \n",
       "22198  ([64570, 62914, 97969, 70000, 75600, 72000], [...   73842.166667  \n",
       "22199  ([], [82432, 82432, 92040, 96238, 119643, 9344...   93223.823529  \n",
       "22200  ([], [377863, 319200, 401515, 141791, 413417, ...  175681.666667  \n",
       "22202  ([89035], [100976, 121560, 92900, 256198, 1364...   89035.000000  \n",
       "22203  ([], [138304, 138304, 102193, 58667, 123966, 7...  106219.454545  \n",
       "22209               ([], [75676, 117057, 79070, 147817])  104905.000000  \n",
       "22210                   ([82742, 70313], [58750, 57387])   76527.500000  \n",
       "22215  ([101810, 101810, 71151, 66924], [96000, 90566...   85423.750000  \n",
       "22216                                           ([], [])            NaN  \n",
       "22217  ([], [102500, 113963, 213675, 125000, 131579, ...  119275.208333  \n",
       "22225                               ([], [92900, 80208])   86554.000000  \n",
       "22226                     ([], [105745, 104197, 102273])  104071.666667  \n",
       "22227  ([], [127907, 114379, 120000, 123250, 82021, 1...  104715.875000  \n",
       "22231  ([], [188564, 204197, 169118, 148933, 206897, ...  148181.166667  \n",
       "22237                                           ([], [])            NaN  \n",
       "22240  ([], [96845, 65025, 55250, 71190, 63830, 85345...   76436.434783  \n",
       "22241  ([115476, 89742, 118482, 111111, 115917, 72549...  106469.777778  \n",
       "22243  ([110951, 106027], [111290, 123529, 103125, 13...  108489.000000  \n",
       "22247  ([], [236923, 236923, 123452, 280000, 178744, ...  163055.727273  \n",
       "\n",
       "[17197 rows x 15 columns]"
      ]
     },
     "execution_count": 479,
     "metadata": {},
     "output_type": "execute_result"
    }
   ],
   "source": [
    "houses_df"
   ]
  },
  {
   "cell_type": "code",
   "execution_count": 279,
   "metadata": {},
   "outputs": [
    {
     "data": {
      "text/html": [
       "<div>\n",
       "<style>\n",
       "    .dataframe thead tr:only-child th {\n",
       "        text-align: right;\n",
       "    }\n",
       "\n",
       "    .dataframe thead th {\n",
       "        text-align: left;\n",
       "    }\n",
       "\n",
       "    .dataframe tbody tr th {\n",
       "        vertical-align: top;\n",
       "    }\n",
       "</style>\n",
       "<table border=\"1\" class=\"dataframe\">\n",
       "  <thead>\n",
       "    <tr style=\"text-align: right;\">\n",
       "      <th></th>\n",
       "      <th>address</th>\n",
       "      <th>price</th>\n",
       "      <th>len</th>\n",
       "      <th>street</th>\n",
       "    </tr>\n",
       "  </thead>\n",
       "  <tbody>\n",
       "    <tr>\n",
       "      <th>999</th>\n",
       "      <td>[Савушкина ул., Чёрная речка, Санкт-Петербург]</td>\n",
       "      <td>163899</td>\n",
       "      <td>3</td>\n",
       "      <td>None</td>\n",
       "    </tr>\n",
       "    <tr>\n",
       "      <th>1000</th>\n",
       "      <td>[Муринская дорога, 84, Полюстрово, Санкт-Петер...</td>\n",
       "      <td>52857</td>\n",
       "      <td>4</td>\n",
       "      <td>None</td>\n",
       "    </tr>\n",
       "    <tr>\n",
       "      <th>1001</th>\n",
       "      <td>[Муринская дорога, 80к1, Полюстрово, Санкт-Пет...</td>\n",
       "      <td>54091</td>\n",
       "      <td>4</td>\n",
       "      <td>None</td>\n",
       "    </tr>\n",
       "    <tr>\n",
       "      <th>1002</th>\n",
       "      <td>[Московский проспект, 83В, Измайловское округ,...</td>\n",
       "      <td>106768</td>\n",
       "      <td>4</td>\n",
       "      <td>None</td>\n",
       "    </tr>\n",
       "    <tr>\n",
       "      <th>1003</th>\n",
       "      <td>[Московское шоссе, 23к2В, Звёздное, Санкт-Пете...</td>\n",
       "      <td>82453</td>\n",
       "      <td>4</td>\n",
       "      <td>None</td>\n",
       "    </tr>\n",
       "    <tr>\n",
       "      <th>1004</th>\n",
       "      <td>[ул Чекистов, 44, Сосновая поляна, Санкт-Петер...</td>\n",
       "      <td>66000</td>\n",
       "      <td>4</td>\n",
       "      <td>None</td>\n",
       "    </tr>\n",
       "    <tr>\n",
       "      <th>1005</th>\n",
       "      <td>[Московское шоссе, 23АЮ, Звёздное, Санкт-Петер...</td>\n",
       "      <td>77517</td>\n",
       "      <td>4</td>\n",
       "      <td>None</td>\n",
       "    </tr>\n",
       "    <tr>\n",
       "      <th>1006</th>\n",
       "      <td>[Нижне-Каменская улица, 1, Юнтолово, Санкт-Пет...</td>\n",
       "      <td>66038</td>\n",
       "      <td>4</td>\n",
       "      <td>None</td>\n",
       "    </tr>\n",
       "    <tr>\n",
       "      <th>1007</th>\n",
       "      <td>[Михайловская улица, 10/2, Ломоносов, Санкт-Пе...</td>\n",
       "      <td>48485</td>\n",
       "      <td>4</td>\n",
       "      <td>None</td>\n",
       "    </tr>\n",
       "    <tr>\n",
       "      <th>1009</th>\n",
       "      <td>[Комендантский проспект, 53к1, Коломяги, Санкт...</td>\n",
       "      <td>64000</td>\n",
       "      <td>4</td>\n",
       "      <td>None</td>\n",
       "    </tr>\n",
       "  </tbody>\n",
       "</table>\n",
       "</div>"
      ],
      "text/plain": [
       "                                                address   price  len street\n",
       "999      [Савушкина ул., Чёрная речка, Санкт-Петербург]  163899    3   None\n",
       "1000  [Муринская дорога, 84, Полюстрово, Санкт-Петер...   52857    4   None\n",
       "1001  [Муринская дорога, 80к1, Полюстрово, Санкт-Пет...   54091    4   None\n",
       "1002  [Московский проспект, 83В, Измайловское округ,...  106768    4   None\n",
       "1003  [Московское шоссе, 23к2В, Звёздное, Санкт-Пете...   82453    4   None\n",
       "1004  [ул Чекистов, 44, Сосновая поляна, Санкт-Петер...   66000    4   None\n",
       "1005  [Московское шоссе, 23АЮ, Звёздное, Санкт-Петер...   77517    4   None\n",
       "1006  [Нижне-Каменская улица, 1, Юнтолово, Санкт-Пет...   66038    4   None\n",
       "1007  [Михайловская улица, 10/2, Ломоносов, Санкт-Пе...   48485    4   None\n",
       "1009  [Комендантский проспект, 53к1, Коломяги, Санкт...   64000    4   None"
      ]
     },
     "execution_count": 279,
     "metadata": {},
     "output_type": "execute_result"
    }
   ],
   "source": [
    "flats_df.head(10)"
   ]
  },
  {
   "cell_type": "code",
   "execution_count": 296,
   "metadata": {},
   "outputs": [],
   "source": [
    "flats_df['address'] = flats_df['address'].apply(lambda x: ', '.join(x))"
   ]
  },
  {
   "cell_type": "code",
   "execution_count": 281,
   "metadata": {
    "collapsed": true
   },
   "outputs": [],
   "source": [
    "lst = [0, 1, 2, 3]"
   ]
  },
  {
   "cell_type": "code",
   "execution_count": 282,
   "metadata": {},
   "outputs": [
    {
     "data": {
      "text/plain": [
       "[0, 1, 2]"
      ]
     },
     "execution_count": 282,
     "metadata": {},
     "output_type": "execute_result"
    }
   ],
   "source": [
    "lst[:-1]"
   ]
  },
  {
   "cell_type": "code",
   "execution_count": 288,
   "metadata": {},
   "outputs": [],
   "source": [
    "houses_df['street_name'] = houses_df['street'].apply(lambda x: ' '.join(x.split(' ')[:-1]))"
   ]
  },
  {
   "cell_type": "code",
   "execution_count": 291,
   "metadata": {},
   "outputs": [],
   "source": [
    "houses_df.rename(columns={'Дом': 'Home'}, inplace=True)"
   ]
  },
  {
   "cell_type": "code",
   "execution_count": 298,
   "metadata": {
    "collapsed": true
   },
   "outputs": [],
   "source": [
    "def help_2(home, street):\n",
    "    home_prices = []\n",
    "    street_prices = []\n",
    "    for el, pr in zip(flats_df['address'].values, flats_df['price']):\n",
    "        if (home in el) and (street in el):\n",
    "            home_prices.append(pr)\n",
    "        elif street in el:\n",
    "            street_prices.append(pr)\n",
    "    return (home_prices, street_prices)"
   ]
  },
  {
   "cell_type": "code",
   "execution_count": 301,
   "metadata": {},
   "outputs": [],
   "source": [
    "houses_df['extrapolate_price'] = houses_df.apply(lambda x: help_2(x.Home, x.street_name), axis=1)"
   ]
  },
  {
   "cell_type": "code",
   "execution_count": 303,
   "metadata": {
    "collapsed": true
   },
   "outputs": [],
   "source": [
    "def help_3(price_tuple):\n",
    "    if len(price_tuple[0]) != 0:\n",
    "        return np.array(price_tuple[0]).mean()\n",
    "    elif len(price_tuple[1]) != 0:\n",
    "        return np.array(price_tuple[1]).mean()\n",
    "    else:\n",
    "        return None"
   ]
  },
  {
   "cell_type": "code",
   "execution_count": 304,
   "metadata": {},
   "outputs": [],
   "source": [
    "houses_df['final_price'] = houses_df['extrapolate_price'].apply(lambda x: help_3(x))"
   ]
  },
  {
   "cell_type": "code",
   "execution_count": 308,
   "metadata": {},
   "outputs": [
    {
     "data": {
      "text/plain": [
       "2353"
      ]
     },
     "execution_count": 308,
     "metadata": {},
     "output_type": "execute_result"
    }
   ],
   "source": [
    "sum(houses_df['final_price'].isnull())"
   ]
  },
  {
   "cell_type": "code",
   "execution_count": 309,
   "metadata": {},
   "outputs": [
    {
     "data": {
      "text/plain": [
       "(17197, 15)"
      ]
     },
     "execution_count": 309,
     "metadata": {},
     "output_type": "execute_result"
    }
   ],
   "source": [
    "houses_df.shape"
   ]
  },
  {
   "cell_type": "code",
   "execution_count": 480,
   "metadata": {},
   "outputs": [],
   "source": [
    "final_dataset = pd.read_csv('all_feat_data.csv').drop(['Unnamed: 0', 'lon', 'lat', 'location'], axis=1)"
   ]
  },
  {
   "cell_type": "code",
   "execution_count": 481,
   "metadata": {
    "collapsed": true
   },
   "outputs": [],
   "source": [
    "final_dataset['price'] = houses_df['final_price']"
   ]
  },
  {
   "cell_type": "code",
   "execution_count": 482,
   "metadata": {},
   "outputs": [
    {
     "data": {
      "text/html": [
       "<div>\n",
       "<style>\n",
       "    .dataframe thead tr:only-child th {\n",
       "        text-align: right;\n",
       "    }\n",
       "\n",
       "    .dataframe thead th {\n",
       "        text-align: left;\n",
       "    }\n",
       "\n",
       "    .dataframe tbody tr th {\n",
       "        vertical-align: top;\n",
       "    }\n",
       "</style>\n",
       "<table border=\"1\" class=\"dataframe\">\n",
       "  <thead>\n",
       "    <tr style=\"text-align: right;\">\n",
       "      <th></th>\n",
       "      <th>crime</th>\n",
       "      <th>complain</th>\n",
       "      <th>educ_dist</th>\n",
       "      <th>rest_dist</th>\n",
       "      <th>infrastr_dist</th>\n",
       "      <th>med_dist</th>\n",
       "      <th>shops_dist</th>\n",
       "      <th>food_retail</th>\n",
       "      <th>rest</th>\n",
       "      <th>educ</th>\n",
       "      <th>infrastr</th>\n",
       "      <th>med</th>\n",
       "      <th>district_year</th>\n",
       "      <th>year</th>\n",
       "      <th>floors</th>\n",
       "      <th>price</th>\n",
       "    </tr>\n",
       "  </thead>\n",
       "  <tbody>\n",
       "    <tr>\n",
       "      <th>0</th>\n",
       "      <td>0.679315</td>\n",
       "      <td>1.117699</td>\n",
       "      <td>0.009675</td>\n",
       "      <td>0.003157</td>\n",
       "      <td>0.002949</td>\n",
       "      <td>0.003971</td>\n",
       "      <td>0.001185</td>\n",
       "      <td>1.387198</td>\n",
       "      <td>0.315501</td>\n",
       "      <td>-0.693321</td>\n",
       "      <td>0.909674</td>\n",
       "      <td>0.475634</td>\n",
       "      <td>0.745862</td>\n",
       "      <td>0.630134</td>\n",
       "      <td>-0.280710</td>\n",
       "      <td>115842.000000</td>\n",
       "    </tr>\n",
       "    <tr>\n",
       "      <th>1</th>\n",
       "      <td>0.910500</td>\n",
       "      <td>1.172718</td>\n",
       "      <td>0.000584</td>\n",
       "      <td>0.001834</td>\n",
       "      <td>0.002258</td>\n",
       "      <td>0.000570</td>\n",
       "      <td>0.001469</td>\n",
       "      <td>1.497607</td>\n",
       "      <td>1.029705</td>\n",
       "      <td>2.453418</td>\n",
       "      <td>1.205592</td>\n",
       "      <td>1.242706</td>\n",
       "      <td>0.160107</td>\n",
       "      <td>-0.916830</td>\n",
       "      <td>0.038097</td>\n",
       "      <td>107018.000000</td>\n",
       "    </tr>\n",
       "    <tr>\n",
       "      <th>2</th>\n",
       "      <td>0.910500</td>\n",
       "      <td>1.223731</td>\n",
       "      <td>0.002645</td>\n",
       "      <td>0.003006</td>\n",
       "      <td>0.003789</td>\n",
       "      <td>0.002193</td>\n",
       "      <td>0.001710</td>\n",
       "      <td>-1.130144</td>\n",
       "      <td>-1.081087</td>\n",
       "      <td>-0.693321</td>\n",
       "      <td>-0.933382</td>\n",
       "      <td>-1.058509</td>\n",
       "      <td>0.642959</td>\n",
       "      <td>0.583256</td>\n",
       "      <td>0.994515</td>\n",
       "      <td>105589.500000</td>\n",
       "    </tr>\n",
       "    <tr>\n",
       "      <th>3</th>\n",
       "      <td>0.910500</td>\n",
       "      <td>1.240615</td>\n",
       "      <td>0.006782</td>\n",
       "      <td>0.002118</td>\n",
       "      <td>0.006692</td>\n",
       "      <td>0.007717</td>\n",
       "      <td>0.000950</td>\n",
       "      <td>1.304445</td>\n",
       "      <td>1.080010</td>\n",
       "      <td>0.157048</td>\n",
       "      <td>1.068238</td>\n",
       "      <td>1.373051</td>\n",
       "      <td>0.133722</td>\n",
       "      <td>-0.565247</td>\n",
       "      <td>-0.280710</td>\n",
       "      <td>112010.454545</td>\n",
       "    </tr>\n",
       "    <tr>\n",
       "      <th>4</th>\n",
       "      <td>-1.318550</td>\n",
       "      <td>-1.798249</td>\n",
       "      <td>0.048342</td>\n",
       "      <td>0.005432</td>\n",
       "      <td>0.014119</td>\n",
       "      <td>0.001383</td>\n",
       "      <td>0.002467</td>\n",
       "      <td>0.478818</td>\n",
       "      <td>-0.000539</td>\n",
       "      <td>-0.693321</td>\n",
       "      <td>-0.933382</td>\n",
       "      <td>-0.291438</td>\n",
       "      <td>-0.642007</td>\n",
       "      <td>-0.940269</td>\n",
       "      <td>-0.918322</td>\n",
       "      <td>65987.000000</td>\n",
       "    </tr>\n",
       "  </tbody>\n",
       "</table>\n",
       "</div>"
      ],
      "text/plain": [
       "      crime  complain  educ_dist  rest_dist  infrastr_dist  med_dist  \\\n",
       "0  0.679315  1.117699   0.009675   0.003157       0.002949  0.003971   \n",
       "1  0.910500  1.172718   0.000584   0.001834       0.002258  0.000570   \n",
       "2  0.910500  1.223731   0.002645   0.003006       0.003789  0.002193   \n",
       "3  0.910500  1.240615   0.006782   0.002118       0.006692  0.007717   \n",
       "4 -1.318550 -1.798249   0.048342   0.005432       0.014119  0.001383   \n",
       "\n",
       "   shops_dist  food_retail      rest      educ  infrastr       med  \\\n",
       "0    0.001185     1.387198  0.315501 -0.693321  0.909674  0.475634   \n",
       "1    0.001469     1.497607  1.029705  2.453418  1.205592  1.242706   \n",
       "2    0.001710    -1.130144 -1.081087 -0.693321 -0.933382 -1.058509   \n",
       "3    0.000950     1.304445  1.080010  0.157048  1.068238  1.373051   \n",
       "4    0.002467     0.478818 -0.000539 -0.693321 -0.933382 -0.291438   \n",
       "\n",
       "   district_year      year    floors          price  \n",
       "0       0.745862  0.630134 -0.280710  115842.000000  \n",
       "1       0.160107 -0.916830  0.038097  107018.000000  \n",
       "2       0.642959  0.583256  0.994515  105589.500000  \n",
       "3       0.133722 -0.565247 -0.280710  112010.454545  \n",
       "4      -0.642007 -0.940269 -0.918322   65987.000000  "
      ]
     },
     "execution_count": 482,
     "metadata": {},
     "output_type": "execute_result"
    }
   ],
   "source": [
    "final_dataset.head()"
   ]
  },
  {
   "cell_type": "code",
   "execution_count": 483,
   "metadata": {
    "collapsed": true
   },
   "outputs": [],
   "source": [
    "final_dataset.dropna(inplace=True)"
   ]
  },
  {
   "cell_type": "code",
   "execution_count": 485,
   "metadata": {
    "collapsed": true
   },
   "outputs": [],
   "source": [
    "X['Y'] = Y_final"
   ]
  },
  {
   "cell_type": "code",
   "execution_count": 484,
   "metadata": {
    "collapsed": true
   },
   "outputs": [],
   "source": [
    "X = final_dataset.iloc[:, :-1]\n",
    "Y = final_dataset['price']"
   ]
  },
  {
   "cell_type": "code",
   "execution_count": 344,
   "metadata": {
    "collapsed": true
   },
   "outputs": [],
   "source": [
    "from sklearn.linear_model import LinearRegression, Lasso, Ridge\n",
    "from sklearn.model_selection import cross_val_score"
   ]
  },
  {
   "cell_type": "code",
   "execution_count": 358,
   "metadata": {},
   "outputs": [
    {
     "data": {
      "text/plain": [
       "Ridge(alpha=100, copy_X=True, fit_intercept=True, max_iter=None,\n",
       "   normalize=False, random_state=None, solver='auto', tol=0.001)"
      ]
     },
     "execution_count": 358,
     "metadata": {},
     "output_type": "execute_result"
    }
   ],
   "source": [
    "lasso = Lasso(alpha=100)\n",
    "ridge = Ridge(alpha=100)\n",
    "lr = LinearRegression()\n",
    "lr.fit(X, Y)\n",
    "lasso.fit(X, Y)\n",
    "ridge.fit(X, Y)"
   ]
  },
  {
   "cell_type": "code",
   "execution_count": 369,
   "metadata": {
    "collapsed": true
   },
   "outputs": [],
   "source": [
    "Y_log = np.log(Y)\n",
    "mean_ = Y_log.mean() \n",
    "std_ = Y_log.std()"
   ]
  },
  {
   "cell_type": "code",
   "execution_count": 370,
   "metadata": {},
   "outputs": [],
   "source": [
    "Y_final = (Y_log - Y_log.mean()) / Y_log.std()"
   ]
  },
  {
   "cell_type": "code",
   "execution_count": 374,
   "metadata": {
    "collapsed": true
   },
   "outputs": [],
   "source": [
    "from scipy.spatial.distance import cosine"
   ]
  },
  {
   "cell_type": "code",
   "execution_count": null,
   "metadata": {
    "collapsed": true
   },
   "outputs": [],
   "source": [
    "cosine()"
   ]
  },
  {
   "cell_type": "code",
   "execution_count": null,
   "metadata": {
    "collapsed": true
   },
   "outputs": [],
   "source": [
    "Y_"
   ]
  },
  {
   "cell_type": "code",
   "execution_count": 469,
   "metadata": {
    "collapsed": true
   },
   "outputs": [],
   "source": [
    "X = Y_final"
   ]
  },
  {
   "cell_type": "code",
   "execution_count": 486,
   "metadata": {},
   "outputs": [],
   "source": [
    "X_train = X[:10]\n",
    "X_test = X[10:]"
   ]
  },
  {
   "cell_type": "code",
   "execution_count": 502,
   "metadata": {},
   "outputs": [
    {
     "data": {
      "text/plain": [
       "array([[ 1.       ,  0.0647957],\n",
       "       [ 0.0647957,  1.       ]])"
      ]
     },
     "execution_count": 502,
     "metadata": {},
     "output_type": "execute_result"
    }
   ],
   "source": [
    "np.corrcoef(np.array(cos1).reshape(1, -1), np.array(pr1).reshape(1, -1))"
   ]
  },
  {
   "cell_type": "code",
   "execution_count": 501,
   "metadata": {},
   "outputs": [
    {
     "name": "stderr",
     "output_type": "stream",
     "text": [
      "C:\\Users\\isafiulin\\AppData\\Local\\Continuum\\Anaconda3\\lib\\site-packages\\ipykernel_launcher.py:7: SettingWithCopyWarning: \n",
      "A value is trying to be set on a copy of a slice from a DataFrame.\n",
      "Try using .loc[row_indexer,col_indexer] = value instead\n",
      "\n",
      "See the caveats in the documentation: http://pandas.pydata.org/pandas-docs/stable/indexing.html#indexing-view-versus-copy\n",
      "  import sys\n",
      "C:\\Users\\isafiulin\\AppData\\Local\\Continuum\\Anaconda3\\lib\\site-packages\\ipykernel_launcher.py:8: SettingWithCopyWarning: \n",
      "A value is trying to be set on a copy of a slice from a DataFrame.\n",
      "Try using .loc[row_indexer,col_indexer] = value instead\n",
      "\n",
      "See the caveats in the documentation: http://pandas.pydata.org/pandas-docs/stable/indexing.html#indexing-view-versus-copy\n",
      "  \n",
      "C:\\Users\\isafiulin\\AppData\\Local\\Continuum\\Anaconda3\\lib\\site-packages\\ipykernel_launcher.py:9: SettingWithCopyWarning: \n",
      "A value is trying to be set on a copy of a slice from a DataFrame\n",
      "\n",
      "See the caveats in the documentation: http://pandas.pydata.org/pandas-docs/stable/indexing.html#indexing-view-versus-copy\n",
      "  if __name__ == '__main__':\n"
     ]
    }
   ],
   "source": [
    "cos1 = []\n",
    "pr1 = []\n",
    "for x in X_train.values:\n",
    "    r1, r2 = get_lalal(x[:15], X_test, x[15])\n",
    "    cos1.append(r1) \n",
    "    pr1.append(r2)"
   ]
  },
  {
   "cell_type": "code",
   "execution_count": 496,
   "metadata": {},
   "outputs": [],
   "source": [
    "def get_lalal(x, X_test, y):\n",
    "    cosines = []\n",
    "    prices = []\n",
    "    for el in X_test.values:\n",
    "        cosines.append(cosine(changed_coefs * x, changed_coefs * el[:15]))\n",
    "        prices.append(abs(y - el[15]))\n",
    "    X_test['cosines'] = cosines\n",
    "    X_test['prices'] = prices\n",
    "    X_test.sort_values(by='cosines', inplace=True)\n",
    "    return X_test['cosines'][:10], X_test['prices'][:10]"
   ]
  },
  {
   "cell_type": "code",
   "execution_count": 446,
   "metadata": {
    "collapsed": true
   },
   "outputs": [],
   "source": [
    "from sklearn.preprocessing import MinMaxScaler\n",
    "from numpy.linalg import norm\n",
    "mms = MinMaxScaler()"
   ]
  },
  {
   "cell_type": "code",
   "execution_count": 500,
   "metadata": {},
   "outputs": [
    {
     "name": "stderr",
     "output_type": "stream",
     "text": [
      "C:\\Users\\isafiulin\\AppData\\Local\\Continuum\\Anaconda3\\lib\\site-packages\\sklearn\\preprocessing\\data.py:321: DeprecationWarning: Passing 1d arrays as data is deprecated in 0.17 and will raise ValueError in 0.19. Reshape your data either using X.reshape(-1, 1) if your data has a single feature or X.reshape(1, -1) if it contains a single sample.\n",
      "  warnings.warn(DEPRECATION_MSG_1D, DeprecationWarning)\n",
      "C:\\Users\\isafiulin\\AppData\\Local\\Continuum\\Anaconda3\\lib\\site-packages\\sklearn\\preprocessing\\data.py:356: DeprecationWarning: Passing 1d arrays as data is deprecated in 0.17 and will raise ValueError in 0.19. Reshape your data either using X.reshape(-1, 1) if your data has a single feature or X.reshape(1, -1) if it contains a single sample.\n",
      "  warnings.warn(DEPRECATION_MSG_1D, DeprecationWarning)\n"
     ]
    }
   ],
   "source": [
    "changed_coefs = mms.fit_transform(abs(lr.coef_))"
   ]
  },
  {
   "cell_type": "code",
   "execution_count": 407,
   "metadata": {},
   "outputs": [],
   "source": [
    "buf1 = np.array([i for i in range(len(lr.coef_))])\n",
    "buf2 = np.array([i for i in range(1, len(lr.coef_)+1)])"
   ]
  },
  {
   "cell_type": "code",
   "execution_count": 408,
   "metadata": {},
   "outputs": [
    {
     "data": {
      "text/plain": [
       "2.9409636692473518"
      ]
     },
     "execution_count": 408,
     "metadata": {},
     "output_type": "execute_result"
    }
   ],
   "source": [
    "norm(changed_coefs * (buf1 - buf2))"
   ]
  },
  {
   "cell_type": "code",
   "execution_count": null,
   "metadata": {
    "collapsed": true
   },
   "outputs": [],
   "source": [
    "for i in range()"
   ]
  },
  {
   "cell_type": "code",
   "execution_count": 425,
   "metadata": {},
   "outputs": [],
   "source": [
    "cosines = []\n",
    "prices = []\n",
    "for i in range(len(X_train)):\n",
    "    for j in range(len(X_test)):\n",
    "        cosines.append(cosine(X_train[i], X_test[j]))\n",
    "        prices.append(abs(Y_train[i] - Y_test[j]))"
   ]
  },
  {
   "cell_type": "code",
   "execution_count": 388,
   "metadata": {
    "collapsed": true
   },
   "outputs": [],
   "source": [
    "from numpy import corrcoef"
   ]
  },
  {
   "cell_type": "code",
   "execution_count": 411,
   "metadata": {},
   "outputs": [
    {
     "data": {
      "text/plain": [
       "[<matplotlib.lines.Line2D at 0x21bdc00e4e0>]"
      ]
     },
     "execution_count": 411,
     "metadata": {},
     "output_type": "execute_result"
    },
    {
     "data": {
      "image/png": "[encoded data removed]",
      "text/plain": [
       "<matplotlib.figure.Figure at 0x21bdc00e908>"
      ]
     },
     "metadata": {},
     "output_type": "display_data"
    }
   ],
   "source": [
    "plt.plot([i for i in range(len(cosines[:500]))], cosines[:500])\n",
    "plt.plot([i for i in range(len(prices[:500]))], prices[:500])"
   ]
  },
  {
   "cell_type": "code",
   "execution_count": 429,
   "metadata": {},
   "outputs": [],
   "source": [
    "X['Y'] = Y"
   ]
  },
  {
   "cell_type": "code",
   "execution_count": null,
   "metadata": {
    "collapsed": true
   },
   "outputs": [],
   "source": [
    "def top_ten(example, dataset, Y_example):\n",
    "    dataset = \n",
    "    for i in range(len(dataset)):\n",
    "        "
   ]
  },
  {
   "cell_type": "code",
   "execution_count": 426,
   "metadata": {},
   "outputs": [
    {
     "data": {
      "text/plain": [
       "array([[ 1.        ,  0.21499497],\n",
       "       [ 0.21499497,  1.        ]])"
      ]
     },
     "execution_count": 426,
     "metadata": {},
     "output_type": "execute_result"
    }
   ],
   "source": [
    "corrcoef(np.array(cosines), np.array(prices))"
   ]
  },
  {
   "cell_type": "code",
   "execution_count": 371,
   "metadata": {},
   "outputs": [
    {
     "data": {
      "text/plain": [
       "(array([  4.00000000e+00,   2.30000000e+01,   8.90000000e+01,\n",
       "          3.36000000e+02,   1.24200000e+03,   2.47500000e+03,\n",
       "          3.78200000e+03,   1.78600000e+03,   1.19900000e+03,\n",
       "          6.11000000e+02,   2.47000000e+02,   1.91000000e+02,\n",
       "          1.38000000e+02,   4.30000000e+01,   4.60000000e+01,\n",
       "          1.10000000e+01,   1.30000000e+01,   6.00000000e+00,\n",
       "          3.00000000e+00,   2.00000000e+00]),\n",
       " array([-3.53914001, -3.01838337, -2.49762673, -1.97687009, -1.45611344,\n",
       "        -0.9353568 , -0.41460016,  0.10615648,  0.62691312,  1.14766976,\n",
       "         1.6684264 ,  2.18918304,  2.70993968,  3.23069632,  3.75145296,\n",
       "         4.27220961,  4.79296625,  5.31372289,  5.83447953,  6.35523617,\n",
       "         6.87599281]),\n",
       " <a list of 20 Patch objects>)"
      ]
     },
     "execution_count": 371,
     "metadata": {},
     "output_type": "execute_result"
    },
    {
     "data": {
      "image/png": "[encoded data removed]",
      "text/plain": [
       "<matplotlib.figure.Figure at 0x21bcecac0b8>"
      ]
     },
     "metadata": {},
     "output_type": "display_data"
    }
   ],
   "source": [
    "plt.hist(Y_final, bins=20)"
   ]
  },
  {
   "cell_type": "code",
   "execution_count": 361,
   "metadata": {},
   "outputs": [
    {
     "data": {
      "text/plain": [
       "-0.0015747583658300534"
      ]
     },
     "execution_count": 361,
     "metadata": {},
     "output_type": "execute_result"
    }
   ],
   "source": [
    "cross_val_score(lasso, X, Y, cv=5).mean()"
   ]
  },
  {
   "cell_type": "code",
   "execution_count": 379,
   "metadata": {},
   "outputs": [
    {
     "data": {
      "text/html": [
       "<div>\n",
       "<style>\n",
       "    .dataframe thead tr:only-child th {\n",
       "        text-align: right;\n",
       "    }\n",
       "\n",
       "    .dataframe thead th {\n",
       "        text-align: left;\n",
       "    }\n",
       "\n",
       "    .dataframe tbody tr th {\n",
       "        vertical-align: top;\n",
       "    }\n",
       "</style>\n",
       "<table border=\"1\" class=\"dataframe\">\n",
       "  <thead>\n",
       "    <tr style=\"text-align: right;\">\n",
       "      <th></th>\n",
       "      <th>crime</th>\n",
       "      <th>complain</th>\n",
       "      <th>educ_dist</th>\n",
       "      <th>rest_dist</th>\n",
       "      <th>infrastr_dist</th>\n",
       "      <th>med_dist</th>\n",
       "      <th>shops_dist</th>\n",
       "      <th>food_retail</th>\n",
       "      <th>rest</th>\n",
       "      <th>educ</th>\n",
       "      <th>infrastr</th>\n",
       "      <th>med</th>\n",
       "      <th>district_year</th>\n",
       "      <th>year</th>\n",
       "      <th>floors</th>\n",
       "    </tr>\n",
       "  </thead>\n",
       "  <tbody>\n",
       "    <tr>\n",
       "      <th>0</th>\n",
       "      <td>-185.981274</td>\n",
       "      <td>-496.504043</td>\n",
       "      <td>4463.0672</td>\n",
       "      <td>-90488.746154</td>\n",
       "      <td>17967.770405</td>\n",
       "      <td>65445.86817</td>\n",
       "      <td>-232179.620967</td>\n",
       "      <td>-197.480742</td>\n",
       "      <td>-117.572274</td>\n",
       "      <td>-524.542758</td>\n",
       "      <td>994.698158</td>\n",
       "      <td>272.728456</td>\n",
       "      <td>246.158652</td>\n",
       "      <td>281.547484</td>\n",
       "      <td>-588.499321</td>\n",
       "    </tr>\n",
       "  </tbody>\n",
       "</table>\n",
       "</div>"
      ],
      "text/plain": [
       "        crime    complain  educ_dist     rest_dist  infrastr_dist  \\\n",
       "0 -185.981274 -496.504043  4463.0672 -90488.746154   17967.770405   \n",
       "\n",
       "      med_dist     shops_dist  food_retail        rest        educ  \\\n",
       "0  65445.86817 -232179.620967  -197.480742 -117.572274 -524.542758   \n",
       "\n",
       "     infrastr         med  district_year        year      floors  \n",
       "0  994.698158  272.728456     246.158652  281.547484 -588.499321  "
      ]
     },
     "execution_count": 379,
     "metadata": {},
     "output_type": "execute_result"
    }
   ],
   "source": [
    "pd.DataFrame(data = [lr.coef_], columns=X.columns)"
   ]
  },
  {
   "cell_type": "code",
   "execution_count": 340,
   "metadata": {},
   "outputs": [
    {
     "data": {
      "text/plain": [
       "[-185.98127410797412,\n",
       " -496.50404262747242,\n",
       " 4463.0671999140741,\n",
       " -90488.746154403532,\n",
       " 17967.770405314172,\n",
       " 65445.868169771646,\n",
       " -232179.62096730791,\n",
       " -197.48074203595388,\n",
       " -117.57227430396597,\n",
       " -524.54275810861145,\n",
       " 994.69815824830584,\n",
       " 272.72845575085375,\n",
       " 246.15865238294646,\n",
       " 281.54748405786813,\n",
       " -588.49932082631858]"
      ]
     },
     "execution_count": 340,
     "metadata": {},
     "output_type": "execute_result"
    }
   ],
   "source": [
    "list(lr.coef_)"
   ]
  },
  {
   "cell_type": "code",
   "execution_count": null,
   "metadata": {
    "collapsed": true
   },
   "outputs": [],
   "source": []
  },
  {
   "cell_type": "code",
   "execution_count": 169,
   "metadata": {
    "collapsed": true
   },
   "outputs": [],
   "source": [
    "import re"
   ]
  },
  {
   "cell_type": "code",
   "execution_count": 151,
   "metadata": {
    "collapsed": true
   },
   "outputs": [],
   "source": [
    "flats_dataset = pd.DataFrame(index=[i for i in range(200000)], columns=['address', 'price_per_metr'])"
   ]
  },
  {
   "cell_type": "code",
   "execution_count": 8,
   "metadata": {},
   "outputs": [
    {
     "name": "stderr",
     "output_type": "stream",
     "text": [
      "C:\\Users\\isafiulin\\AppData\\Local\\Continuum\\Anaconda3\\lib\\site-packages\\bs4\\__init__.py:181: UserWarning: No parser was explicitly specified, so I'm using the best available HTML parser for this system (\"lxml\"). This usually isn't a problem, but if you run this code on another system, or in a different virtual environment, it may use a different parser and behave differently.\n",
      "\n",
      "The code that caused this warning is on line 193 of the file C:\\Users\\isafiulin\\AppData\\Local\\Continuum\\Anaconda3\\lib\\runpy.py. To get rid of this warning, change code that looks like this:\n",
      "\n",
      " BeautifulSoup(YOUR_MARKUP})\n",
      "\n",
      "to this:\n",
      "\n",
      " BeautifulSoup(YOUR_MARKUP, \"lxml\")\n",
      "\n",
      "  markup_type=markup_type))\n"
     ]
    },
    {
     "ename": "ConnectionError",
     "evalue": "HTTPConnectionPool(host='realty.dmir.ru', port=80): Max retries exceeded with url: /spb/sale/prodazha-kvartir-v-sankt-peterburge/?page=249 (Caused by NewConnectionError('<requests.packages.urllib3.connection.HTTPConnection object at 0x0000021BA0ACD780>: Failed to establish a new connection: [WinError 10060] Попытка установить соединение была безуспешной, т.к. от другого компьютера за требуемое время не получен нужный отклик, или было разорвано уже установленное соединение из-за неверного отклика уже подключенного компьютера',))",
     "output_type": "error",
     "traceback": [
      "\u001b[1;31m---------------------------------------------------------------------------\u001b[0m",
      "\u001b[1;31mTimeoutError\u001b[0m                              Traceback (most recent call last)",
      "\u001b[1;32m~\\AppData\\Local\\Continuum\\Anaconda3\\lib\\site-packages\\requests\\packages\\urllib3\\connection.py\u001b[0m in \u001b[0;36m_new_conn\u001b[1;34m(self)\u001b[0m\n\u001b[0;32m    140\u001b[0m             conn = connection.create_connection(\n\u001b[1;32m--> 141\u001b[1;33m                 (self.host, self.port), self.timeout, **extra_kw)\n\u001b[0m\u001b[0;32m    142\u001b[0m \u001b[1;33m\u001b[0m\u001b[0m\n",
      "\u001b[1;32m~\\AppData\\Local\\Continuum\\Anaconda3\\lib\\site-packages\\requests\\packages\\urllib3\\util\\connection.py\u001b[0m in \u001b[0;36mcreate_connection\u001b[1;34m(address, timeout, source_address, socket_options)\u001b[0m\n\u001b[0;32m     82\u001b[0m     \u001b[1;32mif\u001b[0m \u001b[0merr\u001b[0m \u001b[1;32mis\u001b[0m \u001b[1;32mnot\u001b[0m \u001b[1;32mNone\u001b[0m\u001b[1;33m:\u001b[0m\u001b[1;33m\u001b[0m\u001b[0m\n\u001b[1;32m---> 83\u001b[1;33m         \u001b[1;32mraise\u001b[0m \u001b[0merr\u001b[0m\u001b[1;33m\u001b[0m\u001b[0m\n\u001b[0m\u001b[0;32m     84\u001b[0m \u001b[1;33m\u001b[0m\u001b[0m\n",
      "\u001b[1;32m~\\AppData\\Local\\Continuum\\Anaconda3\\lib\\site-packages\\requests\\packages\\urllib3\\util\\connection.py\u001b[0m in \u001b[0;36mcreate_connection\u001b[1;34m(address, timeout, source_address, socket_options)\u001b[0m\n\u001b[0;32m     72\u001b[0m                 \u001b[0msock\u001b[0m\u001b[1;33m.\u001b[0m\u001b[0mbind\u001b[0m\u001b[1;33m(\u001b[0m\u001b[0msource_address\u001b[0m\u001b[1;33m)\u001b[0m\u001b[1;33m\u001b[0m\u001b[0m\n\u001b[1;32m---> 73\u001b[1;33m             \u001b[0msock\u001b[0m\u001b[1;33m.\u001b[0m\u001b[0mconnect\u001b[0m\u001b[1;33m(\u001b[0m\u001b[0msa\u001b[0m\u001b[1;33m)\u001b[0m\u001b[1;33m\u001b[0m\u001b[0m\n\u001b[0m\u001b[0;32m     74\u001b[0m             \u001b[1;32mreturn\u001b[0m \u001b[0msock\u001b[0m\u001b[1;33m\u001b[0m\u001b[0m\n",
      "\u001b[1;31mTimeoutError\u001b[0m: [WinError 10060] Попытка установить соединение была безуспешной, т.к. от другого компьютера за требуемое время не получен нужный отклик, или было разорвано уже установленное соединение из-за неверного отклика уже подключенного компьютера",
      "\nDuring handling of the above exception, another exception occurred:\n",
      "\u001b[1;31mNewConnectionError\u001b[0m                        Traceback (most recent call last)",
      "\u001b[1;32m~\\AppData\\Local\\Continuum\\Anaconda3\\lib\\site-packages\\requests\\packages\\urllib3\\connectionpool.py\u001b[0m in \u001b[0;36murlopen\u001b[1;34m(self, method, url, body, headers, retries, redirect, assert_same_host, timeout, pool_timeout, release_conn, chunked, body_pos, **response_kw)\u001b[0m\n\u001b[0;32m    599\u001b[0m                                                   \u001b[0mbody\u001b[0m\u001b[1;33m=\u001b[0m\u001b[0mbody\u001b[0m\u001b[1;33m,\u001b[0m \u001b[0mheaders\u001b[0m\u001b[1;33m=\u001b[0m\u001b[0mheaders\u001b[0m\u001b[1;33m,\u001b[0m\u001b[1;33m\u001b[0m\u001b[0m\n\u001b[1;32m--> 600\u001b[1;33m                                                   chunked=chunked)\n\u001b[0m\u001b[0;32m    601\u001b[0m \u001b[1;33m\u001b[0m\u001b[0m\n",
      "\u001b[1;32m~\\AppData\\Local\\Continuum\\Anaconda3\\lib\\site-packages\\requests\\packages\\urllib3\\connectionpool.py\u001b[0m in \u001b[0;36m_make_request\u001b[1;34m(self, conn, method, url, timeout, chunked, **httplib_request_kw)\u001b[0m\n\u001b[0;32m    355\u001b[0m         \u001b[1;32melse\u001b[0m\u001b[1;33m:\u001b[0m\u001b[1;33m\u001b[0m\u001b[0m\n\u001b[1;32m--> 356\u001b[1;33m             \u001b[0mconn\u001b[0m\u001b[1;33m.\u001b[0m\u001b[0mrequest\u001b[0m\u001b[1;33m(\u001b[0m\u001b[0mmethod\u001b[0m\u001b[1;33m,\u001b[0m \u001b[0murl\u001b[0m\u001b[1;33m,\u001b[0m \u001b[1;33m**\u001b[0m\u001b[0mhttplib_request_kw\u001b[0m\u001b[1;33m)\u001b[0m\u001b[1;33m\u001b[0m\u001b[0m\n\u001b[0m\u001b[0;32m    357\u001b[0m \u001b[1;33m\u001b[0m\u001b[0m\n",
      "\u001b[1;32m~\\AppData\\Local\\Continuum\\Anaconda3\\lib\\http\\client.py\u001b[0m in \u001b[0;36mrequest\u001b[1;34m(self, method, url, body, headers, encode_chunked)\u001b[0m\n\u001b[0;32m   1238\u001b[0m         \u001b[1;34m\"\"\"Send a complete request to the server.\"\"\"\u001b[0m\u001b[1;33m\u001b[0m\u001b[0m\n\u001b[1;32m-> 1239\u001b[1;33m         \u001b[0mself\u001b[0m\u001b[1;33m.\u001b[0m\u001b[0m_send_request\u001b[0m\u001b[1;33m(\u001b[0m\u001b[0mmethod\u001b[0m\u001b[1;33m,\u001b[0m \u001b[0murl\u001b[0m\u001b[1;33m,\u001b[0m \u001b[0mbody\u001b[0m\u001b[1;33m,\u001b[0m \u001b[0mheaders\u001b[0m\u001b[1;33m,\u001b[0m \u001b[0mencode_chunked\u001b[0m\u001b[1;33m)\u001b[0m\u001b[1;33m\u001b[0m\u001b[0m\n\u001b[0m\u001b[0;32m   1240\u001b[0m \u001b[1;33m\u001b[0m\u001b[0m\n",
      "\u001b[1;32m~\\AppData\\Local\\Continuum\\Anaconda3\\lib\\http\\client.py\u001b[0m in \u001b[0;36m_send_request\u001b[1;34m(self, method, url, body, headers, encode_chunked)\u001b[0m\n\u001b[0;32m   1284\u001b[0m             \u001b[0mbody\u001b[0m \u001b[1;33m=\u001b[0m \u001b[0m_encode\u001b[0m\u001b[1;33m(\u001b[0m\u001b[0mbody\u001b[0m\u001b[1;33m,\u001b[0m \u001b[1;34m'body'\u001b[0m\u001b[1;33m)\u001b[0m\u001b[1;33m\u001b[0m\u001b[0m\n\u001b[1;32m-> 1285\u001b[1;33m         \u001b[0mself\u001b[0m\u001b[1;33m.\u001b[0m\u001b[0mendheaders\u001b[0m\u001b[1;33m(\u001b[0m\u001b[0mbody\u001b[0m\u001b[1;33m,\u001b[0m \u001b[0mencode_chunked\u001b[0m\u001b[1;33m=\u001b[0m\u001b[0mencode_chunked\u001b[0m\u001b[1;33m)\u001b[0m\u001b[1;33m\u001b[0m\u001b[0m\n\u001b[0m\u001b[0;32m   1286\u001b[0m \u001b[1;33m\u001b[0m\u001b[0m\n",
      "\u001b[1;32m~\\AppData\\Local\\Continuum\\Anaconda3\\lib\\http\\client.py\u001b[0m in \u001b[0;36mendheaders\u001b[1;34m(self, message_body, encode_chunked)\u001b[0m\n\u001b[0;32m   1233\u001b[0m             \u001b[1;32mraise\u001b[0m \u001b[0mCannotSendHeader\u001b[0m\u001b[1;33m(\u001b[0m\u001b[1;33m)\u001b[0m\u001b[1;33m\u001b[0m\u001b[0m\n\u001b[1;32m-> 1234\u001b[1;33m         \u001b[0mself\u001b[0m\u001b[1;33m.\u001b[0m\u001b[0m_send_output\u001b[0m\u001b[1;33m(\u001b[0m\u001b[0mmessage_body\u001b[0m\u001b[1;33m,\u001b[0m \u001b[0mencode_chunked\u001b[0m\u001b[1;33m=\u001b[0m\u001b[0mencode_chunked\u001b[0m\u001b[1;33m)\u001b[0m\u001b[1;33m\u001b[0m\u001b[0m\n\u001b[0m\u001b[0;32m   1235\u001b[0m \u001b[1;33m\u001b[0m\u001b[0m\n",
      "\u001b[1;32m~\\AppData\\Local\\Continuum\\Anaconda3\\lib\\http\\client.py\u001b[0m in \u001b[0;36m_send_output\u001b[1;34m(self, message_body, encode_chunked)\u001b[0m\n\u001b[0;32m   1025\u001b[0m         \u001b[1;32mdel\u001b[0m \u001b[0mself\u001b[0m\u001b[1;33m.\u001b[0m\u001b[0m_buffer\u001b[0m\u001b[1;33m[\u001b[0m\u001b[1;33m:\u001b[0m\u001b[1;33m]\u001b[0m\u001b[1;33m\u001b[0m\u001b[0m\n\u001b[1;32m-> 1026\u001b[1;33m         \u001b[0mself\u001b[0m\u001b[1;33m.\u001b[0m\u001b[0msend\u001b[0m\u001b[1;33m(\u001b[0m\u001b[0mmsg\u001b[0m\u001b[1;33m)\u001b[0m\u001b[1;33m\u001b[0m\u001b[0m\n\u001b[0m\u001b[0;32m   1027\u001b[0m \u001b[1;33m\u001b[0m\u001b[0m\n",
      "\u001b[1;32m~\\AppData\\Local\\Continuum\\Anaconda3\\lib\\http\\client.py\u001b[0m in \u001b[0;36msend\u001b[1;34m(self, data)\u001b[0m\n\u001b[0;32m    963\u001b[0m             \u001b[1;32mif\u001b[0m \u001b[0mself\u001b[0m\u001b[1;33m.\u001b[0m\u001b[0mauto_open\u001b[0m\u001b[1;33m:\u001b[0m\u001b[1;33m\u001b[0m\u001b[0m\n\u001b[1;32m--> 964\u001b[1;33m                 \u001b[0mself\u001b[0m\u001b[1;33m.\u001b[0m\u001b[0mconnect\u001b[0m\u001b[1;33m(\u001b[0m\u001b[1;33m)\u001b[0m\u001b[1;33m\u001b[0m\u001b[0m\n\u001b[0m\u001b[0;32m    965\u001b[0m             \u001b[1;32melse\u001b[0m\u001b[1;33m:\u001b[0m\u001b[1;33m\u001b[0m\u001b[0m\n",
      "\u001b[1;32m~\\AppData\\Local\\Continuum\\Anaconda3\\lib\\site-packages\\requests\\packages\\urllib3\\connection.py\u001b[0m in \u001b[0;36mconnect\u001b[1;34m(self)\u001b[0m\n\u001b[0;32m    165\u001b[0m     \u001b[1;32mdef\u001b[0m \u001b[0mconnect\u001b[0m\u001b[1;33m(\u001b[0m\u001b[0mself\u001b[0m\u001b[1;33m)\u001b[0m\u001b[1;33m:\u001b[0m\u001b[1;33m\u001b[0m\u001b[0m\n\u001b[1;32m--> 166\u001b[1;33m         \u001b[0mconn\u001b[0m \u001b[1;33m=\u001b[0m \u001b[0mself\u001b[0m\u001b[1;33m.\u001b[0m\u001b[0m_new_conn\u001b[0m\u001b[1;33m(\u001b[0m\u001b[1;33m)\u001b[0m\u001b[1;33m\u001b[0m\u001b[0m\n\u001b[0m\u001b[0;32m    167\u001b[0m         \u001b[0mself\u001b[0m\u001b[1;33m.\u001b[0m\u001b[0m_prepare_conn\u001b[0m\u001b[1;33m(\u001b[0m\u001b[0mconn\u001b[0m\u001b[1;33m)\u001b[0m\u001b[1;33m\u001b[0m\u001b[0m\n",
      "\u001b[1;32m~\\AppData\\Local\\Continuum\\Anaconda3\\lib\\site-packages\\requests\\packages\\urllib3\\connection.py\u001b[0m in \u001b[0;36m_new_conn\u001b[1;34m(self)\u001b[0m\n\u001b[0;32m    149\u001b[0m             raise NewConnectionError(\n\u001b[1;32m--> 150\u001b[1;33m                 self, \"Failed to establish a new connection: %s\" % e)\n\u001b[0m\u001b[0;32m    151\u001b[0m \u001b[1;33m\u001b[0m\u001b[0m\n",
      "\u001b[1;31mNewConnectionError\u001b[0m: <requests.packages.urllib3.connection.HTTPConnection object at 0x0000021BA0ACD780>: Failed to establish a new connection: [WinError 10060] Попытка установить соединение была безуспешной, т.к. от другого компьютера за требуемое время не получен нужный отклик, или было разорвано уже установленное соединение из-за неверного отклика уже подключенного компьютера",
      "\nDuring handling of the above exception, another exception occurred:\n",
      "\u001b[1;31mMaxRetryError\u001b[0m                             Traceback (most recent call last)",
      "\u001b[1;32m~\\AppData\\Local\\Continuum\\Anaconda3\\lib\\site-packages\\requests\\adapters.py\u001b[0m in \u001b[0;36msend\u001b[1;34m(self, request, stream, timeout, verify, cert, proxies)\u001b[0m\n\u001b[0;32m    437\u001b[0m                     \u001b[0mretries\u001b[0m\u001b[1;33m=\u001b[0m\u001b[0mself\u001b[0m\u001b[1;33m.\u001b[0m\u001b[0mmax_retries\u001b[0m\u001b[1;33m,\u001b[0m\u001b[1;33m\u001b[0m\u001b[0m\n\u001b[1;32m--> 438\u001b[1;33m                     \u001b[0mtimeout\u001b[0m\u001b[1;33m=\u001b[0m\u001b[0mtimeout\u001b[0m\u001b[1;33m\u001b[0m\u001b[0m\n\u001b[0m\u001b[0;32m    439\u001b[0m                 )\n",
      "\u001b[1;32m~\\AppData\\Local\\Continuum\\Anaconda3\\lib\\site-packages\\requests\\packages\\urllib3\\connectionpool.py\u001b[0m in \u001b[0;36murlopen\u001b[1;34m(self, method, url, body, headers, retries, redirect, assert_same_host, timeout, pool_timeout, release_conn, chunked, body_pos, **response_kw)\u001b[0m\n\u001b[0;32m    648\u001b[0m             retries = retries.increment(method, url, error=e, _pool=self,\n\u001b[1;32m--> 649\u001b[1;33m                                         _stacktrace=sys.exc_info()[2])\n\u001b[0m\u001b[0;32m    650\u001b[0m             \u001b[0mretries\u001b[0m\u001b[1;33m.\u001b[0m\u001b[0msleep\u001b[0m\u001b[1;33m(\u001b[0m\u001b[1;33m)\u001b[0m\u001b[1;33m\u001b[0m\u001b[0m\n",
      "\u001b[1;32m~\\AppData\\Local\\Continuum\\Anaconda3\\lib\\site-packages\\requests\\packages\\urllib3\\util\\retry.py\u001b[0m in \u001b[0;36mincrement\u001b[1;34m(self, method, url, response, error, _pool, _stacktrace)\u001b[0m\n\u001b[0;32m    387\u001b[0m         \u001b[1;32mif\u001b[0m \u001b[0mnew_retry\u001b[0m\u001b[1;33m.\u001b[0m\u001b[0mis_exhausted\u001b[0m\u001b[1;33m(\u001b[0m\u001b[1;33m)\u001b[0m\u001b[1;33m:\u001b[0m\u001b[1;33m\u001b[0m\u001b[0m\n\u001b[1;32m--> 388\u001b[1;33m             \u001b[1;32mraise\u001b[0m \u001b[0mMaxRetryError\u001b[0m\u001b[1;33m(\u001b[0m\u001b[0m_pool\u001b[0m\u001b[1;33m,\u001b[0m \u001b[0murl\u001b[0m\u001b[1;33m,\u001b[0m \u001b[0merror\u001b[0m \u001b[1;32mor\u001b[0m \u001b[0mResponseError\u001b[0m\u001b[1;33m(\u001b[0m\u001b[0mcause\u001b[0m\u001b[1;33m)\u001b[0m\u001b[1;33m)\u001b[0m\u001b[1;33m\u001b[0m\u001b[0m\n\u001b[0m\u001b[0;32m    389\u001b[0m \u001b[1;33m\u001b[0m\u001b[0m\n",
      "\u001b[1;31mMaxRetryError\u001b[0m: HTTPConnectionPool(host='realty.dmir.ru', port=80): Max retries exceeded with url: /spb/sale/prodazha-kvartir-v-sankt-peterburge/?page=249 (Caused by NewConnectionError('<requests.packages.urllib3.connection.HTTPConnection object at 0x0000021BA0ACD780>: Failed to establish a new connection: [WinError 10060] Попытка установить соединение была безуспешной, т.к. от другого компьютера за требуемое время не получен нужный отклик, или было разорвано уже установленное соединение из-за неверного отклика уже подключенного компьютера',))",
      "\nDuring handling of the above exception, another exception occurred:\n",
      "\u001b[1;31mConnectionError\u001b[0m                           Traceback (most recent call last)",
      "\u001b[1;32m<ipython-input-8-a1319adba10f>\u001b[0m in \u001b[0;36m<module>\u001b[1;34m()\u001b[0m\n\u001b[0;32m      2\u001b[0m \u001b[1;32mfor\u001b[0m \u001b[0mj\u001b[0m \u001b[1;32min\u001b[0m \u001b[0mrange\u001b[0m\u001b[1;33m(\u001b[0m\u001b[1;36m2\u001b[0m\u001b[1;33m,\u001b[0m \u001b[1;36m400\u001b[0m\u001b[1;33m)\u001b[0m\u001b[1;33m:\u001b[0m\u001b[1;33m\u001b[0m\u001b[0m\n\u001b[0;32m      3\u001b[0m     \u001b[0mpage_string\u001b[0m \u001b[1;33m=\u001b[0m \u001b[1;34m'http://realty.dmir.ru/spb/sale/prodazha-kvartir-v-sankt-peterburge/?page='\u001b[0m\u001b[1;33m+\u001b[0m\u001b[0mstr\u001b[0m\u001b[1;33m(\u001b[0m\u001b[0mj\u001b[0m\u001b[1;33m)\u001b[0m\u001b[1;33m\u001b[0m\u001b[0m\n\u001b[1;32m----> 4\u001b[1;33m     \u001b[0mr\u001b[0m \u001b[1;33m=\u001b[0m \u001b[0mrequests\u001b[0m\u001b[1;33m.\u001b[0m\u001b[0mget\u001b[0m\u001b[1;33m(\u001b[0m\u001b[0mpage_string\u001b[0m\u001b[1;33m)\u001b[0m\u001b[1;33m\u001b[0m\u001b[0m\n\u001b[0m\u001b[0;32m      5\u001b[0m     \u001b[0mbs\u001b[0m \u001b[1;33m=\u001b[0m \u001b[0mBeautifulSoup\u001b[0m\u001b[1;33m(\u001b[0m\u001b[0mr\u001b[0m\u001b[1;33m.\u001b[0m\u001b[0mtext\u001b[0m\u001b[1;33m)\u001b[0m\u001b[1;33m\u001b[0m\u001b[0m\n\u001b[0;32m      6\u001b[0m     \u001b[1;32mfor\u001b[0m \u001b[0mflat\u001b[0m \u001b[1;32min\u001b[0m \u001b[0mbs\u001b[0m\u001b[1;33m.\u001b[0m\u001b[0mfind_all\u001b[0m\u001b[1;33m(\u001b[0m\u001b[1;34m'ul'\u001b[0m\u001b[1;33m,\u001b[0m \u001b[1;33m{\u001b[0m\u001b[1;34m'class'\u001b[0m\u001b[1;33m:\u001b[0m \u001b[1;34m'mainlist'\u001b[0m\u001b[1;33m}\u001b[0m\u001b[1;33m)\u001b[0m\u001b[1;33m:\u001b[0m\u001b[1;33m\u001b[0m\u001b[0m\n",
      "\u001b[1;32m~\\AppData\\Local\\Continuum\\Anaconda3\\lib\\site-packages\\requests\\api.py\u001b[0m in \u001b[0;36mget\u001b[1;34m(url, params, **kwargs)\u001b[0m\n\u001b[0;32m     70\u001b[0m \u001b[1;33m\u001b[0m\u001b[0m\n\u001b[0;32m     71\u001b[0m     \u001b[0mkwargs\u001b[0m\u001b[1;33m.\u001b[0m\u001b[0msetdefault\u001b[0m\u001b[1;33m(\u001b[0m\u001b[1;34m'allow_redirects'\u001b[0m\u001b[1;33m,\u001b[0m \u001b[1;32mTrue\u001b[0m\u001b[1;33m)\u001b[0m\u001b[1;33m\u001b[0m\u001b[0m\n\u001b[1;32m---> 72\u001b[1;33m     \u001b[1;32mreturn\u001b[0m \u001b[0mrequest\u001b[0m\u001b[1;33m(\u001b[0m\u001b[1;34m'get'\u001b[0m\u001b[1;33m,\u001b[0m \u001b[0murl\u001b[0m\u001b[1;33m,\u001b[0m \u001b[0mparams\u001b[0m\u001b[1;33m=\u001b[0m\u001b[0mparams\u001b[0m\u001b[1;33m,\u001b[0m \u001b[1;33m**\u001b[0m\u001b[0mkwargs\u001b[0m\u001b[1;33m)\u001b[0m\u001b[1;33m\u001b[0m\u001b[0m\n\u001b[0m\u001b[0;32m     73\u001b[0m \u001b[1;33m\u001b[0m\u001b[0m\n\u001b[0;32m     74\u001b[0m \u001b[1;33m\u001b[0m\u001b[0m\n",
      "\u001b[1;32m~\\AppData\\Local\\Continuum\\Anaconda3\\lib\\site-packages\\requests\\api.py\u001b[0m in \u001b[0;36mrequest\u001b[1;34m(method, url, **kwargs)\u001b[0m\n\u001b[0;32m     56\u001b[0m     \u001b[1;31m# cases, and look like a memory leak in others.\u001b[0m\u001b[1;33m\u001b[0m\u001b[1;33m\u001b[0m\u001b[0m\n\u001b[0;32m     57\u001b[0m     \u001b[1;32mwith\u001b[0m \u001b[0msessions\u001b[0m\u001b[1;33m.\u001b[0m\u001b[0mSession\u001b[0m\u001b[1;33m(\u001b[0m\u001b[1;33m)\u001b[0m \u001b[1;32mas\u001b[0m \u001b[0msession\u001b[0m\u001b[1;33m:\u001b[0m\u001b[1;33m\u001b[0m\u001b[0m\n\u001b[1;32m---> 58\u001b[1;33m         \u001b[1;32mreturn\u001b[0m \u001b[0msession\u001b[0m\u001b[1;33m.\u001b[0m\u001b[0mrequest\u001b[0m\u001b[1;33m(\u001b[0m\u001b[0mmethod\u001b[0m\u001b[1;33m=\u001b[0m\u001b[0mmethod\u001b[0m\u001b[1;33m,\u001b[0m \u001b[0murl\u001b[0m\u001b[1;33m=\u001b[0m\u001b[0murl\u001b[0m\u001b[1;33m,\u001b[0m \u001b[1;33m**\u001b[0m\u001b[0mkwargs\u001b[0m\u001b[1;33m)\u001b[0m\u001b[1;33m\u001b[0m\u001b[0m\n\u001b[0m\u001b[0;32m     59\u001b[0m \u001b[1;33m\u001b[0m\u001b[0m\n\u001b[0;32m     60\u001b[0m \u001b[1;33m\u001b[0m\u001b[0m\n",
      "\u001b[1;32m~\\AppData\\Local\\Continuum\\Anaconda3\\lib\\site-packages\\requests\\sessions.py\u001b[0m in \u001b[0;36mrequest\u001b[1;34m(self, method, url, params, data, headers, cookies, files, auth, timeout, allow_redirects, proxies, hooks, stream, verify, cert, json)\u001b[0m\n\u001b[0;32m    516\u001b[0m         }\n\u001b[0;32m    517\u001b[0m         \u001b[0msend_kwargs\u001b[0m\u001b[1;33m.\u001b[0m\u001b[0mupdate\u001b[0m\u001b[1;33m(\u001b[0m\u001b[0msettings\u001b[0m\u001b[1;33m)\u001b[0m\u001b[1;33m\u001b[0m\u001b[0m\n\u001b[1;32m--> 518\u001b[1;33m         \u001b[0mresp\u001b[0m \u001b[1;33m=\u001b[0m \u001b[0mself\u001b[0m\u001b[1;33m.\u001b[0m\u001b[0msend\u001b[0m\u001b[1;33m(\u001b[0m\u001b[0mprep\u001b[0m\u001b[1;33m,\u001b[0m \u001b[1;33m**\u001b[0m\u001b[0msend_kwargs\u001b[0m\u001b[1;33m)\u001b[0m\u001b[1;33m\u001b[0m\u001b[0m\n\u001b[0m\u001b[0;32m    519\u001b[0m \u001b[1;33m\u001b[0m\u001b[0m\n\u001b[0;32m    520\u001b[0m         \u001b[1;32mreturn\u001b[0m \u001b[0mresp\u001b[0m\u001b[1;33m\u001b[0m\u001b[0m\n",
      "\u001b[1;32m~\\AppData\\Local\\Continuum\\Anaconda3\\lib\\site-packages\\requests\\sessions.py\u001b[0m in \u001b[0;36msend\u001b[1;34m(self, request, **kwargs)\u001b[0m\n\u001b[0;32m    637\u001b[0m \u001b[1;33m\u001b[0m\u001b[0m\n\u001b[0;32m    638\u001b[0m         \u001b[1;31m# Send the request\u001b[0m\u001b[1;33m\u001b[0m\u001b[1;33m\u001b[0m\u001b[0m\n\u001b[1;32m--> 639\u001b[1;33m         \u001b[0mr\u001b[0m \u001b[1;33m=\u001b[0m \u001b[0madapter\u001b[0m\u001b[1;33m.\u001b[0m\u001b[0msend\u001b[0m\u001b[1;33m(\u001b[0m\u001b[0mrequest\u001b[0m\u001b[1;33m,\u001b[0m \u001b[1;33m**\u001b[0m\u001b[0mkwargs\u001b[0m\u001b[1;33m)\u001b[0m\u001b[1;33m\u001b[0m\u001b[0m\n\u001b[0m\u001b[0;32m    640\u001b[0m \u001b[1;33m\u001b[0m\u001b[0m\n\u001b[0;32m    641\u001b[0m         \u001b[1;31m# Total elapsed time of the request (approximately)\u001b[0m\u001b[1;33m\u001b[0m\u001b[1;33m\u001b[0m\u001b[0m\n",
      "\u001b[1;32m~\\AppData\\Local\\Continuum\\Anaconda3\\lib\\site-packages\\requests\\adapters.py\u001b[0m in \u001b[0;36msend\u001b[1;34m(self, request, stream, timeout, verify, cert, proxies)\u001b[0m\n\u001b[0;32m    500\u001b[0m                 \u001b[1;32mraise\u001b[0m \u001b[0mProxyError\u001b[0m\u001b[1;33m(\u001b[0m\u001b[0me\u001b[0m\u001b[1;33m,\u001b[0m \u001b[0mrequest\u001b[0m\u001b[1;33m=\u001b[0m\u001b[0mrequest\u001b[0m\u001b[1;33m)\u001b[0m\u001b[1;33m\u001b[0m\u001b[0m\n\u001b[0;32m    501\u001b[0m \u001b[1;33m\u001b[0m\u001b[0m\n\u001b[1;32m--> 502\u001b[1;33m             \u001b[1;32mraise\u001b[0m \u001b[0mConnectionError\u001b[0m\u001b[1;33m(\u001b[0m\u001b[0me\u001b[0m\u001b[1;33m,\u001b[0m \u001b[0mrequest\u001b[0m\u001b[1;33m=\u001b[0m\u001b[0mrequest\u001b[0m\u001b[1;33m)\u001b[0m\u001b[1;33m\u001b[0m\u001b[0m\n\u001b[0m\u001b[0;32m    503\u001b[0m \u001b[1;33m\u001b[0m\u001b[0m\n\u001b[0;32m    504\u001b[0m         \u001b[1;32mexcept\u001b[0m \u001b[0mClosedPoolError\u001b[0m \u001b[1;32mas\u001b[0m \u001b[0me\u001b[0m\u001b[1;33m:\u001b[0m\u001b[1;33m\u001b[0m\u001b[0m\n",
      "\u001b[1;31mConnectionError\u001b[0m: HTTPConnectionPool(host='realty.dmir.ru', port=80): Max retries exceeded with url: /spb/sale/prodazha-kvartir-v-sankt-peterburge/?page=249 (Caused by NewConnectionError('<requests.packages.urllib3.connection.HTTPConnection object at 0x0000021BA0ACD780>: Failed to establish a new connection: [WinError 10060] Попытка установить соединение была безуспешной, т.к. от другого компьютера за требуемое время не получен нужный отклик, или было разорвано уже установленное соединение из-за неверного отклика уже подключенного компьютера',))"
     ]
    }
   ],
   "source": [
    "i = 0\n",
    "for j in range(2, 400):\n",
    "    page_string = 'https://www.domofond.ru/prodazha-kvartiry-sankt_peterburg-c3414?Page='+str(j)\n",
    "    r = requests.get(page_string)\n",
    "    bs = BeautifulSoup(r.text)\n",
    "    for flat in bs.find_all('ul', {'class': 'mainlist'}):\n",
    "        if flat.find_all('li')[1].find('a').get('href')[:50] == 'http://realty.dmir.ru/sale/kvartira-sanktpeterburg':\n",
    "            flats_dataset.iloc[i, 0] = flat.find_all('li')[1].find('a').get_text()\n",
    "            flats_dataset.iloc[i, 1] = flat.find_all('li')[0].find('span', {'class': 'tag'}).get('title')\n",
    "            i += 1"
   ]
  },
  {
   "cell_type": "code",
   "execution_count": 9,
   "metadata": {},
   "outputs": [
    {
     "data": {
      "text/plain": [
       "(9471, 2)"
      ]
     },
     "execution_count": 9,
     "metadata": {},
     "output_type": "execute_result"
    }
   ],
   "source": [
    "flats_dataset.dropna().shape"
   ]
  },
  {
   "cell_type": "code",
   "execution_count": 11,
   "metadata": {},
   "outputs": [],
   "source": [
    "flats_dataset = flats_dataset.dropna().drop_duplicates()"
   ]
  },
  {
   "cell_type": "code",
   "execution_count": 12,
   "metadata": {
    "collapsed": true
   },
   "outputs": [],
   "source": [
    "flats_dataset.to_csv('flats_price_dataset.csv', index=False)"
   ]
  },
  {
   "cell_type": "code",
   "execution_count": 13,
   "metadata": {
    "collapsed": true
   },
   "outputs": [],
   "source": [
    "houses_df = pd.read_csv('data/OpenData/houses.csv')"
   ]
  },
  {
   "cell_type": "code",
   "execution_count": 14,
   "metadata": {
    "collapsed": true
   },
   "outputs": [],
   "source": [
    "def if_in(x):\n",
    "    if 'Рашетова' in x:\n",
    "        return True\n",
    "    else:\n",
    "        return False"
   ]
  },
  {
   "cell_type": "code",
   "execution_count": 16,
   "metadata": {},
   "outputs": [
    {
     "name": "stdout",
     "output_type": "stream",
     "text": [
      "18\n"
     ]
    }
   ],
   "source": [
    "print (flats_dataset['address'][0].find('проспект'))"
   ]
  },
  {
   "cell_type": "code",
   "execution_count": 52,
   "metadata": {
    "collapsed": true
   },
   "outputs": [],
   "source": [
    "def get_street(x):\n",
    "    result = x.split(', ')[1].split(' ')\n",
    "    resultwords = [word for word in result if word.lower() not in ['улица', 'проспект', 'набережная']]\n",
    "    if len(resultwords) == 1:\n",
    "        return resultwords[0]\n",
    "    else:\n",
    "        return ' '.join(resultwords)"
   ]
  },
  {
   "cell_type": "code",
   "execution_count": 53,
   "metadata": {
    "collapsed": true
   },
   "outputs": [],
   "source": [
    "def get_home_number(x):\n",
    "    result = x.split(',')\n",
    "    if len(result) < 3:\n",
    "        return -1\n",
    "    else:\n",
    "        return result[2]"
   ]
  },
  {
   "cell_type": "code",
   "execution_count": 54,
   "metadata": {},
   "outputs": [],
   "source": [
    "flats_dataset['street'] = flats_dataset['address'].apply(lambda x: get_street(x))\n",
    "flats_dataset['home_number'] = flats_dataset['address'].apply(lambda x: get_home_number(x))"
   ]
  },
  {
   "cell_type": "code",
   "execution_count": 72,
   "metadata": {},
   "outputs": [],
   "source": [
    "flats_dataset['short_address'] = flats_dataset['address'].apply(lambda x: ', '.join(x.split(', ')[1:]))"
   ]
  },
  {
   "cell_type": "code",
   "execution_count": 57,
   "metadata": {},
   "outputs": [
    {
     "data": {
      "text/plain": [
       "2"
      ]
     },
     "execution_count": 57,
     "metadata": {},
     "output_type": "execute_result"
    }
   ],
   "source": [
    "sum(flats_dataset['street'] == 'Песочная')"
   ]
  },
  {
   "cell_type": "code",
   "execution_count": 99,
   "metadata": {
    "collapsed": true
   },
   "outputs": [],
   "source": [
    "area_price_map = { 'Адмиралтейский': 121502.6,\n",
    "                    'Василеостровский': 123161.7,\n",
    "                    'Выборгский': 101051.8,\n",
    "                    'Калининский': 96447.9,\n",
    "                    'Кировский': 95880.6,\n",
    "                    'Красногвардейский': 96321.2,\n",
    "                    'Красносельский': 91633.8,\n",
    "                    'Московский': 119403.4,\n",
    "                    'Невский': 91400.6,\n",
    "                    'Петроградский': 156567.5,\n",
    "                    'Приморский': 108768.2,\n",
    "                    'Фрунзенский': 96535.8,\n",
    "                    'Центральный': 141235.2,\n",
    "                    'Всеволожский': 77888.0,\n",
    "                    'Колпинский': 70230.5,\n",
    "                    'Кронштадтский': 77617.1,\n",
    "                    'Курортный': 91507.6,\n",
    "                    'Петродворцовый': 79013.9,\n",
    "                    'Пушкинский': 84666.1}"
   ]
  },
  {
   "cell_type": "code",
   "execution_count": 100,
   "metadata": {},
   "outputs": [
    {
     "data": {
      "text/html": [
       "<div>\n",
       "<style>\n",
       "    .dataframe thead tr:only-child th {\n",
       "        text-align: right;\n",
       "    }\n",
       "\n",
       "    .dataframe thead th {\n",
       "        text-align: left;\n",
       "    }\n",
       "\n",
       "    .dataframe tbody tr th {\n",
       "        vertical-align: top;\n",
       "    }\n",
       "</style>\n",
       "<table border=\"1\" class=\"dataframe\">\n",
       "  <thead>\n",
       "    <tr style=\"text-align: right;\">\n",
       "      <th></th>\n",
       "      <th>Улица</th>\n",
       "      <th>Дом</th>\n",
       "      <th>Район</th>\n",
       "      <th>Количество проживающих</th>\n",
       "      <th>Год постройки</th>\n",
       "      <th>Серия, тип проекта</th>\n",
       "      <th>Общая площадь здания</th>\n",
       "      <th>Число этажей</th>\n",
       "      <th>Число лестниц</th>\n",
       "      <th>lng</th>\n",
       "      <th>lat</th>\n",
       "    </tr>\n",
       "  </thead>\n",
       "  <tbody>\n",
       "    <tr>\n",
       "      <th>0</th>\n",
       "      <td>Лени Голикова ул.</td>\n",
       "      <td>23</td>\n",
       "      <td>Кировский</td>\n",
       "      <td>213.0</td>\n",
       "      <td>1967</td>\n",
       "      <td>Г-3И</td>\n",
       "      <td>3601.449951</td>\n",
       "      <td>5.0</td>\n",
       "      <td>7.0</td>\n",
       "      <td>30.229946</td>\n",
       "      <td>59.844715</td>\n",
       "    </tr>\n",
       "    <tr>\n",
       "      <th>1</th>\n",
       "      <td>Среднегаванский пр.</td>\n",
       "      <td>14</td>\n",
       "      <td>Василеостровский</td>\n",
       "      <td>69.0</td>\n",
       "      <td>1901</td>\n",
       "      <td>Индивидуальный</td>\n",
       "      <td>1581.380005</td>\n",
       "      <td>6.0</td>\n",
       "      <td>2.0</td>\n",
       "      <td>30.243179</td>\n",
       "      <td>59.930236</td>\n",
       "    </tr>\n",
       "    <tr>\n",
       "      <th>2</th>\n",
       "      <td>Рашетова ул.</td>\n",
       "      <td>9</td>\n",
       "      <td>Выборгский</td>\n",
       "      <td>82.0</td>\n",
       "      <td>1965</td>\n",
       "      <td>Индивидуальный</td>\n",
       "      <td>2334.000000</td>\n",
       "      <td>9.0</td>\n",
       "      <td>1.0</td>\n",
       "      <td>30.324209</td>\n",
       "      <td>60.020927</td>\n",
       "    </tr>\n",
       "    <tr>\n",
       "      <th>3</th>\n",
       "      <td>Сердобольская ул.</td>\n",
       "      <td>37</td>\n",
       "      <td>Приморский</td>\n",
       "      <td>60.0</td>\n",
       "      <td>1916</td>\n",
       "      <td>Индивидуальный</td>\n",
       "      <td>1978.150024</td>\n",
       "      <td>5.0</td>\n",
       "      <td>1.0</td>\n",
       "      <td>30.316559</td>\n",
       "      <td>59.989446</td>\n",
       "    </tr>\n",
       "    <tr>\n",
       "      <th>4</th>\n",
       "      <td>Флотская ул.</td>\n",
       "      <td>2</td>\n",
       "      <td>Кронштадский</td>\n",
       "      <td>344.0</td>\n",
       "      <td>1900</td>\n",
       "      <td>Индивидуальный</td>\n",
       "      <td>8968.500000</td>\n",
       "      <td>3.0</td>\n",
       "      <td>4.0</td>\n",
       "      <td>30.473965</td>\n",
       "      <td>60.059112</td>\n",
       "    </tr>\n",
       "  </tbody>\n",
       "</table>\n",
       "</div>"
      ],
      "text/plain": [
       "                 Улица Дом             Район  Количество проживающих  \\\n",
       "0    Лени Голикова ул.  23         Кировский                   213.0   \n",
       "1  Среднегаванский пр.  14  Василеостровский                    69.0   \n",
       "2         Рашетова ул.   9        Выборгский                    82.0   \n",
       "3    Сердобольская ул.  37        Приморский                    60.0   \n",
       "4         Флотская ул.   2      Кронштадский                   344.0   \n",
       "\n",
       "  Год постройки Серия, тип проекта  Общая площадь здания  Число этажей  \\\n",
       "0          1967               Г-3И           3601.449951           5.0   \n",
       "1          1901     Индивидуальный           1581.380005           6.0   \n",
       "2          1965     Индивидуальный           2334.000000           9.0   \n",
       "3          1916     Индивидуальный           1978.150024           5.0   \n",
       "4          1900     Индивидуальный           8968.500000           3.0   \n",
       "\n",
       "   Число лестниц        lng        lat  \n",
       "0            7.0  30.229946  59.844715  \n",
       "1            2.0  30.243179  59.930236  \n",
       "2            1.0  30.324209  60.020927  \n",
       "3            1.0  30.316559  59.989446  \n",
       "4            4.0  30.473965  60.059112  "
      ]
     },
     "execution_count": 100,
     "metadata": {},
     "output_type": "execute_result"
    }
   ],
   "source": [
    "houses_df.head()"
   ]
  },
  {
   "cell_type": "code",
   "execution_count": 123,
   "metadata": {},
   "outputs": [],
   "source": [
    "flats_dataset['price_per_metr'] = flats_dataset['price_per_metr'].apply(lambda x: int(''.join(x[0:7].split(' '))))"
   ]
  },
  {
   "cell_type": "code",
   "execution_count": 124,
   "metadata": {},
   "outputs": [],
   "source": [
    "def get_prices_from_street(x):\n",
    "    prices = []\n",
    "    for street, price in zip(flats_dataset['street'], flats_dataset['price_per_metr']):\n",
    "        if street in x:\n",
    "            prices.append(price)\n",
    "    if len(prices) == 0:\n",
    "        return None\n",
    "    else:\n",
    "        return np.array(prices).mean()"
   ]
  },
  {
   "cell_type": "code",
   "execution_count": 126,
   "metadata": {},
   "outputs": [],
   "source": [
    "houses_df['price'] = houses_df['Улица'].apply(lambda x: get_prices_from_street(x)) "
   ]
  },
  {
   "cell_type": "code",
   "execution_count": 128,
   "metadata": {},
   "outputs": [],
   "source": [
    "houses_df['price'] = houses_df['price'].fillna(0)"
   ]
  },
  {
   "cell_type": "code",
   "execution_count": null,
   "metadata": {
    "collapsed": true
   },
   "outputs": [],
   "source": [
    "houses_df['price'].apply()"
   ]
  },
  {
   "cell_type": "code",
   "execution_count": 131,
   "metadata": {},
   "outputs": [],
   "source": [
    "houses_df.rename(columns={'Улица': 'street', 'Район': 'raion'}, inplace=True)"
   ]
  },
  {
   "cell_type": "code",
   "execution_count": 136,
   "metadata": {},
   "outputs": [],
   "source": [
    "def fill_na_price(raion, price):\n",
    "    if price != 0:\n",
    "        return price\n",
    "    else:\n",
    "        if raion in area_price_map:\n",
    "            return area_price_map[raion]\n",
    "        else:\n",
    "            return 100000"
   ]
  },
  {
   "cell_type": "code",
   "execution_count": 138,
   "metadata": {},
   "outputs": [],
   "source": [
    "houses_df['price'] = houses_df.apply(lambda x: fill_na_price(x.raion, x.price), axis=1)"
   ]
  },
  {
   "cell_type": "code",
   "execution_count": 150,
   "metadata": {
    "collapsed": true
   },
   "outputs": [],
   "source": [
    "houses_df['price'].to_csv('prices.csv', index=False)"
   ]
  },
  {
   "cell_type": "code",
   "execution_count": 143,
   "metadata": {
    "collapsed": true
   },
   "outputs": [],
   "source": [
    "from sklearn.preprocessing import StandardScaler"
   ]
  },
  {
   "cell_type": "code",
   "execution_count": 144,
   "metadata": {},
   "outputs": [
    {
     "name": "stderr",
     "output_type": "stream",
     "text": [
      "C:\\Users\\isafiulin\\AppData\\Local\\Continuum\\Anaconda3\\lib\\site-packages\\sklearn\\preprocessing\\data.py:586: DeprecationWarning: Passing 1d arrays as data is deprecated in 0.17 and will raise ValueError in 0.19. Reshape your data either using X.reshape(-1, 1) if your data has a single feature or X.reshape(1, -1) if it contains a single sample.\n",
      "  warnings.warn(DEPRECATION_MSG_1D, DeprecationWarning)\n",
      "C:\\Users\\isafiulin\\AppData\\Local\\Continuum\\Anaconda3\\lib\\site-packages\\sklearn\\preprocessing\\data.py:649: DeprecationWarning: Passing 1d arrays as data is deprecated in 0.17 and will raise ValueError in 0.19. Reshape your data either using X.reshape(-1, 1) if your data has a single feature or X.reshape(1, -1) if it contains a single sample.\n",
      "  warnings.warn(DEPRECATION_MSG_1D, DeprecationWarning)\n"
     ]
    }
   ],
   "source": [
    "scaler = StandardScaler()\n",
    "scaler.fit(houses_df['price'])\n",
    "houses_df['price'] = scaler.transform(houses_df['price'])"
   ]
  },
  {
   "cell_type": "code",
   "execution_count": 146,
   "metadata": {
    "collapsed": true
   },
   "outputs": [],
   "source": [
    "houses_df = houses_df[(houses_df.lng < 31.1) & (houses_df.lng > 29.6)]\n",
    "houses_df = houses_df[(houses_df.lat < 60.12) & (houses_df.lat > 59.7)]\n",
    "houses_df = houses_df.dropna()"
   ]
  },
  {
   "cell_type": "code",
   "execution_count": 149,
   "metadata": {},
   "outputs": [
    {
     "data": {
      "text/html": [
       "<div>\n",
       "<style>\n",
       "    .dataframe thead tr:only-child th {\n",
       "        text-align: right;\n",
       "    }\n",
       "\n",
       "    .dataframe thead th {\n",
       "        text-align: left;\n",
       "    }\n",
       "\n",
       "    .dataframe tbody tr th {\n",
       "        vertical-align: top;\n",
       "    }\n",
       "</style>\n",
       "<table border=\"1\" class=\"dataframe\">\n",
       "  <thead>\n",
       "    <tr style=\"text-align: right;\">\n",
       "      <th></th>\n",
       "      <th>street</th>\n",
       "      <th>Дом</th>\n",
       "      <th>raion</th>\n",
       "      <th>Количество проживающих</th>\n",
       "      <th>Год постройки</th>\n",
       "      <th>Серия, тип проекта</th>\n",
       "      <th>Общая площадь здания</th>\n",
       "      <th>Число этажей</th>\n",
       "      <th>Число лестниц</th>\n",
       "      <th>lng</th>\n",
       "      <th>lat</th>\n",
       "      <th>price</th>\n",
       "    </tr>\n",
       "  </thead>\n",
       "  <tbody>\n",
       "    <tr>\n",
       "      <th>0</th>\n",
       "      <td>Лени Голикова ул.</td>\n",
       "      <td>23</td>\n",
       "      <td>Кировский</td>\n",
       "      <td>213.0</td>\n",
       "      <td>1967</td>\n",
       "      <td>Г-3И</td>\n",
       "      <td>3601.449951</td>\n",
       "      <td>5.0</td>\n",
       "      <td>7.0</td>\n",
       "      <td>30.229946</td>\n",
       "      <td>59.844715</td>\n",
       "      <td>-0.071891</td>\n",
       "    </tr>\n",
       "    <tr>\n",
       "      <th>1</th>\n",
       "      <td>Среднегаванский пр.</td>\n",
       "      <td>14</td>\n",
       "      <td>Василеостровский</td>\n",
       "      <td>69.0</td>\n",
       "      <td>1901</td>\n",
       "      <td>Индивидуальный</td>\n",
       "      <td>1581.380005</td>\n",
       "      <td>6.0</td>\n",
       "      <td>2.0</td>\n",
       "      <td>30.243179</td>\n",
       "      <td>59.930236</td>\n",
       "      <td>0.404150</td>\n",
       "    </tr>\n",
       "    <tr>\n",
       "      <th>2</th>\n",
       "      <td>Рашетова ул.</td>\n",
       "      <td>9</td>\n",
       "      <td>Выборгский</td>\n",
       "      <td>82.0</td>\n",
       "      <td>1965</td>\n",
       "      <td>Индивидуальный</td>\n",
       "      <td>2334.000000</td>\n",
       "      <td>9.0</td>\n",
       "      <td>1.0</td>\n",
       "      <td>30.324209</td>\n",
       "      <td>60.020927</td>\n",
       "      <td>-0.309632</td>\n",
       "    </tr>\n",
       "    <tr>\n",
       "      <th>3</th>\n",
       "      <td>Сердобольская ул.</td>\n",
       "      <td>37</td>\n",
       "      <td>Приморский</td>\n",
       "      <td>60.0</td>\n",
       "      <td>1916</td>\n",
       "      <td>Индивидуальный</td>\n",
       "      <td>1978.150024</td>\n",
       "      <td>5.0</td>\n",
       "      <td>1.0</td>\n",
       "      <td>30.316559</td>\n",
       "      <td>59.989446</td>\n",
       "      <td>0.721086</td>\n",
       "    </tr>\n",
       "    <tr>\n",
       "      <th>4</th>\n",
       "      <td>Флотская ул.</td>\n",
       "      <td>2</td>\n",
       "      <td>Кронштадский</td>\n",
       "      <td>344.0</td>\n",
       "      <td>1900</td>\n",
       "      <td>Индивидуальный</td>\n",
       "      <td>8968.500000</td>\n",
       "      <td>3.0</td>\n",
       "      <td>4.0</td>\n",
       "      <td>30.473965</td>\n",
       "      <td>60.059112</td>\n",
       "      <td>-0.343588</td>\n",
       "    </tr>\n",
       "  </tbody>\n",
       "</table>\n",
       "</div>"
      ],
      "text/plain": [
       "                street Дом             raion  Количество проживающих  \\\n",
       "0    Лени Голикова ул.  23         Кировский                   213.0   \n",
       "1  Среднегаванский пр.  14  Василеостровский                    69.0   \n",
       "2         Рашетова ул.   9        Выборгский                    82.0   \n",
       "3    Сердобольская ул.  37        Приморский                    60.0   \n",
       "4         Флотская ул.   2      Кронштадский                   344.0   \n",
       "\n",
       "  Год постройки Серия, тип проекта  Общая площадь здания  Число этажей  \\\n",
       "0          1967               Г-3И           3601.449951           5.0   \n",
       "1          1901     Индивидуальный           1581.380005           6.0   \n",
       "2          1965     Индивидуальный           2334.000000           9.0   \n",
       "3          1916     Индивидуальный           1978.150024           5.0   \n",
       "4          1900     Индивидуальный           8968.500000           3.0   \n",
       "\n",
       "   Число лестниц        lng        lat     price  \n",
       "0            7.0  30.229946  59.844715 -0.071891  \n",
       "1            2.0  30.243179  59.930236  0.404150  \n",
       "2            1.0  30.324209  60.020927 -0.309632  \n",
       "3            1.0  30.316559  59.989446  0.721086  \n",
       "4            4.0  30.473965  60.059112 -0.343588  "
      ]
     },
     "execution_count": 149,
     "metadata": {},
     "output_type": "execute_result"
    }
   ],
   "source": [
    "houses_df.head()"
   ]
  },
  {
   "cell_type": "code",
   "execution_count": 147,
   "metadata": {},
   "outputs": [
    {
     "data": {
      "text/plain": [
       "(17197, 12)"
      ]
     },
     "execution_count": 147,
     "metadata": {},
     "output_type": "execute_result"
    }
   ],
   "source": [
    "houses_df.shape"
   ]
  },
  {
   "cell_type": "code",
   "execution_count": 148,
   "metadata": {},
   "outputs": [
    {
     "data": {
      "text/plain": [
       "(array([  1.20000000e+01,   1.80000000e+01,   0.00000000e+00,\n",
       "          0.00000000e+00,   0.00000000e+00,   0.00000000e+00,\n",
       "          0.00000000e+00,   0.00000000e+00,   0.00000000e+00,\n",
       "          1.90000000e+01,   2.80000000e+01,   5.82000000e+02,\n",
       "          2.18000000e+02,   2.45000000e+02,   8.28000000e+02,\n",
       "          1.84000000e+02,   9.60000000e+02,   3.62000000e+02,\n",
       "          1.26100000e+03,   5.07000000e+02,   2.17500000e+03,\n",
       "          6.07000000e+02,   8.92000000e+02,   5.24000000e+02,\n",
       "          5.48000000e+02,   2.77000000e+02,   4.48000000e+02,\n",
       "          6.20000000e+01,   5.75000000e+02,   1.79300000e+03,\n",
       "          1.34000000e+02,   1.84000000e+02,   1.28000000e+02,\n",
       "          2.72000000e+02,   2.03000000e+02,   2.38000000e+02,\n",
       "          1.12600000e+03,   1.15000000e+02,   7.40000000e+01,\n",
       "          1.48000000e+02,   6.50000000e+01,   5.52000000e+02,\n",
       "          1.12000000e+02,   2.70000000e+01,   2.60000000e+01,\n",
       "          9.00000000e+00,   7.80000000e+01,   5.30000000e+01,\n",
       "          6.00000000e+00,   2.80000000e+01,   4.10000000e+01,\n",
       "          0.00000000e+00,   8.80000000e+01,   3.00000000e+00,\n",
       "          0.00000000e+00,   0.00000000e+00,   4.00000000e+00,\n",
       "          0.00000000e+00,   4.50000000e+01,   0.00000000e+00,\n",
       "          0.00000000e+00,   8.40000000e+01,   0.00000000e+00,\n",
       "          2.00000000e+01,   4.20000000e+01,   0.00000000e+00,\n",
       "          1.00000000e+00,   2.90000000e+01,   5.00000000e+00,\n",
       "          1.60000000e+01,   3.00000000e+00,   0.00000000e+00,\n",
       "          0.00000000e+00,   8.00000000e+00,   0.00000000e+00,\n",
       "          1.00000000e+01,   2.10000000e+01,   2.00000000e+00,\n",
       "          0.00000000e+00,   0.00000000e+00,   0.00000000e+00,\n",
       "          1.20000000e+01,   1.50000000e+01,   0.00000000e+00,\n",
       "          0.00000000e+00,   0.00000000e+00,   8.00000000e+00,\n",
       "          0.00000000e+00,   0.00000000e+00,   0.00000000e+00,\n",
       "          3.10000000e+01,   0.00000000e+00,   0.00000000e+00,\n",
       "          2.00000000e+00,   0.00000000e+00,   0.00000000e+00,\n",
       "          0.00000000e+00,   0.00000000e+00,   0.00000000e+00,\n",
       "          4.00000000e+00]),\n",
       " array([-2.35510065, -2.26282281, -2.17054497, -2.07826713, -1.98598929,\n",
       "        -1.89371145, -1.80143361, -1.70915577, -1.61687793, -1.52460009,\n",
       "        -1.43232225, -1.34004441, -1.24776657, -1.15548873, -1.0632109 ,\n",
       "        -0.97093306, -0.87865522, -0.78637738, -0.69409954, -0.6018217 ,\n",
       "        -0.50954386, -0.41726602, -0.32498818, -0.23271034, -0.1404325 ,\n",
       "        -0.04815466,  0.04412318,  0.13640102,  0.22867886,  0.3209567 ,\n",
       "         0.41323454,  0.50551238,  0.59779022,  0.69006806,  0.7823459 ,\n",
       "         0.87462374,  0.96690158,  1.05917942,  1.15145726,  1.2437351 ,\n",
       "         1.33601293,  1.42829077,  1.52056861,  1.61284645,  1.70512429,\n",
       "         1.79740213,  1.88967997,  1.98195781,  2.07423565,  2.16651349,\n",
       "         2.25879133,  2.35106917,  2.44334701,  2.53562485,  2.62790269,\n",
       "         2.72018053,  2.81245837,  2.90473621,  2.99701405,  3.08929189,\n",
       "         3.18156973,  3.27384757,  3.36612541,  3.45840325,  3.55068109,\n",
       "         3.64295893,  3.73523676,  3.8275146 ,  3.91979244,  4.01207028,\n",
       "         4.10434812,  4.19662596,  4.2889038 ,  4.38118164,  4.47345948,\n",
       "         4.56573732,  4.65801516,  4.750293  ,  4.84257084,  4.93484868,\n",
       "         5.02712652,  5.11940436,  5.2116822 ,  5.30396004,  5.39623788,\n",
       "         5.48851572,  5.58079356,  5.6730714 ,  5.76534924,  5.85762708,\n",
       "         5.94990492,  6.04218276,  6.13446059,  6.22673843,  6.31901627,\n",
       "         6.41129411,  6.50357195,  6.59584979,  6.68812763,  6.78040547,\n",
       "         6.87268331]),\n",
       " <a list of 100 Patch objects>)"
      ]
     },
     "execution_count": 148,
     "metadata": {},
     "output_type": "execute_result"
    },
    {
     "data": {
      "image/png": "[encoded data removed]",
      "text/plain": [
       "<matplotlib.figure.Figure at 0x21ba5989978>"
      ]
     },
     "metadata": {},
     "output_type": "display_data"
    }
   ],
   "source": [
    "plt.hist(houses_df['price'], bins=100)"
   ]
  },
  {
   "cell_type": "code",
   "execution_count": 61,
   "metadata": {},
   "outputs": [
    {
     "data": {
      "text/plain": [
       "['127 451 руб./м2\\n                ',\n",
       " '146 226 руб./м2\\n                ',\n",
       " '128 350 руб./м2\\n                ']"
      ]
     },
     "execution_count": 61,
     "metadata": {},
     "output_type": "execute_result"
    }
   ],
   "source": [
    "get_prices_from_street(houses_df['Улица'][30])"
   ]
  },
  {
   "cell_type": "code",
   "execution_count": 98,
   "metadata": {},
   "outputs": [
    {
     "data": {
      "text/plain": [
       "[]"
      ]
     },
     "execution_count": 98,
     "metadata": {},
     "output_type": "execute_result"
    }
   ],
   "source": [
    "requests.get('https://maps.googleapis.com/maps/api/geocode/json?address='+'улица Нахимова, 21'+\\\n",
    "                        ', Санкт-Петербург, Россия').json()['results']"
   ]
  },
  {
   "cell_type": "code",
   "execution_count": 89,
   "metadata": {},
   "outputs": [
    {
     "data": {
      "text/plain": [
       "'проспект Королева, 71к1'"
      ]
     },
     "execution_count": 89,
     "metadata": {},
     "output_type": "execute_result"
    }
   ],
   "source": [
    "flats_dataset['short_address'][0]"
   ]
  },
  {
   "cell_type": "code",
   "execution_count": 87,
   "metadata": {},
   "outputs": [
    {
     "data": {
      "text/plain": [
       "0     []\n",
       "1     []\n",
       "2     []\n",
       "3     []\n",
       "4     []\n",
       "5     []\n",
       "6     []\n",
       "7     []\n",
       "8     []\n",
       "9     []\n",
       "10    []\n",
       "11    []\n",
       "12    []\n",
       "13    []\n",
       "14    []\n",
       "15    []\n",
       "16    []\n",
       "17    []\n",
       "18    []\n",
       "19    []\n",
       "20    []\n",
       "21    []\n",
       "22    []\n",
       "23    []\n",
       "24    []\n",
       "25    []\n",
       "26    []\n",
       "27    []\n",
       "28    []\n",
       "29    []\n",
       "Name: short_address, dtype: object"
      ]
     },
     "execution_count": 87,
     "metadata": {},
     "output_type": "execute_result"
    }
   ],
   "source": [
    "flats_dataset['short_address'][:30].apply(lambda n: requests.get('https://maps.googleapis.com/maps/api/geocode/json?address='+n+\\\n",
    "                        ', Санкт-Петербург, Россия').json()['results'])"
   ]
  },
  {
   "cell_type": "code",
   "execution_count": null,
   "metadata": {
    "collapsed": true
   },
   "outputs": [],
   "source": []
  },
  {
   "cell_type": "code",
   "execution_count": null,
   "metadata": {
    "collapsed": true
   },
   "outputs": [],
   "source": []
  },
  {
   "cell_type": "code",
   "execution_count": null,
   "metadata": {
    "collapsed": true
   },
   "outputs": [],
   "source": []
  },
  {
   "cell_type": "code",
   "execution_count": null,
   "metadata": {
    "collapsed": true
   },
   "outputs": [],
   "source": []
  },
  {
   "cell_type": "code",
   "execution_count": null,
   "metadata": {
    "collapsed": true
   },
   "outputs": [],
   "source": []
  },
  {
   "cell_type": "code",
   "execution_count": null,
   "metadata": {
    "collapsed": true
   },
   "outputs": [],
   "source": []
  }
 ],
 "metadata": {
  "kernelspec": {
   "display_name": "Python 3",
   "language": "python",
   "name": "python3"
  },
  "language_info": {
   "codemirror_mode": {
    "name": "ipython",
    "version": 3
   },
   "file_extension": ".py",
   "mimetype": "text/x-python",
   "name": "python",
   "nbconvert_exporter": "python",
   "pygments_lexer": "ipython3",
   "version": "3.6.1"
  }
 },
 "nbformat": 4,
 "nbformat_minor": 2
}
