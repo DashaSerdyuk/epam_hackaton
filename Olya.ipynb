{
 "cells": [
  {
   "cell_type": "code",
   "execution_count": 13,
   "metadata": {
    "collapsed": true
   },
   "outputs": [],
   "source": [
    "import pandas as pd\n",
    "import numpy as np\n",
    "import matplotlib.pyplot as plt\n",
    "%matplotlib inline\n",
    "#crimes_ny = pd.read_csv('data_criminality_ny.csv')\n",
    "#crimes_spb = pd.read_csv('data_criminality_spb.csv')\n",
    "#gov_spb = pd.read_csv('gov_spb.csv')\n",
    "gov_ny = pd.read_csv('gov_ny.csv')"
   ]
  },
  {
   "cell_type": "code",
   "execution_count": 14,
   "metadata": {},
   "outputs": [],
   "source": [
    "def score_matrix(df, r=1):\n",
    "    one_km = 0.008913\n",
    "    km = one_km * r\n",
    "    all_scores = []\n",
    "    for lat in np.arange(df['Latitude'].min(), df['Latitude'].max(), 2 * km):\n",
    "        for long in np.arange(df['Longitude'].min(), df['Longitude'].max(), 2 * km):\n",
    "            tmp = len(df[(df.Latitude < lat + km) & (df.Latitude > lat - km) &\n",
    "                                          (df.Longitude < long + km) & (df.Longitude > long - km)])\n",
    "            if tmp != 0:\n",
    "                all_scores.append(tmp)\n",
    "    \n",
    "    return all_scores"
   ]
  },
  {
   "cell_type": "code",
   "execution_count": 15,
   "metadata": {
    "collapsed": true
   },
   "outputs": [],
   "source": [
    "def score(df, lat, long, all_mean, all_std,  r=1):\n",
    "    one_km = 0.008913\n",
    "    km = one_km * r\n",
    "    \n",
    "    result = (np.log(len(df[(df.Latitude < lat + km) & (df.Latitude > lat - km) &\n",
    "        (df.Longitude < long + km) & (df.Longitude > long - km)]) + 1) - all_mean) / all_std\n",
    "    \n",
    "    return result"
   ]
  },
  {
   "cell_type": "code",
   "execution_count": 19,
   "metadata": {},
   "outputs": [
    {
     "data": {
      "text/plain": [
       "(array([ 86.,  68.,  61.,  60.,  74.,  25.,  13.,   3.,   1.,   1.]),\n",
       " array([-1.31855003, -0.8225007 , -0.32645136,  0.16959797,  0.6656473 ,\n",
       "         1.16169663,  1.65774596,  2.15379529,  2.64984463,  3.14589396,\n",
       "         3.64194329]),\n",
       " <a list of 10 Patch objects>)"
      ]
     },
     "execution_count": 19,
     "metadata": {},
     "output_type": "execute_result"
    },
    {
     "data": {
      "image/png": "[encoded data removed]",
      "text/plain": [
       "<matplotlib.figure.Figure at 0x119038780>"
      ]
     },
     "metadata": {},
     "output_type": "display_data"
    }
   ],
   "source": [
    "all_scores = score_matrix(crimes_spb)\n",
    "plt.hist((np.log(all_scores) - np.log(all_scores).mean()) / np.log(all_scores).std())"
   ]
  },
  {
   "cell_type": "code",
   "execution_count": 17,
   "metadata": {},
   "outputs": [
    {
     "data": {
      "text/plain": [
       "-0.28992267745119488"
      ]
     },
     "execution_count": 17,
     "metadata": {},
     "output_type": "execute_result"
    }
   ],
   "source": [
    "lat = 59.963786\n",
    "long = 30.298661\n",
    "score(crimes_spb, lat, long, np.log(all_scores).mean(), np.log(all_scores).std())"
   ]
  },
  {
   "cell_type": "code",
   "execution_count": 18,
   "metadata": {},
   "outputs": [
    {
     "data": {
      "text/html": [
       "<div>\n",
       "<table border=\"1\" class=\"dataframe\">\n",
       "  <thead>\n",
       "    <tr style=\"text-align: right;\">\n",
       "      <th></th>\n",
       "      <th>﻿Улица</th>\n",
       "      <th>Дом</th>\n",
       "      <th>Район</th>\n",
       "      <th>Количество проживающих</th>\n",
       "      <th>Год постройки</th>\n",
       "      <th>Серия, тип проекта</th>\n",
       "      <th>Общая площадь здания</th>\n",
       "      <th>Число этажей</th>\n",
       "      <th>Число лестниц</th>\n",
       "      <th>lng</th>\n",
       "      <th>lat</th>\n",
       "    </tr>\n",
       "  </thead>\n",
       "  <tbody>\n",
       "    <tr>\n",
       "      <th>0</th>\n",
       "      <td>Лени Голикова ул.</td>\n",
       "      <td>23</td>\n",
       "      <td>Кировский</td>\n",
       "      <td>213.0</td>\n",
       "      <td>1967</td>\n",
       "      <td>Г-3И</td>\n",
       "      <td>3601.449951</td>\n",
       "      <td>5.0</td>\n",
       "      <td>7.0</td>\n",
       "      <td>30.229946</td>\n",
       "      <td>59.844715</td>\n",
       "    </tr>\n",
       "    <tr>\n",
       "      <th>1</th>\n",
       "      <td>Среднегаванский пр.</td>\n",
       "      <td>14</td>\n",
       "      <td>Василеостровский</td>\n",
       "      <td>69.0</td>\n",
       "      <td>1901</td>\n",
       "      <td>Индивидуальный</td>\n",
       "      <td>1581.380005</td>\n",
       "      <td>6.0</td>\n",
       "      <td>2.0</td>\n",
       "      <td>30.243179</td>\n",
       "      <td>59.930236</td>\n",
       "    </tr>\n",
       "    <tr>\n",
       "      <th>2</th>\n",
       "      <td>Рашетова ул.</td>\n",
       "      <td>9</td>\n",
       "      <td>Выборгский</td>\n",
       "      <td>82.0</td>\n",
       "      <td>1965</td>\n",
       "      <td>Индивидуальный</td>\n",
       "      <td>2334.000000</td>\n",
       "      <td>9.0</td>\n",
       "      <td>1.0</td>\n",
       "      <td>30.324209</td>\n",
       "      <td>60.020927</td>\n",
       "    </tr>\n",
       "    <tr>\n",
       "      <th>3</th>\n",
       "      <td>Сердобольская ул.</td>\n",
       "      <td>37</td>\n",
       "      <td>Приморский</td>\n",
       "      <td>60.0</td>\n",
       "      <td>1916</td>\n",
       "      <td>Индивидуальный</td>\n",
       "      <td>1978.150024</td>\n",
       "      <td>5.0</td>\n",
       "      <td>1.0</td>\n",
       "      <td>30.316559</td>\n",
       "      <td>59.989446</td>\n",
       "    </tr>\n",
       "    <tr>\n",
       "      <th>4</th>\n",
       "      <td>Флотская ул.</td>\n",
       "      <td>2</td>\n",
       "      <td>Кронштадский</td>\n",
       "      <td>344.0</td>\n",
       "      <td>1900</td>\n",
       "      <td>Индивидуальный</td>\n",
       "      <td>8968.500000</td>\n",
       "      <td>3.0</td>\n",
       "      <td>4.0</td>\n",
       "      <td>30.473965</td>\n",
       "      <td>60.059112</td>\n",
       "    </tr>\n",
       "  </tbody>\n",
       "</table>\n",
       "</div>"
      ],
      "text/plain": [
       "                ﻿Улица Дом             Район  Количество проживающих  \\\n",
       "0    Лени Голикова ул.  23         Кировский                   213.0   \n",
       "1  Среднегаванский пр.  14  Василеостровский                    69.0   \n",
       "2         Рашетова ул.   9        Выборгский                    82.0   \n",
       "3    Сердобольская ул.  37        Приморский                    60.0   \n",
       "4         Флотская ул.   2      Кронштадский                   344.0   \n",
       "\n",
       "  Год постройки Серия, тип проекта  Общая площадь здания  Число этажей  \\\n",
       "0          1967               Г-3И           3601.449951           5.0   \n",
       "1          1901     Индивидуальный           1581.380005           6.0   \n",
       "2          1965     Индивидуальный           2334.000000           9.0   \n",
       "3          1916     Индивидуальный           1978.150024           5.0   \n",
       "4          1900     Индивидуальный           8968.500000           3.0   \n",
       "\n",
       "   Число лестниц        lng        lat  \n",
       "0            7.0  30.229946  59.844715  \n",
       "1            2.0  30.243179  59.930236  \n",
       "2            1.0  30.324209  60.020927  \n",
       "3            1.0  30.316559  59.989446  \n",
       "4            4.0  30.473965  60.059112  "
      ]
     },
     "execution_count": 18,
     "metadata": {},
     "output_type": "execute_result"
    }
   ],
   "source": [
    "houses_df = pd.read_csv('data/OpenData/Технико-экономические паспорта многоквартирных домов.csv')\n",
    "houses_df = houses_df[(houses_df.lng < 31.1) & (houses_df.lng > 29.6)]\n",
    "houses_df = houses_df[(houses_df.lat < 60.12) & (houses_df.lat > 59.7)]\n",
    "houses_df = houses_df.dropna()\n",
    "houses_df.head()"
   ]
  },
  {
   "cell_type": "code",
   "execution_count": 21,
   "metadata": {},
   "outputs": [
    {
     "data": {
      "text/html": [
       "<div>\n",
       "<table border=\"1\" class=\"dataframe\">\n",
       "  <thead>\n",
       "    <tr style=\"text-align: right;\">\n",
       "      <th></th>\n",
       "      <th>lng</th>\n",
       "      <th>lat</th>\n",
       "      <th>criminality_score</th>\n",
       "    </tr>\n",
       "  </thead>\n",
       "  <tbody>\n",
       "    <tr>\n",
       "      <th>0</th>\n",
       "      <td>30.229946</td>\n",
       "      <td>59.844715</td>\n",
       "      <td>0.679315</td>\n",
       "    </tr>\n",
       "    <tr>\n",
       "      <th>1</th>\n",
       "      <td>30.243179</td>\n",
       "      <td>59.930236</td>\n",
       "      <td>0.910500</td>\n",
       "    </tr>\n",
       "    <tr>\n",
       "      <th>2</th>\n",
       "      <td>30.324209</td>\n",
       "      <td>60.020927</td>\n",
       "      <td>0.910500</td>\n",
       "    </tr>\n",
       "    <tr>\n",
       "      <th>3</th>\n",
       "      <td>30.316559</td>\n",
       "      <td>59.989446</td>\n",
       "      <td>0.910500</td>\n",
       "    </tr>\n",
       "    <tr>\n",
       "      <th>4</th>\n",
       "      <td>30.473965</td>\n",
       "      <td>60.059112</td>\n",
       "      <td>-1.318550</td>\n",
       "    </tr>\n",
       "  </tbody>\n",
       "</table>\n",
       "</div>"
      ],
      "text/plain": [
       "         lng        lat  criminality_score\n",
       "0  30.229946  59.844715           0.679315\n",
       "1  30.243179  59.930236           0.910500\n",
       "2  30.324209  60.020927           0.910500\n",
       "3  30.316559  59.989446           0.910500\n",
       "4  30.473965  60.059112          -1.318550"
      ]
     },
     "execution_count": 21,
     "metadata": {},
     "output_type": "execute_result"
    }
   ],
   "source": [
    "out_df = pd.DataFrame()\n",
    "out_df['lng'] = houses_df['lng']\n",
    "out_df['lat'] = houses_df['lat']\n",
    "\n",
    "all_scores = score_matrix(crimes_spb)\n",
    "for i in out_df.index:\n",
    "    out_df.loc[i, 'criminality_score'] = score(crimes_spb, out_df.loc[i, 'lat'], out_df.loc[i, 'lng'], np.log(all_scores).mean(), np.log(all_scores).std())\n",
    "out_df.head()"
   ]
  },
  {
   "cell_type": "code",
   "execution_count": 24,
   "metadata": {},
   "outputs": [
    {
     "data": {
      "text/html": [
       "<div>\n",
       "<table border=\"1\" class=\"dataframe\">\n",
       "  <thead>\n",
       "    <tr style=\"text-align: right;\">\n",
       "      <th></th>\n",
       "      <th>lng</th>\n",
       "      <th>lat</th>\n",
       "      <th>criminality_score</th>\n",
       "      <th>complaints_score</th>\n",
       "    </tr>\n",
       "  </thead>\n",
       "  <tbody>\n",
       "    <tr>\n",
       "      <th>0</th>\n",
       "      <td>30.229946</td>\n",
       "      <td>59.844715</td>\n",
       "      <td>0.679315</td>\n",
       "      <td>1.117699</td>\n",
       "    </tr>\n",
       "    <tr>\n",
       "      <th>1</th>\n",
       "      <td>30.243179</td>\n",
       "      <td>59.930236</td>\n",
       "      <td>0.910500</td>\n",
       "      <td>1.172718</td>\n",
       "    </tr>\n",
       "    <tr>\n",
       "      <th>2</th>\n",
       "      <td>30.324209</td>\n",
       "      <td>60.020927</td>\n",
       "      <td>0.910500</td>\n",
       "      <td>1.223731</td>\n",
       "    </tr>\n",
       "    <tr>\n",
       "      <th>3</th>\n",
       "      <td>30.316559</td>\n",
       "      <td>59.989446</td>\n",
       "      <td>0.910500</td>\n",
       "      <td>1.240615</td>\n",
       "    </tr>\n",
       "    <tr>\n",
       "      <th>4</th>\n",
       "      <td>30.473965</td>\n",
       "      <td>60.059112</td>\n",
       "      <td>-1.318550</td>\n",
       "      <td>-1.798249</td>\n",
       "    </tr>\n",
       "  </tbody>\n",
       "</table>\n",
       "</div>"
      ],
      "text/plain": [
       "         lng        lat  criminality_score  complaints_score\n",
       "0  30.229946  59.844715           0.679315          1.117699\n",
       "1  30.243179  59.930236           0.910500          1.172718\n",
       "2  30.324209  60.020927           0.910500          1.223731\n",
       "3  30.316559  59.989446           0.910500          1.240615\n",
       "4  30.473965  60.059112          -1.318550         -1.798249"
      ]
     },
     "execution_count": 24,
     "metadata": {},
     "output_type": "execute_result"
    }
   ],
   "source": [
    "#all_scores = score_matrix(gov_spb)\n",
    "for i in out_df.index:\n",
    "    out_df.loc[i, 'complaints_score'] = score(gov_spb, out_df.loc[i, 'lat'], out_df.loc[i, 'lng'], np.log(all_scores).mean(), np.log(all_scores).std())\n",
    "out_df.head()"
   ]
  },
  {
   "cell_type": "code",
   "execution_count": 25,
   "metadata": {
    "collapsed": true
   },
   "outputs": [],
   "source": [
    "out_df.to_csv('olya_features.csv')"
   ]
  },
  {
   "cell_type": "code",
   "execution_count": null,
   "metadata": {
    "collapsed": true
   },
   "outputs": [],
   "source": []
  }
 ],
 "metadata": {
  "kernelspec": {
   "display_name": "Python 3",
   "language": "python",
   "name": "python3"
  },
  "language_info": {
   "codemirror_mode": {
    "name": "ipython",
    "version": 3
   },
   "file_extension": ".py",
   "mimetype": "text/x-python",
   "name": "python",
   "nbconvert_exporter": "python",
   "pygments_lexer": "ipython3",
   "version": "3.5.2"
  }
 },
 "nbformat": 4,
 "nbformat_minor": 2
}
