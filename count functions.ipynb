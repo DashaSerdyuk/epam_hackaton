{
 "cells": [
  {
   "cell_type": "code",
   "execution_count": 68,
   "metadata": {},
   "outputs": [],
   "source": [
    "#closest to location\n",
    "# metrics os closiness by vector\n",
    "\n",
    "import pandas as pd\n",
    "import numpy as np\n",
    "import random\n",
    "import math\n",
    "import scipy.spatial.distance as ssd"
   ]
  },
  {
   "cell_type": "code",
   "execution_count": 37,
   "metadata": {},
   "outputs": [],
   "source": [
    "ls = [{'lat':59.940069, 'lon': 30.320465, 'value':5}, {'lat':59.640069, 'lon': 30.420465, 'value':10}]\n",
    "\n",
    "for i in np.arange(0.0, 1.0, 0.01):\n",
    "    ls.append({'lat':59.9400 + i, 'lon': 30.320465+i, 'value': random.randint(0,15)})\n",
    "    \n",
    "data = pd.DataFrame(ls)"
   ]
  },
  {
   "cell_type": "code",
   "execution_count": 38,
   "metadata": {},
   "outputs": [
    {
     "data": {
      "text/html": [
       "<div>\n",
       "<style>\n",
       "    .dataframe thead tr:only-child th {\n",
       "        text-align: right;\n",
       "    }\n",
       "\n",
       "    .dataframe thead th {\n",
       "        text-align: left;\n",
       "    }\n",
       "\n",
       "    .dataframe tbody tr th {\n",
       "        vertical-align: top;\n",
       "    }\n",
       "</style>\n",
       "<table border=\"1\" class=\"dataframe\">\n",
       "  <thead>\n",
       "    <tr style=\"text-align: right;\">\n",
       "      <th></th>\n",
       "      <th>lat</th>\n",
       "      <th>lon</th>\n",
       "      <th>value</th>\n",
       "    </tr>\n",
       "  </thead>\n",
       "  <tbody>\n",
       "    <tr>\n",
       "      <th>0</th>\n",
       "      <td>59.940069</td>\n",
       "      <td>30.320465</td>\n",
       "      <td>5</td>\n",
       "    </tr>\n",
       "    <tr>\n",
       "      <th>1</th>\n",
       "      <td>59.640069</td>\n",
       "      <td>30.420465</td>\n",
       "      <td>10</td>\n",
       "    </tr>\n",
       "    <tr>\n",
       "      <th>2</th>\n",
       "      <td>59.940000</td>\n",
       "      <td>30.320465</td>\n",
       "      <td>7</td>\n",
       "    </tr>\n",
       "    <tr>\n",
       "      <th>3</th>\n",
       "      <td>59.950000</td>\n",
       "      <td>30.330465</td>\n",
       "      <td>3</td>\n",
       "    </tr>\n",
       "    <tr>\n",
       "      <th>4</th>\n",
       "      <td>59.960000</td>\n",
       "      <td>30.340465</td>\n",
       "      <td>8</td>\n",
       "    </tr>\n",
       "  </tbody>\n",
       "</table>\n",
       "</div>"
      ],
      "text/plain": [
       "         lat        lon  value\n",
       "0  59.940069  30.320465      5\n",
       "1  59.640069  30.420465     10\n",
       "2  59.940000  30.320465      7\n",
       "3  59.950000  30.330465      3\n",
       "4  59.960000  30.340465      8"
      ]
     },
     "execution_count": 38,
     "metadata": {},
     "output_type": "execute_result"
    }
   ],
   "source": [
    "data.head()"
   ]
  },
  {
   "cell_type": "code",
   "execution_count": 39,
   "metadata": {},
   "outputs": [],
   "source": [
    "lats = data['lat']\n",
    "lons = data['lon']\n",
    "data['location'] = list(zip(data['lat'], data['lon']))\n",
    "\n",
    "def find_closest_location(df, lat, lon):\n",
    "    if (lat, lon) in df['location']:\n",
    "        return lat, lon\n",
    "    df['evc'] = df['location'].map(lambda x: math.sqrt((x[0]-lat)**2 + (x[1]-lon)**2))\n",
    "    \n",
    "    df = df.sort_values(['evc'], ascending=True)\n",
    "    if len(df) == 0:\n",
    "        return None, None\n",
    "    return df.iloc[0]['location']"
   ]
  },
  {
   "cell_type": "code",
   "execution_count": 40,
   "metadata": {},
   "outputs": [
    {
     "data": {
      "text/plain": [
       "(59.949999999999996, 30.330465)"
      ]
     },
     "execution_count": 40,
     "metadata": {},
     "output_type": "execute_result"
    }
   ],
   "source": [
    "find_closest_location(data, 59.940069, 30.340465)"
   ]
  },
  {
   "cell_type": "code",
   "execution_count": null,
   "metadata": {},
   "outputs": [],
   "source": []
  },
  {
   "cell_type": "code",
   "execution_count": 47,
   "metadata": {},
   "outputs": [],
   "source": [
    "features = [{'lat':59.940069, 'lon': 30.320465, 'f1':5, 'f2':8}, {'lat':59.640069, 'lon': 30.420465, 'f1':10, 'f2':2}]\n",
    "\n",
    "for i in np.arange(0.0, 1.0, 0.01):\n",
    "    features.append({'lat':59.9400 + i, 'lon': 30.320465+i, 'f1': random.randint(0,15), 'f2': random.randint(0,15)})\n",
    "    \n",
    "data2= pd.DataFrame(features)"
   ]
  },
  {
   "cell_type": "code",
   "execution_count": 137,
   "metadata": {},
   "outputs": [],
   "source": [
    "def prepare(data2):\n",
    "    data2['location'] = list(zip(data2['lat'], data['lon']))\n",
    "    del data2['lat']\n",
    "    del data2['lon']\n",
    "    feature_columns = [x for x in data2.columns if x!= 'location']\n",
    "    return data2, feature_columns"
   ]
  },
  {
   "cell_type": "code",
   "execution_count": 142,
   "metadata": {},
   "outputs": [],
   "source": [
    "def count_distances(df, columns, location, mode):\n",
    "    vdf = df[df['location'] == location]\n",
    "    vector = vdf[columns].as_matrix()\n",
    "    matrix = df[columns].as_matrix()\n",
    "    if mode == 'cos':\n",
    "        res = count_cosine(matrix, vector)\n",
    "    else:\n",
    "        res = count_euclid(matrix, vector)\n",
    "    df['metrics'] = res\n",
    "    df = df.sort_values(['metrics'])\n",
    "    return df.drop(df.index[[0]])"
   ]
  },
  {
   "cell_type": "code",
   "execution_count": 143,
   "metadata": {},
   "outputs": [],
   "source": [
    "def count_cosine(matrix, vector):\n",
    "    cos = []\n",
    "    for i in matrix:\n",
    "        cos.append(ssd.cosine(i, vector))\n",
    "    return cos"
   ]
  },
  {
   "cell_type": "code",
   "execution_count": 144,
   "metadata": {},
   "outputs": [],
   "source": [
    "def count_euclid(matrix, vector):\n",
    "    cos = []\n",
    "    for i in matrix:\n",
    "        cos.append(ssd.euclidean(i, vector))\n",
    "    return cos"
   ]
  },
  {
   "cell_type": "code",
   "execution_count": 145,
   "metadata": {},
   "outputs": [],
   "source": [
    "d = count_distances(data2, feature_columns,  (59.949999999999996, 30.330465), 'cos')"
   ]
  },
  {
   "cell_type": "code",
   "execution_count": 146,
   "metadata": {},
   "outputs": [
    {
     "data": {
      "text/html": [
       "<div>\n",
       "<style>\n",
       "    .dataframe thead tr:only-child th {\n",
       "        text-align: right;\n",
       "    }\n",
       "\n",
       "    .dataframe thead th {\n",
       "        text-align: left;\n",
       "    }\n",
       "\n",
       "    .dataframe tbody tr th {\n",
       "        vertical-align: top;\n",
       "    }\n",
       "</style>\n",
       "<table border=\"1\" class=\"dataframe\">\n",
       "  <thead>\n",
       "    <tr style=\"text-align: right;\">\n",
       "      <th></th>\n",
       "      <th>f1</th>\n",
       "      <th>f2</th>\n",
       "      <th>location</th>\n",
       "      <th>metrics</th>\n",
       "    </tr>\n",
       "  </thead>\n",
       "  <tbody>\n",
       "    <tr>\n",
       "      <th>7</th>\n",
       "      <td>7</td>\n",
       "      <td>4</td>\n",
       "      <td>(59.99, 30.370465)</td>\n",
       "      <td>0.000040</td>\n",
       "    </tr>\n",
       "    <tr>\n",
       "      <th>86</th>\n",
       "      <td>10</td>\n",
       "      <td>6</td>\n",
       "      <td>(60.78, 31.160465)</td>\n",
       "      <td>0.000076</td>\n",
       "    </tr>\n",
       "    <tr>\n",
       "      <th>56</th>\n",
       "      <td>9</td>\n",
       "      <td>5</td>\n",
       "      <td>(60.48, 30.860465)</td>\n",
       "      <td>0.000220</td>\n",
       "    </tr>\n",
       "    <tr>\n",
       "      <th>57</th>\n",
       "      <td>13</td>\n",
       "      <td>7</td>\n",
       "      <td>(60.49, 30.870465)</td>\n",
       "      <td>0.000582</td>\n",
       "    </tr>\n",
       "    <tr>\n",
       "      <th>28</th>\n",
       "      <td>12</td>\n",
       "      <td>8</td>\n",
       "      <td>(60.2, 30.580465)</td>\n",
       "      <td>0.001795</td>\n",
       "    </tr>\n",
       "  </tbody>\n",
       "</table>\n",
       "</div>"
      ],
      "text/plain": [
       "    f1  f2            location   metrics\n",
       "7    7   4  (59.99, 30.370465)  0.000040\n",
       "86  10   6  (60.78, 31.160465)  0.000076\n",
       "56   9   5  (60.48, 30.860465)  0.000220\n",
       "57  13   7  (60.49, 30.870465)  0.000582\n",
       "28  12   8   (60.2, 30.580465)  0.001795"
      ]
     },
     "execution_count": 146,
     "metadata": {},
     "output_type": "execute_result"
    }
   ],
   "source": [
    "d.head()"
   ]
  }
 ],
 "metadata": {
  "anaconda-cloud": {},
  "kernelspec": {
   "display_name": "Python [conda root]",
   "language": "python",
   "name": "conda-root-py"
  },
  "language_info": {
   "codemirror_mode": {
    "name": "ipython",
    "version": 3
   },
   "file_extension": ".py",
   "mimetype": "text/x-python",
   "name": "python",
   "nbconvert_exporter": "python",
   "pygments_lexer": "ipython3",
   "version": "3.5.2"
  }
 },
 "nbformat": 4,
 "nbformat_minor": 2
}
