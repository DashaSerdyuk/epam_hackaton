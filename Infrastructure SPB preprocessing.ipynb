{
 "cells": [
  {
   "cell_type": "code",
   "execution_count": 180,
   "metadata": {
    "collapsed": true
   },
   "outputs": [],
   "source": [
    "import pandas as pd\n",
    "import scipy as sc\n",
    "import numpy as np\n",
    "import matplotlib.pyplot as plt\n",
    "%matplotlib inline"
   ]
  },
  {
   "cell_type": "code",
   "execution_count": 195,
   "metadata": {
    "collapsed": true,
    "scrolled": true
   },
   "outputs": [],
   "source": [
    "shops_SPB = pd.read_csv('/home/ruslan/Programming/Python/Hackathon/data/OpenStreetMap/shops.csv').dropna()\n",
    "shops_SPB.rename(columns={'lat': 'Latitude', 'lon': 'Longitude'}, inplace=True)\n",
    "shops_SPB.drop('name', inplace = True, axis = 1)\n",
    "list_of_food_shops = ['supermarket', 'convenience', 'bakery', 'food', 'seafood', 'milk', 'vegetables']\n",
    "shops_SPB = shops_SPB[shops_SPB['shop'].isin(list_of_food_shops)]"
   ]
  },
  {
   "cell_type": "code",
   "execution_count": 204,
   "metadata": {
    "collapsed": true
   },
   "outputs": [],
   "source": [
    "# rest_NY = pd.read_csv('NY_Restaurants.csv').dropna()\n",
    "amen_SPB = pd.read_csv('/home/ruslan/Programming/Python/Hackathon/data/OpenStreetMap/amenities.csv').dropna()\n",
    "amen_SPB.rename(columns={'lat': 'Latitude', 'lon': 'Longitude'}, inplace=True)\n",
    "\n",
    "list_of_rest = ['restaurant', 'cafe', 'fast_food', 'nightclub', 'food_court']\n",
    "list_of_educ = ['kindergarten', 'university', 'school', 'college', 'language_school', 'sport_school', 'music_school', 'preschool']\n",
    "list_of_infrastr = ['bank', 'fuel', 'cinema', 'theatre', 'police', 'offices', 'training', 'gym', 'parking']\n",
    "list_of_med = ['doctors', 'dentist', 'clinic', 'healthcare', 'hospice', 'rescue_station']\n",
    "\n",
    "\n",
    "rest_SPB = amen_SPB[amen_SPB['amenity'].isin(list_of_rest)]\n",
    "educ_SPB = amen_SPB[amen_SPB['amenity'].isin(list_of_educ)]\n",
    "infrastr_SPB = amen_SPB[amen_SPB['amenity'].isin(list_of_infrastr)]\n",
    "med_SPB = amen_SPB[amen_SPB['amenity'].isin(list_of_med)]\n"
   ]
  },
  {
   "cell_type": "code",
   "execution_count": 218,
   "metadata": {
    "collapsed": true
   },
   "outputs": [],
   "source": [
    "rest_SPB.to_csv('rest_SPB.csv', index = False)\n",
    "educ_SPB.to_csv('educ_SPB.csv', index = False)\n",
    "infrastr_SPB.to_csv('infrastr_SPB.csv', index = False)\n",
    "med_SPB.to_csv('med_SPB.csv', index = False)\n",
    "shops_SPB.to_csv('shops_SPB.csv', index = False)"
   ]
  },
  {
   "cell_type": "code",
   "execution_count": 238,
   "metadata": {
    "scrolled": true
   },
   "outputs": [
    {
     "data": {
      "text/html": [
       "<div>\n",
       "<style>\n",
       "    .dataframe thead tr:only-child th {\n",
       "        text-align: right;\n",
       "    }\n",
       "\n",
       "    .dataframe thead th {\n",
       "        text-align: left;\n",
       "    }\n",
       "\n",
       "    .dataframe tbody tr th {\n",
       "        vertical-align: top;\n",
       "    }\n",
       "</style>\n",
       "<table border=\"1\" class=\"dataframe\">\n",
       "  <thead>\n",
       "    <tr style=\"text-align: right;\">\n",
       "      <th></th>\n",
       "      <th>Longitude</th>\n",
       "      <th>Latitude</th>\n",
       "      <th>food_retail</th>\n",
       "      <th>rest</th>\n",
       "      <th>educ</th>\n",
       "      <th>infrastr</th>\n",
       "      <th>med</th>\n",
       "    </tr>\n",
       "  </thead>\n",
       "  <tbody>\n",
       "    <tr>\n",
       "      <th>17192</th>\n",
       "      <td>30.499496</td>\n",
       "      <td>59.813234</td>\n",
       "      <td>-1</td>\n",
       "      <td>-1</td>\n",
       "      <td>0</td>\n",
       "      <td>0</td>\n",
       "      <td>-1</td>\n",
       "    </tr>\n",
       "    <tr>\n",
       "      <th>17193</th>\n",
       "      <td>30.265992</td>\n",
       "      <td>60.112603</td>\n",
       "      <td>0</td>\n",
       "      <td>-1</td>\n",
       "      <td>0</td>\n",
       "      <td>0</td>\n",
       "      <td>-1</td>\n",
       "    </tr>\n",
       "    <tr>\n",
       "      <th>17194</th>\n",
       "      <td>30.240136</td>\n",
       "      <td>59.849990</td>\n",
       "      <td>1</td>\n",
       "      <td>0</td>\n",
       "      <td>0</td>\n",
       "      <td>1</td>\n",
       "      <td>1</td>\n",
       "    </tr>\n",
       "    <tr>\n",
       "      <th>17195</th>\n",
       "      <td>30.325358</td>\n",
       "      <td>60.015253</td>\n",
       "      <td>1</td>\n",
       "      <td>1</td>\n",
       "      <td>1</td>\n",
       "      <td>1</td>\n",
       "      <td>2</td>\n",
       "    </tr>\n",
       "    <tr>\n",
       "      <th>17196</th>\n",
       "      <td>30.352713</td>\n",
       "      <td>59.949238</td>\n",
       "      <td>2</td>\n",
       "      <td>2</td>\n",
       "      <td>2</td>\n",
       "      <td>2</td>\n",
       "      <td>2</td>\n",
       "    </tr>\n",
       "  </tbody>\n",
       "</table>\n",
       "</div>"
      ],
      "text/plain": [
       "       Longitude   Latitude  food_retail  rest  educ  infrastr  med\n",
       "17192  30.499496  59.813234           -1    -1     0         0   -1\n",
       "17193  30.265992  60.112603            0    -1     0         0   -1\n",
       "17194  30.240136  59.849990            1     0     0         1    1\n",
       "17195  30.325358  60.015253            1     1     1         1    2\n",
       "17196  30.352713  59.949238            2     2     2         2    2"
      ]
     },
     "execution_count": 238,
     "metadata": {},
     "output_type": "execute_result"
    }
   ],
   "source": [
    "# all_SPB = pd.read_csv('olya_features.csv', usecols = [1, 2])\n",
    "# all_SPB.rename(columns={'lat': 'Latitude', 'lng': 'Longitude'}, inplace=True)\n",
    "# all_SPB['food_retail'] = 0; all_SPB['rest'] = 0; all_SPB['educ'] = 0; all_SPB['infrastr'] = 0; all_SPB['med'] = 0;\n",
    "all_SPB.tail()"
   ]
  },
  {
   "cell_type": "code",
   "execution_count": 240,
   "metadata": {
    "collapsed": true
   },
   "outputs": [],
   "source": [
    "#shops\n",
    "sets = [shops_SPB, rest_SPB, educ_SPB, infrastr_SPB, med_SPB]\n",
    "names = ['food_retail', 'rest', 'educ', 'infrastr', 'med']\n",
    "\n",
    "for j in range(len(sets)):\n",
    "    all_scores = score_matrix(sets[j])\n",
    "    for i in range(len(all_SPB)):\n",
    "        lat = all_SPB.iloc[i, 1]\n",
    "        long = all_SPB.iloc[i, 0]\n",
    "        all_SPB.iloc[i, 2 + j] = score(sets[j], lat, long, np.log(all_scores).mean(), np.log(all_scores).std())\n",
    "    "
   ]
  },
  {
   "cell_type": "code",
   "execution_count": 241,
   "metadata": {
    "collapsed": true
   },
   "outputs": [],
   "source": [
    "all_SPB.to_csv('all_spb2.csv', index = False)"
   ]
  },
  {
   "cell_type": "code",
   "execution_count": 187,
   "metadata": {
    "collapsed": true
   },
   "outputs": [],
   "source": [
    "def score_matrix(df, r=1):\n",
    "    one_km = 0.008913\n",
    "    km = one_km * r\n",
    "    all_scores = []\n",
    "    for lat in np.arange(df['Latitude'].min(), df['Latitude'].max(), 2 * km):\n",
    "        for long in np.arange(df['Longitude'].min(), df['Longitude'].max(), 2 * km):\n",
    "            tmp = len(df[(df.Latitude < lat + km) & (df.Latitude > lat - km) &\n",
    "                                          (df.Longitude < long + km) & (df.Longitude > long - km)])\n",
    "            if tmp != 0:\n",
    "                all_scores.append(tmp)\n",
    "    \n",
    "    return all_scores"
   ]
  },
  {
   "cell_type": "code",
   "execution_count": 188,
   "metadata": {
    "collapsed": true
   },
   "outputs": [],
   "source": [
    "def score(df, lat, long, all_mean, all_std,  r=1):\n",
    "    one_km = 0.008913\n",
    "    km = one_km * r\n",
    "    \n",
    "    result = (np.log(len(df[(df.Latitude < lat + km) & (df.Latitude > lat - km) &\n",
    "        (df.Longitude < long + km) & (df.Longitude > long - km)]) + 1) - all_mean) / all_std\n",
    "    \n",
    "    return result"
   ]
  }
 ],
 "metadata": {
  "kernelspec": {
   "display_name": "Python 3",
   "language": "python",
   "name": "python3"
  },
  "language_info": {
   "codemirror_mode": {
    "name": "ipython",
    "version": 3
   },
   "file_extension": ".py",
   "mimetype": "text/x-python",
   "name": "python",
   "nbconvert_exporter": "python",
   "pygments_lexer": "ipython3",
   "version": "3.6.3"
  }
 },
 "nbformat": 4,
 "nbformat_minor": 2
}
